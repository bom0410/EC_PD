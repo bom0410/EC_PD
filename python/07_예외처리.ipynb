{
 "cells": [
  {
   "cell_type": "code",
   "execution_count": 3,
   "metadata": {},
   "outputs": [
    {
     "name": "stdout",
     "output_type": "stream",
     "text": [
      "20\n"
     ]
    },
    {
     "ename": "NameError",
     "evalue": "name 'a' is not defined",
     "output_type": "error",
     "traceback": [
      "\u001b[1;31m---------------------------------------------------------------------------\u001b[0m",
      "\u001b[1;31mNameError\u001b[0m                                 Traceback (most recent call last)",
      "\u001b[1;32m<ipython-input-3-deb0aecb1362>\u001b[0m in \u001b[0;36m<module>\u001b[1;34m\u001b[0m\n\u001b[0;32m      1\u001b[0m \u001b[0mprint\u001b[0m\u001b[1;33m(\u001b[0m\u001b[1;36m20\u001b[0m\u001b[1;33m)\u001b[0m\u001b[1;33m\u001b[0m\u001b[1;33m\u001b[0m\u001b[0m\n\u001b[1;32m----> 2\u001b[1;33m \u001b[0mprint\u001b[0m\u001b[1;33m(\u001b[0m\u001b[0ma\u001b[0m\u001b[1;33m)\u001b[0m\u001b[1;33m\u001b[0m\u001b[1;33m\u001b[0m\u001b[0m\n\u001b[0m\u001b[0;32m      3\u001b[0m \u001b[0mprint\u001b[0m\u001b[1;33m(\u001b[0m\u001b[1;36m10\u001b[0m\u001b[1;33m)\u001b[0m\u001b[1;33m\u001b[0m\u001b[1;33m\u001b[0m\u001b[0m\n",
      "\u001b[1;31mNameError\u001b[0m: name 'a' is not defined"
     ]
    }
   ],
   "source": [
    "print(20)\n",
    "print(a)\n",
    "print(10)"
   ]
  },
  {
   "cell_type": "code",
   "execution_count": 5,
   "metadata": {},
   "outputs": [],
   "source": [
    "# 예외는 실행 시점에 발생.\n",
    "#함수 정의\n",
    "def my_func():\n",
    "    print(10/0) "
   ]
  },
  {
   "cell_type": "code",
   "execution_count": 6,
   "metadata": {
    "scrolled": true
   },
   "outputs": [
    {
     "ename": "ZeroDivisionError",
     "evalue": "division by zero",
     "output_type": "error",
     "traceback": [
      "\u001b[1;31m---------------------------------------------------------------------------\u001b[0m",
      "\u001b[1;31mZeroDivisionError\u001b[0m                         Traceback (most recent call last)",
      "\u001b[1;32m<ipython-input-6-db3ada79940f>\u001b[0m in \u001b[0;36m<module>\u001b[1;34m\u001b[0m\n\u001b[1;32m----> 1\u001b[1;33m \u001b[0mmy_func\u001b[0m\u001b[1;33m(\u001b[0m\u001b[1;33m)\u001b[0m\u001b[1;33m\u001b[0m\u001b[1;33m\u001b[0m\u001b[0m\n\u001b[0m",
      "\u001b[1;32m<ipython-input-5-79098616554a>\u001b[0m in \u001b[0;36mmy_func\u001b[1;34m()\u001b[0m\n\u001b[0;32m      1\u001b[0m \u001b[1;31m#함수 정의\u001b[0m\u001b[1;33m\u001b[0m\u001b[1;33m\u001b[0m\u001b[1;33m\u001b[0m\u001b[0m\n\u001b[0;32m      2\u001b[0m \u001b[1;32mdef\u001b[0m \u001b[0mmy_func\u001b[0m\u001b[1;33m(\u001b[0m\u001b[1;33m)\u001b[0m\u001b[1;33m:\u001b[0m\u001b[1;33m\u001b[0m\u001b[1;33m\u001b[0m\u001b[0m\n\u001b[1;32m----> 3\u001b[1;33m     \u001b[0mprint\u001b[0m\u001b[1;33m(\u001b[0m\u001b[1;36m10\u001b[0m\u001b[1;33m/\u001b[0m\u001b[1;36m0\u001b[0m\u001b[1;33m)\u001b[0m\u001b[1;33m\u001b[0m\u001b[1;33m\u001b[0m\u001b[0m\n\u001b[0m",
      "\u001b[1;31mZeroDivisionError\u001b[0m: division by zero"
     ]
    }
   ],
   "source": [
    "my_func()"
   ]
  },
  {
   "cell_type": "code",
   "execution_count": 43,
   "metadata": {
    "scrolled": true
   },
   "outputs": [
    {
     "name": "stdout",
     "output_type": "stream",
     "text": [
      "10\n",
      "10\n",
      "20\n",
      "종료\n"
     ]
    }
   ],
   "source": [
    "print(10)\n",
    "# del a\n",
    "try:\n",
    "    # 예외 발생가능성 있는 코드.\n",
    "    print(a)\n",
    "except:\n",
    "    # 예외 처리 코드\n",
    "    print(type(e))  \n",
    "    print(e.ge)\n",
    "    \n",
    "print(20)\n",
    "print(\"종료\")"
   ]
  },
  {
   "cell_type": "code",
   "execution_count": 9,
   "metadata": {},
   "outputs": [
    {
     "name": "stdout",
     "output_type": "stream",
     "text": [
      "10\n",
      "발생한 예외를 처리했습니다.\n",
      "name 'a' is not defined\n",
      "20\n",
      "종료\n"
     ]
    }
   ],
   "source": [
    "print(10)\n",
    "try:\n",
    "    # 예외 발생가능성 있는 코드.\n",
    "    print(a)\n",
    "except NameError as ne:\n",
    "    # 예외 처리 코드\n",
    "    print(\"발생한 예외를 처리했습니다.\")  \n",
    "    print(ne)\n",
    "    \n"
   ]
  },
  {
   "cell_type": "code",
   "execution_count": 17,
   "metadata": {},
   "outputs": [
    {
     "name": "stdout",
     "output_type": "stream",
     "text": [
      "ValueError처리invalid literal for int() with base 10: 'aaa'\n",
      "종료\n"
     ]
    }
   ],
   "source": [
    "try:    \n",
    "    a = int('aaa')#ValueError\n",
    "#     a = int(\"10\")\n",
    "    print(a+b)    #NameError\n",
    "except ValueError as e:\n",
    "    print(\"ValueError처리\"+str(e))\n",
    "except NameError:\n",
    "    print(\"NameError처리\")\n",
    "except:\n",
    "    print(\"예외 공통처리 -> 로그(기록). 재실행\")\n",
    "\n",
    "print(\"종료\")    "
   ]
  },
  {
   "cell_type": "code",
   "execution_count": 19,
   "metadata": {},
   "outputs": [
    {
     "data": {
      "text/plain": [
       "{'사과': 10, '귤': 20}"
      ]
     },
     "execution_count": 19,
     "metadata": {},
     "output_type": "execute_result"
    }
   ],
   "source": [
    "dic = dict(사과=10, 귤=20)\n",
    "dic"
   ]
  },
  {
   "cell_type": "code",
   "execution_count": 22,
   "metadata": {},
   "outputs": [
    {
     "name": "stdout",
     "output_type": "stream",
     "text": [
      "20\n"
     ]
    }
   ],
   "source": [
    "try:\n",
    "    print(dic['수박'])\n",
    "    \n",
    "except:\n",
    "    print(dic['귤'])\n"
   ]
  },
  {
   "cell_type": "code",
   "execution_count": 24,
   "metadata": {},
   "outputs": [
    {
     "name": "stdout",
     "output_type": "stream",
     "text": [
      "없는 과일\n"
     ]
    }
   ],
   "source": [
    "try:\n",
    "    print(dic['수박'])\n",
    "except:\n",
    "    try:\n",
    "        print(dic['토마토'])\n",
    "    except:\n",
    "        print(\"없는 과일\")"
   ]
  },
  {
   "cell_type": "code",
   "execution_count": 29,
   "metadata": {},
   "outputs": [
    {
     "name": "stdout",
     "output_type": "stream",
     "text": [
      "0\n"
     ]
    }
   ],
   "source": [
    "print(dic.get(\"수박\", 0))"
   ]
  },
  {
   "cell_type": "code",
   "execution_count": 31,
   "metadata": {},
   "outputs": [
    {
     "name": "stdout",
     "output_type": "stream",
     "text": [
      "20\n"
     ]
    }
   ],
   "source": [
    "if not dic.get(\"수박\"): #없으면\n",
    "    print(dic.get('귤'))"
   ]
  },
  {
   "cell_type": "code",
   "execution_count": 36,
   "metadata": {},
   "outputs": [],
   "source": [
    "def test1(num):\n",
    "    print(10/num)\n",
    "    \n",
    "def test2():\n",
    "    try:\n",
    "        test1(0)\n",
    "    except:\n",
    "        test1(1)\n",
    "    \n",
    "def test3():\n",
    "    test2()"
   ]
  },
  {
   "cell_type": "code",
   "execution_count": 37,
   "metadata": {},
   "outputs": [
    {
     "name": "stdout",
     "output_type": "stream",
     "text": [
      "10.0\n"
     ]
    }
   ],
   "source": [
    "test3()"
   ]
  },
  {
   "cell_type": "code",
   "execution_count": null,
   "metadata": {},
   "outputs": [],
   "source": []
  },
  {
   "cell_type": "code",
   "execution_count": 51,
   "metadata": {},
   "outputs": [],
   "source": [
    "#사용자 정의 Exception 클래스 구현\n",
    "# 클래스 이름: XXXXXError, XXXXX-예외상황을 표현할수 있는 단어나 문장.\n",
    "# Exception을 상속해서 구현\n",
    "class NotEnoughStockError(Exception):\n",
    "    \n",
    "    def __init__(self, message=None, stock_amount=None):\n",
    "        self.message = message # super().__init__(message)\n",
    "        self.stock_amount = stock_amount\n",
    "    \n",
    "    def get_stock_amount(self):\n",
    "        return self.stock_amount\n",
    "    \n",
    "    def __str__(self): #str(객체)\n",
    "        return str(self.message)"
   ]
  },
  {
   "cell_type": "code",
   "execution_count": 55,
   "metadata": {},
   "outputs": [],
   "source": [
    "# 주문처리\n",
    "def order(order_amount):#주문량\n",
    "    stock_amount = 10  # 재고량\n",
    "    #주문량, 재고량 비교 => 재고가 충분할 때만 주문처리.\n",
    "    if stock_amount < order_amount:\n",
    "#         pass  #주문처리가 되면 안됨.=> 예외 발생\n",
    "#         raise Exception(\"재고가 부족합니다.\")\n",
    "          raise NotEnoughStockError(\"재고부족\", stock_amount)\n",
    "    \n",
    "    stock_amount -= order_amount\n",
    "    print(\"주문처리 완료: 남은 재고량 - {}\".format(stock_amount))\n",
    "#     return"
   ]
  },
  {
   "cell_type": "code",
   "execution_count": 48,
   "metadata": {},
   "outputs": [
    {
     "name": "stdout",
     "output_type": "stream",
     "text": [
      "주문처리 완료: 남은 재고량 - 5\n"
     ]
    }
   ],
   "source": [
    "order(5)"
   ]
  },
  {
   "cell_type": "code",
   "execution_count": 50,
   "metadata": {},
   "outputs": [
    {
     "name": "stdout",
     "output_type": "stream",
     "text": [
      "주문량을 다시 입력하세요.\n"
     ]
    }
   ],
   "source": [
    "try:\n",
    "    order(23)\n",
    "    print(\"주문고객에게 주문완료 메일 전송.\")\n",
    "except:\n",
    "    print(\"주문량을 다시 입력하세요.\")"
   ]
  },
  {
   "cell_type": "code",
   "execution_count": 58,
   "metadata": {},
   "outputs": [
    {
     "name": "stdout",
     "output_type": "stream",
     "text": [
      "주문량을 다시 입력하세요.\n",
      "재고량: 10\n",
      "재고부족\n",
      "주문처리 완료: 남은 재고량 - 0\n"
     ]
    }
   ],
   "source": [
    "try:\n",
    "    \n",
    "    order(23)\n",
    "    print(\"주문고객에게 주문완료 메일 전송.\")\n",
    "except NotEnoughStockError as e:\n",
    "    print(\"주문량을 다시 입력하세요.\")\n",
    "    print(\"재고량: %d\" % e.get_stock_amount())\n",
    "    print(e) #str(e)\n",
    "    order(e.get_stock_amount())"
   ]
  },
  {
   "cell_type": "code",
   "execution_count": null,
   "metadata": {},
   "outputs": [],
   "source": []
  },
  {
   "cell_type": "code",
   "execution_count": null,
   "metadata": {},
   "outputs": [],
   "source": []
  }
 ],
 "metadata": {
  "kernelspec": {
   "display_name": "Python 3",
   "language": "python",
   "name": "python3"
  },
  "language_info": {
   "codemirror_mode": {
    "name": "ipython",
    "version": 3
   },
   "file_extension": ".py",
   "mimetype": "text/x-python",
   "name": "python",
   "nbconvert_exporter": "python",
   "pygments_lexer": "ipython3",
   "version": "3.8.1"
  }
 },
 "nbformat": 4,
 "nbformat_minor": 4
}
