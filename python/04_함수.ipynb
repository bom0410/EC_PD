{
 "cells": [
  {
   "cell_type": "code",
   "execution_count": 8,
   "metadata": {},
   "outputs": [],
   "source": [
    "# 함수 정의\n",
    "def greeting(): #선언부-사용법(호출하는 입장에서)\n",
    "    # 구현부 - 함수가 호출 됬을때 실행할 명령문들\n",
    "    print(\"안녕하세요\")\n",
    "    print(\"반값습니다.\")"
   ]
  },
  {
   "cell_type": "code",
   "execution_count": 9,
   "metadata": {},
   "outputs": [
    {
     "name": "stdout",
     "output_type": "stream",
     "text": [
      "안녕하세요\n",
      "반값습니다.\n"
     ]
    }
   ],
   "source": [
    "#호출 : 이름([값,...])\n",
    "greeting()"
   ]
  },
  {
   "cell_type": "code",
   "execution_count": 10,
   "metadata": {},
   "outputs": [
    {
     "name": "stdout",
     "output_type": "stream",
     "text": [
      "안녕하세요\n",
      "반값습니다.\n",
      "안녕하세요\n",
      "반값습니다.\n",
      "안녕하세요\n",
      "반값습니다.\n"
     ]
    }
   ],
   "source": [
    "greeting()\n",
    "greeting()\n",
    "greeting()"
   ]
  },
  {
   "cell_type": "markdown",
   "metadata": {},
   "source": [
    "## 함수의 매개변수(Parameter)"
   ]
  },
  {
   "cell_type": "code",
   "execution_count": 12,
   "metadata": {},
   "outputs": [],
   "source": [
    "def greeting2(name):\n",
    "    print(name+\"님 안녕하세요\")"
   ]
  },
  {
   "cell_type": "code",
   "execution_count": 15,
   "metadata": {},
   "outputs": [
    {
     "name": "stdout",
     "output_type": "stream",
     "text": [
      "홍길동님 안녕하세요\n",
      "박영희님 안녕하세요\n",
      "이순신님 안녕하세요\n"
     ]
    }
   ],
   "source": [
    "greeting2(\"홍길동\")\n",
    "greeting2(\"박영희\")\n",
    "greeting2(\"이순신\")"
   ]
  },
  {
   "cell_type": "code",
   "execution_count": 16,
   "metadata": {},
   "outputs": [],
   "source": [
    "def plus(num1, num2, num3):\n",
    "    print(\"{}+{}+{}={}\".format(num1, num2, num3, num1+num2+num3))\n",
    "#     return None"
   ]
  },
  {
   "cell_type": "code",
   "execution_count": 26,
   "metadata": {},
   "outputs": [
    {
     "name": "stdout",
     "output_type": "stream",
     "text": [
      "10+20+30=60\n",
      "100+200+300=600\n",
      "1+2+3=6\n",
      "None\n"
     ]
    }
   ],
   "source": [
    "plus(10,20,30)\n",
    "plus(100,200,300)\n",
    "r = plus(1,2,3)\n",
    "print(r)"
   ]
  },
  {
   "cell_type": "code",
   "execution_count": 22,
   "metadata": {},
   "outputs": [],
   "source": [
    "## 리턴값(함수가 처리가 끝나고 반환해주는 결과값)\n",
    "# return 반환값 - return: 호출한 곳을 돌아가라. 반환값이 있으면 그 값을 가지고 돌아가라.\n",
    "# 반환값을 생략 하면 None 이 반환된다.\n",
    "# 반환값이 없을 경우(None) return 구문 생략 할 수 있다.\n",
    "def plus2(num1, num2, num3):\n",
    "    result = num1+num2+num3\n",
    "    return result  #return 반환값"
   ]
  },
  {
   "cell_type": "code",
   "execution_count": 24,
   "metadata": {},
   "outputs": [
    {
     "data": {
      "text/plain": [
       "40"
      ]
     },
     "execution_count": 24,
     "metadata": {},
     "output_type": "execute_result"
    }
   ],
   "source": [
    "i = plus2(10,20,30)\n",
    "i - 20"
   ]
  },
  {
   "cell_type": "code",
   "execution_count": 32,
   "metadata": {},
   "outputs": [],
   "source": [
    "# 반환값이 여러개인 경우. => 자료구조로 묶어서 반환 (반환값은 1개만 가능하기 때문에.)\n",
    "def calculate(num1, num2):\n",
    "    r1 = num1+num2\n",
    "    r2 = num1-num2\n",
    "    r3 = num1*num2\n",
    "    r4 = num1/num2\n",
    "#     return r1,r2,r3,r4 #튜플\n",
    "    return [r1,r2,r3,r4] #리스트"
   ]
  },
  {
   "cell_type": "code",
   "execution_count": 33,
   "metadata": {},
   "outputs": [
    {
     "name": "stdout",
     "output_type": "stream",
     "text": [
      "30 -10 200 0.5\n"
     ]
    }
   ],
   "source": [
    "v1, v2, v3, v4 = calculate(10,20)\n",
    "print(v1,v2,v3,v4)"
   ]
  },
  {
   "cell_type": "code",
   "execution_count": 29,
   "metadata": {},
   "outputs": [
    {
     "name": "stdout",
     "output_type": "stream",
     "text": [
      "<class 'tuple'>\n",
      "(30, -10, 200, 0.5)\n"
     ]
    }
   ],
   "source": [
    "v = calculate(10,20)\n",
    "print(type(v))\n",
    "print(v)"
   ]
  },
  {
   "cell_type": "code",
   "execution_count": 35,
   "metadata": {},
   "outputs": [],
   "source": [
    "def calculate2(num1, num2):\n",
    "    r1 = num1+num2\n",
    "    r2 = num1-num2\n",
    "    r3 = num1*num2\n",
    "    r4 = num1/num2\n",
    "    return {\n",
    "        \"덧셈\":r1, \"뺄셈\":r2, \"곱셈\":r3, \"나눗셈\":r4\n",
    "    }"
   ]
  },
  {
   "cell_type": "code",
   "execution_count": 37,
   "metadata": {},
   "outputs": [
    {
     "data": {
      "text/plain": [
       "30"
      ]
     },
     "execution_count": 37,
     "metadata": {},
     "output_type": "execute_result"
    }
   ],
   "source": [
    "d = calculate2(20,10)\n",
    "d['덧셈']"
   ]
  },
  {
   "cell_type": "code",
   "execution_count": 46,
   "metadata": {},
   "outputs": [],
   "source": [
    "## 기본값이 있는 매개변수(Parameter)\n",
    "\n",
    "#age=0 호출할때 전달 값이 있으면 그값이 대입되고 없으면 age는 0을 기본값으로 사용.\n",
    "#기본값이 있는 매개 변수 뒤에는 일반 매개변수(기본값없는)는 선언 할 수없다.\n",
    "def printInfo(id, name, age=0, address=None, hobby=[]): \n",
    "    print(id, name, age, address, hobby)"
   ]
  },
  {
   "cell_type": "code",
   "execution_count": 47,
   "metadata": {},
   "outputs": [
    {
     "name": "stdout",
     "output_type": "stream",
     "text": [
      "id-1 이름 0 None []\n"
     ]
    }
   ],
   "source": [
    "printInfo(\"id-1\", \"이름\")"
   ]
  },
  {
   "cell_type": "code",
   "execution_count": 48,
   "metadata": {},
   "outputs": [
    {
     "name": "stdout",
     "output_type": "stream",
     "text": [
      "id-2 홍길동 20 None []\n"
     ]
    }
   ],
   "source": [
    "printInfo('id-2','홍길동', 20)"
   ]
  },
  {
   "cell_type": "code",
   "execution_count": 50,
   "metadata": {},
   "outputs": [
    {
     "name": "stdout",
     "output_type": "stream",
     "text": [
      "id-3 이순신 0 서울 []\n"
     ]
    }
   ],
   "source": [
    "# id, 이름, address\n",
    "printInfo('id-3','이순신',  \"서울\") #서울=>age"
   ]
  },
  {
   "cell_type": "code",
   "execution_count": 53,
   "metadata": {},
   "outputs": [
    {
     "name": "stdout",
     "output_type": "stream",
     "text": [
      "id-4 김영수 0 None ['독서', '음악감상']\n"
     ]
    }
   ],
   "source": [
    "printInfo('id-4','김영수',0, None, ['독서', '음악감상'])"
   ]
  },
  {
   "cell_type": "code",
   "execution_count": 54,
   "metadata": {},
   "outputs": [
    {
     "name": "stdout",
     "output_type": "stream",
     "text": [
      "id-4 김영수 0 None ['독서', '음악감상']\n"
     ]
    }
   ],
   "source": [
    "# 키워드 인수(Keyword argument) - 호출할때 매개변수명을 지정해서 값 전달.\n",
    "printInfo('id-4', '김영수',hobby=['독서','음악감상'])"
   ]
  },
  {
   "cell_type": "code",
   "execution_count": 55,
   "metadata": {},
   "outputs": [
    {
     "name": "stdout",
     "output_type": "stream",
     "text": [
      "myid 홍길동 20 인천 []\n"
     ]
    }
   ],
   "source": [
    "printInfo(age=20, address=\"인천\", name=\"홍길동\", id=\"myid\")"
   ]
  },
  {
   "cell_type": "code",
   "execution_count": 68,
   "metadata": {},
   "outputs": [],
   "source": [
    "# 가변인수\n",
    "# *변수 - 0 ~ n개의 전달값을 튜플로 묶어서 받는다.\n",
    "def sum_nums(*num_list):\n",
    "    print(type(num_list))\n",
    "    result = 0\n",
    "    for num in num_list:\n",
    "        result += num\n",
    "    return result"
   ]
  },
  {
   "cell_type": "code",
   "execution_count": 71,
   "metadata": {},
   "outputs": [
    {
     "name": "stdout",
     "output_type": "stream",
     "text": [
      "<class 'tuple'>\n",
      "45\n"
     ]
    }
   ],
   "source": [
    "l = [1,2,3,4,5,6,7,8,9]\n",
    "v = sum_nums(*l) #리스트(튜플)의 원소들을 가변인자로 전달. *리스트, *튜플\n",
    "print(v)\n",
    "\n",
    "# v = sum_nums(1,2,3,4,5)\n",
    "# print(v)\n",
    "# v = sum_nums(1,2,3)\n",
    "# print(v)\n",
    "# print(sum_nums(1,2))\n",
    "# print(sum_nums())\n",
    "\n",
    "# v = sum_nums([1,2,3,4,5])\n",
    "# print(v)\n",
    "# v = sum_nums([4,5,12,20])\n",
    "# print(v)"
   ]
  },
  {
   "cell_type": "code",
   "execution_count": 73,
   "metadata": {},
   "outputs": [],
   "source": [
    "# 가변인수 : **변수명\n",
    "# - 호출할때 keyword 인수 형태로 전달하고 가변인수는 전달된 값을 dictionary로 처리한다.\n",
    "# 값의 개수는 제한없다."
   ]
  },
  {
   "cell_type": "code",
   "execution_count": 74,
   "metadata": {},
   "outputs": [],
   "source": [
    "def personInfo(**info):\n",
    "    print(\"ID:\", info.get('id'))\n",
    "    print(\"이름:\", info.get('name'))\n",
    "    print(\"나이:\", info.get('age'))\n",
    "    print(type(info))\n",
    "    print(info)"
   ]
  },
  {
   "cell_type": "code",
   "execution_count": 75,
   "metadata": {},
   "outputs": [
    {
     "name": "stdout",
     "output_type": "stream",
     "text": [
      "ID: id-10\n",
      "이름: 홍길동\n",
      "나이: 20\n",
      "<class 'dict'>\n",
      "{'id': 'id-10', 'name': '홍길동', 'age': 20, 'address': '서울'}\n"
     ]
    }
   ],
   "source": [
    "personInfo(id='id-10', name='홍길동', age=20, address='서울')"
   ]
  },
  {
   "cell_type": "code",
   "execution_count": 78,
   "metadata": {},
   "outputs": [
    {
     "name": "stdout",
     "output_type": "stream",
     "text": [
      "ID: id-10\n",
      "이름: 홍길동\n",
      "나이: 20\n",
      "<class 'dict'>\n",
      "{'id': 'id-10', 'name': '홍길동', 'age': 20, 'address': '서울'}\n"
     ]
    }
   ],
   "source": [
    "info = {'id': 'id-10', 'name': '홍길동', 'age': 20, 'address': '서울'}\n",
    "personInfo(**info) #dictionary의 item(key-value)를 키워드 인수형식으로 만들어 호출"
   ]
  },
  {
   "cell_type": "code",
   "execution_count": 82,
   "metadata": {},
   "outputs": [
    {
     "ename": "SyntaxError",
     "evalue": "invalid syntax (<ipython-input-82-4fa2561b9ac5>, line 4)",
     "output_type": "error",
     "traceback": [
      "\u001b[1;36m  File \u001b[1;32m\"<ipython-input-82-4fa2561b9ac5>\"\u001b[1;36m, line \u001b[1;32m4\u001b[0m\n\u001b[1;33m    def a(m, n, *x,**y, r):\u001b[0m\n\u001b[1;37m                        ^\u001b[0m\n\u001b[1;31mSyntaxError\u001b[0m\u001b[1;31m:\u001b[0m invalid syntax\n"
     ]
    }
   ],
   "source": [
    "# 가변인수는 하나의 함수에 한개씩만 선언 할 수 있다.\n",
    "# 가변인수는 일반 매개변수 다음에 선언해야 한다.\n",
    "# 변수명(관례): *args , **kwargs\n",
    "def a(m, n, *x,**y, r):\n",
    "    pass"
   ]
  },
  {
   "cell_type": "code",
   "execution_count": null,
   "metadata": {},
   "outputs": [],
   "source": [
    "a(1,2,3,4,5,6,7,8, a=10, b=20)"
   ]
  },
  {
   "cell_type": "markdown",
   "metadata": {},
   "source": [
    "# 함수는 일급시민객체(First Class Citizen Object)\n",
    "- 일급시민객체\n",
    "    - 변수에 대입 가능\n",
    "    - 함수 호출시 매개변수로 전달 할 수 있어야 한다. \n",
    "    - 함수의 반환값으로 사용할 수 있어야 한다."
   ]
  },
  {
   "cell_type": "code",
   "execution_count": 83,
   "metadata": {},
   "outputs": [],
   "source": [
    "def hello(name):\n",
    "    print(name+\" 안녕하세요.\")"
   ]
  },
  {
   "cell_type": "code",
   "execution_count": 84,
   "metadata": {},
   "outputs": [
    {
     "name": "stdout",
     "output_type": "stream",
     "text": [
      "홍길동 안녕하세요.\n"
     ]
    }
   ],
   "source": [
    "hello(\"홍길동\")"
   ]
  },
  {
   "cell_type": "code",
   "execution_count": 85,
   "metadata": {},
   "outputs": [],
   "source": [
    "my_hello = hello\n",
    "my_hello = hello()"
   ]
  },
  {
   "cell_type": "code",
   "execution_count": 86,
   "metadata": {},
   "outputs": [
    {
     "name": "stdout",
     "output_type": "stream",
     "text": [
      "이순신 안녕하세요.\n"
     ]
    }
   ],
   "source": [
    "my_hello(\"이순신\")"
   ]
  },
  {
   "cell_type": "code",
   "execution_count": 89,
   "metadata": {},
   "outputs": [
    {
     "data": {
      "text/plain": [
       "[3, -1, 2, 0.5]"
      ]
     },
     "execution_count": 89,
     "metadata": {},
     "output_type": "execute_result"
    }
   ],
   "source": [
    "calc = calculate(1,2)#호출.  calc: calculate(1,2)의 반환값.\n",
    "    \n",
    "calc"
   ]
  },
  {
   "cell_type": "code",
   "execution_count": 91,
   "metadata": {},
   "outputs": [
    {
     "data": {
      "text/plain": [
       "[3, -1, 2, 0.5]"
      ]
     },
     "execution_count": 91,
     "metadata": {},
     "output_type": "execute_result"
    }
   ],
   "source": [
    "calc = calculate   #함수자체를 calc변수에 대입 (함수에 새이름 추가.)\n",
    "calc(1,2)"
   ]
  },
  {
   "cell_type": "code",
   "execution_count": 92,
   "metadata": {},
   "outputs": [],
   "source": [
    "def calculate3(func):\n",
    "    num1 = 10\n",
    "    num2 = 20\n",
    "    result = func(num1, num2)\n",
    "    print(result)"
   ]
  },
  {
   "cell_type": "code",
   "execution_count": 94,
   "metadata": {},
   "outputs": [],
   "source": [
    "def plus(n1, n2):\n",
    "    return n1+n2"
   ]
  },
  {
   "cell_type": "code",
   "execution_count": 97,
   "metadata": {},
   "outputs": [
    {
     "name": "stdout",
     "output_type": "stream",
     "text": [
      "30\n"
     ]
    }
   ],
   "source": [
    "calculate3(plus)"
   ]
  },
  {
   "cell_type": "code",
   "execution_count": 98,
   "metadata": {},
   "outputs": [
    {
     "name": "stdout",
     "output_type": "stream",
     "text": [
      "-10\n"
     ]
    }
   ],
   "source": [
    "def minus(n1,n2):\n",
    "    return n1-n2\n",
    "calculate3(minus)"
   ]
  },
  {
   "cell_type": "markdown",
   "metadata": {},
   "source": [
    "# 람다식(Lambda)\n",
    "- 단일 구문으로 표현하는 익명의 함수\n",
    "- 익명함수: 이름없이 구현만 가지고 있는 함수.\n",
    "- 일회성 함수를 만들 때 사용한다.\n",
    "\n",
    "- 구문\n",
    "```python\n",
    "# [] 생략가능\n",
    "lambda [매개변수] : 명령문\n",
    "```\n",
    "\n",
    "- 명령문 : 하나의 명령문만 가능. 반환값이 있어야 한다.(명령문이 반환하는 값을 람다함수가 반환한다.)"
   ]
  },
  {
   "cell_type": "code",
   "execution_count": 100,
   "metadata": {},
   "outputs": [],
   "source": [
    "def minus(n1,n2):\n",
    "    return n1-n2"
   ]
  },
  {
   "cell_type": "code",
   "execution_count": 105,
   "metadata": {},
   "outputs": [
    {
     "data": {
      "text/plain": [
       "-1"
      ]
     },
     "execution_count": 105,
     "metadata": {},
     "output_type": "execute_result"
    }
   ],
   "source": [
    "fun = lambda n1,n2 : n1-n2\n",
    "fun(1,2)"
   ]
  },
  {
   "cell_type": "code",
   "execution_count": 106,
   "metadata": {},
   "outputs": [
    {
     "data": {
      "text/plain": [
       "200"
      ]
     },
     "execution_count": 106,
     "metadata": {},
     "output_type": "execute_result"
    }
   ],
   "source": [
    "(lambda x:x*20)(10)"
   ]
  },
  {
   "cell_type": "code",
   "execution_count": 101,
   "metadata": {},
   "outputs": [
    {
     "data": {
      "text/plain": [
       "<function __main__.minus(n1, n2)>"
      ]
     },
     "execution_count": 101,
     "metadata": {},
     "output_type": "execute_result"
    }
   ],
   "source": [
    "ca"
   ]
  },
  {
   "cell_type": "code",
   "execution_count": 108,
   "metadata": {},
   "outputs": [],
   "source": [
    "def calculate3(func):\n",
    "    num1 = 10\n",
    "    num2 = 20\n",
    "    result = func(num1, num2)\n",
    "    print(result)"
   ]
  },
  {
   "cell_type": "code",
   "execution_count": 109,
   "metadata": {},
   "outputs": [
    {
     "name": "stdout",
     "output_type": "stream",
     "text": [
      "-10\n"
     ]
    }
   ],
   "source": [
    "\n",
    "calculate3(lambda x,y:x-y)"
   ]
  },
  {
   "cell_type": "code",
   "execution_count": 110,
   "metadata": {},
   "outputs": [
    {
     "name": "stdout",
     "output_type": "stream",
     "text": [
      "200\n"
     ]
    }
   ],
   "source": [
    "calculate3(lambda x,y:x*y)"
   ]
  },
  {
   "cell_type": "code",
   "execution_count": 111,
   "metadata": {},
   "outputs": [],
   "source": [
    "str_list = [\"aaaa\",\"ddd\",\"abcdee\",\"a\",'bdefczAdaffa']\n",
    "str_list.sort()"
   ]
  },
  {
   "cell_type": "code",
   "execution_count": 112,
   "metadata": {},
   "outputs": [
    {
     "data": {
      "text/plain": [
       "['a', 'aaaa', 'abcdee', 'bdefczAdaffa', 'ddd']"
      ]
     },
     "execution_count": 112,
     "metadata": {},
     "output_type": "execute_result"
    }
   ],
   "source": [
    "str_list"
   ]
  },
  {
   "cell_type": "code",
   "execution_count": 113,
   "metadata": {},
   "outputs": [
    {
     "data": {
      "text/plain": [
       "['a', 'ddd', 'aaaa', 'abcdee', 'bdefczAdaffa']"
      ]
     },
     "execution_count": 113,
     "metadata": {},
     "output_type": "execute_result"
    }
   ],
   "source": [
    "str_list = [\"aaaa\",\"ddd\",\"abcdee\",\"a\",'bdefczAdaffa']\n",
    "str_list.sort(key=lambda x:len(x)) #key=함수 함수가 반환하는 숫자순서로 정렬.\n",
    "str_list"
   ]
  },
  {
   "cell_type": "markdown",
   "metadata": {},
   "source": [
    "- filter(함수, 리스트): 리스트내 원소들중 특정 조건을 만족하는 것들만 걸러내는 함수.\n",
    "                     : 원소하나 하나를 함수에 전달해 True를 반환하는 것만 남긴다.\n",
    "- map(함수, 리스트)   : 리스트내 원소들을 처리해서 변형한 결과를 Iterable로 반환."
   ]
  },
  {
   "cell_type": "code",
   "execution_count": 125,
   "metadata": {},
   "outputs": [
    {
     "data": {
      "text/plain": [
       "<filter at 0x1f3b298b908>"
      ]
     },
     "execution_count": 125,
     "metadata": {},
     "output_type": "execute_result"
    }
   ],
   "source": [
    "num_list = list(range(1,100))\n",
    "even_list = filter(lambda x:x%2==0 ,  num_list)\n",
    "even_list #Iterable타입 (제너레이터-range())\n",
    "#list(even_list)"
   ]
  },
  {
   "cell_type": "code",
   "execution_count": 126,
   "metadata": {},
   "outputs": [
    {
     "name": "stdout",
     "output_type": "stream",
     "text": [
      "2 4 6 8 10 12 14 16 18 20 22 24 26 28 30 32 34 36 38 40 42 44 46 48 50 52 54 56 58 60 62 64 66 68 70 72 74 76 78 80 82 84 86 88 90 92 94 96 98 "
     ]
    }
   ],
   "source": [
    "for i in even_list:\n",
    "    print(i, end=' ')"
   ]
  },
  {
   "cell_type": "code",
   "execution_count": 128,
   "metadata": {
    "collapsed": true
   },
   "outputs": [
    {
     "data": {
      "text/plain": [
       "[2,\n",
       " 4,\n",
       " 6,\n",
       " 8,\n",
       " 10,\n",
       " 12,\n",
       " 14,\n",
       " 16,\n",
       " 18,\n",
       " 20,\n",
       " 22,\n",
       " 24,\n",
       " 26,\n",
       " 28,\n",
       " 30,\n",
       " 32,\n",
       " 34,\n",
       " 36,\n",
       " 38,\n",
       " 40,\n",
       " 42,\n",
       " 44,\n",
       " 46,\n",
       " 48,\n",
       " 50,\n",
       " 52,\n",
       " 54,\n",
       " 56,\n",
       " 58,\n",
       " 60,\n",
       " 62,\n",
       " 64,\n",
       " 66,\n",
       " 68,\n",
       " 70,\n",
       " 72,\n",
       " 74,\n",
       " 76,\n",
       " 78,\n",
       " 80,\n",
       " 82,\n",
       " 84,\n",
       " 86,\n",
       " 88,\n",
       " 90,\n",
       " 92,\n",
       " 94,\n",
       " 96,\n",
       " 98]"
      ]
     },
     "execution_count": 128,
     "metadata": {},
     "output_type": "execute_result"
    }
   ],
   "source": [
    "l = [num for num in num_list if num%2==0] #list(even_list)\n",
    "l"
   ]
  },
  {
   "cell_type": "code",
   "execution_count": 130,
   "metadata": {},
   "outputs": [
    {
     "data": {
      "text/plain": [
       "[200,\n",
       " 400,\n",
       " 600,\n",
       " 800,\n",
       " 1000,\n",
       " 1200,\n",
       " 1400,\n",
       " 1600,\n",
       " 1800,\n",
       " 2000,\n",
       " 2200,\n",
       " 2400,\n",
       " 2600,\n",
       " 2800,\n",
       " 3000,\n",
       " 3200,\n",
       " 3400,\n",
       " 3600,\n",
       " 3800,\n",
       " 4000,\n",
       " 4200,\n",
       " 4400,\n",
       " 4600,\n",
       " 4800,\n",
       " 5000,\n",
       " 5200,\n",
       " 5400,\n",
       " 5600,\n",
       " 5800,\n",
       " 6000,\n",
       " 6200,\n",
       " 6400,\n",
       " 6600,\n",
       " 6800,\n",
       " 7000,\n",
       " 7200,\n",
       " 7400,\n",
       " 7600,\n",
       " 7800,\n",
       " 8000,\n",
       " 8200,\n",
       " 8400,\n",
       " 8600,\n",
       " 8800,\n",
       " 9000,\n",
       " 9200,\n",
       " 9400,\n",
       " 9600,\n",
       " 9800,\n",
       " 10000,\n",
       " 10200,\n",
       " 10400,\n",
       " 10600,\n",
       " 10800,\n",
       " 11000,\n",
       " 11200,\n",
       " 11400,\n",
       " 11600,\n",
       " 11800,\n",
       " 12000,\n",
       " 12200,\n",
       " 12400,\n",
       " 12600,\n",
       " 12800,\n",
       " 13000,\n",
       " 13200,\n",
       " 13400,\n",
       " 13600,\n",
       " 13800,\n",
       " 14000,\n",
       " 14200,\n",
       " 14400,\n",
       " 14600,\n",
       " 14800,\n",
       " 15000,\n",
       " 15200,\n",
       " 15400,\n",
       " 15600,\n",
       " 15800,\n",
       " 16000,\n",
       " 16200,\n",
       " 16400,\n",
       " 16600,\n",
       " 16800,\n",
       " 17000,\n",
       " 17200,\n",
       " 17400,\n",
       " 17600,\n",
       " 17800,\n",
       " 18000,\n",
       " 18200,\n",
       " 18400,\n",
       " 18600,\n",
       " 18800,\n",
       " 19000,\n",
       " 19200,\n",
       " 19400,\n",
       " 19600,\n",
       " 19800]"
      ]
     },
     "execution_count": 130,
     "metadata": {},
     "output_type": "execute_result"
    }
   ],
   "source": [
    "m = map(lambda x:x*200, num_list)\n",
    "list(m)"
   ]
  },
  {
   "cell_type": "code",
   "execution_count": 131,
   "metadata": {},
   "outputs": [
    {
     "data": {
      "text/plain": [
       "[200,\n",
       " 400,\n",
       " 600,\n",
       " 800,\n",
       " 1000,\n",
       " 1200,\n",
       " 1400,\n",
       " 1600,\n",
       " 1800,\n",
       " 2000,\n",
       " 2200,\n",
       " 2400,\n",
       " 2600,\n",
       " 2800,\n",
       " 3000,\n",
       " 3200,\n",
       " 3400,\n",
       " 3600,\n",
       " 3800,\n",
       " 4000,\n",
       " 4200,\n",
       " 4400,\n",
       " 4600,\n",
       " 4800,\n",
       " 5000,\n",
       " 5200,\n",
       " 5400,\n",
       " 5600,\n",
       " 5800,\n",
       " 6000,\n",
       " 6200,\n",
       " 6400,\n",
       " 6600,\n",
       " 6800,\n",
       " 7000,\n",
       " 7200,\n",
       " 7400,\n",
       " 7600,\n",
       " 7800,\n",
       " 8000,\n",
       " 8200,\n",
       " 8400,\n",
       " 8600,\n",
       " 8800,\n",
       " 9000,\n",
       " 9200,\n",
       " 9400,\n",
       " 9600,\n",
       " 9800,\n",
       " 10000,\n",
       " 10200,\n",
       " 10400,\n",
       " 10600,\n",
       " 10800,\n",
       " 11000,\n",
       " 11200,\n",
       " 11400,\n",
       " 11600,\n",
       " 11800,\n",
       " 12000,\n",
       " 12200,\n",
       " 12400,\n",
       " 12600,\n",
       " 12800,\n",
       " 13000,\n",
       " 13200,\n",
       " 13400,\n",
       " 13600,\n",
       " 13800,\n",
       " 14000,\n",
       " 14200,\n",
       " 14400,\n",
       " 14600,\n",
       " 14800,\n",
       " 15000,\n",
       " 15200,\n",
       " 15400,\n",
       " 15600,\n",
       " 15800,\n",
       " 16000,\n",
       " 16200,\n",
       " 16400,\n",
       " 16600,\n",
       " 16800,\n",
       " 17000,\n",
       " 17200,\n",
       " 17400,\n",
       " 17600,\n",
       " 17800,\n",
       " 18000,\n",
       " 18200,\n",
       " 18400,\n",
       " 18600,\n",
       " 18800,\n",
       " 19000,\n",
       " 19200,\n",
       " 19400,\n",
       " 19600,\n",
       " 19800]"
      ]
     },
     "execution_count": 131,
     "metadata": {},
     "output_type": "execute_result"
    }
   ],
   "source": [
    "[num*200  for num in num_list]"
   ]
  },
  {
   "cell_type": "code",
   "execution_count": 132,
   "metadata": {},
   "outputs": [
    {
     "data": {
      "text/plain": [
       "[100,\n",
       " 300,\n",
       " 500,\n",
       " 700,\n",
       " 900,\n",
       " 1100,\n",
       " 1300,\n",
       " 1500,\n",
       " 1700,\n",
       " 1900,\n",
       " 2100,\n",
       " 2300,\n",
       " 2500,\n",
       " 2700,\n",
       " 2900,\n",
       " 3100,\n",
       " 3300,\n",
       " 3500,\n",
       " 3700,\n",
       " 3900,\n",
       " 4100,\n",
       " 4300,\n",
       " 4500,\n",
       " 4700,\n",
       " 4900,\n",
       " 5100,\n",
       " 5300,\n",
       " 5500,\n",
       " 5700,\n",
       " 5900,\n",
       " 6100,\n",
       " 6300,\n",
       " 6500,\n",
       " 6700,\n",
       " 6900,\n",
       " 7100,\n",
       " 7300,\n",
       " 7500,\n",
       " 7700,\n",
       " 7900,\n",
       " 8100,\n",
       " 8300,\n",
       " 8500,\n",
       " 8700,\n",
       " 8900,\n",
       " 9100,\n",
       " 9300,\n",
       " 9500,\n",
       " 9700,\n",
       " 9900]"
      ]
     },
     "execution_count": 132,
     "metadata": {},
     "output_type": "execute_result"
    }
   ],
   "source": [
    "# num_list 홀수 * 100\n",
    "m1 = map(lambda x:x*100  ,filter(lambda x:x%2!=0, num_list))\n",
    "list(m1)"
   ]
  },
  {
   "cell_type": "code",
   "execution_count": null,
   "metadata": {},
   "outputs": [],
   "source": []
  },
  {
   "cell_type": "code",
   "execution_count": 141,
   "metadata": {},
   "outputs": [],
   "source": [
    "# docstring:함수에 대한 설명\n",
    "# 함수의 구현부의 첫번째에 여러줄 문자열로 작성한다.\n",
    "\n",
    "# 함수 매개변수/리턴타입에 대한 힌트(주석)\n",
    "def printInfo(id:\"아이디-int\", name:str, age:int,\n",
    "              address:\"주소\"=None)->\"리턴값주석\":\n",
    "    \"\"\"설명\n",
    "    매개변수 설명\n",
    "    리턴값 설명\n",
    "    예제\"\"\"\n",
    "    return f'{id}, {name}, {age}, {address}'"
   ]
  },
  {
   "cell_type": "code",
   "execution_count": 137,
   "metadata": {
    "scrolled": true
   },
   "outputs": [
    {
     "data": {
      "text/plain": [
       "'id, 이름, 나이, None'"
      ]
     },
     "execution_count": 137,
     "metadata": {},
     "output_type": "execute_result"
    }
   ],
   "source": [
    "printInfo(\"id\",\"이름\", \"나이\")"
   ]
  },
  {
   "cell_type": "code",
   "execution_count": null,
   "metadata": {},
   "outputs": [],
   "source": [
    "# tab: 자동완성\n",
    "# shift + tab (x 2)"
   ]
  },
  {
   "cell_type": "code",
   "execution_count": 142,
   "metadata": {},
   "outputs": [],
   "source": [
    "?printInfo"
   ]
  },
  {
   "cell_type": "code",
   "execution_count": null,
   "metadata": {},
   "outputs": [],
   "source": [
    "name = \"abc\"\n",
    "print(name)"
   ]
  },
  {
   "cell_type": "code",
   "execution_count": null,
   "metadata": {},
   "outputs": [],
   "source": [
    "printInfo"
   ]
  },
  {
   "cell_type": "code",
   "execution_count": null,
   "metadata": {},
   "outputs": [],
   "source": []
  },
  {
   "cell_type": "code",
   "execution_count": null,
   "metadata": {},
   "outputs": [],
   "source": []
  },
  {
   "cell_type": "code",
   "execution_count": null,
   "metadata": {},
   "outputs": [],
   "source": []
  },
  {
   "cell_type": "code",
   "execution_count": null,
   "metadata": {},
   "outputs": [],
   "source": []
  }
 ],
 "metadata": {
  "kernelspec": {
   "display_name": "Python 3",
   "language": "python",
   "name": "python3"
  },
  "language_info": {
   "codemirror_mode": {
    "name": "ipython",
    "version": 3
   },
   "file_extension": ".py",
   "mimetype": "text/x-python",
   "name": "python",
   "nbconvert_exporter": "python",
   "pygments_lexer": "ipython3",
   "version": "3.7.3"
  }
 },
 "nbformat": 4,
 "nbformat_minor": 2
}
