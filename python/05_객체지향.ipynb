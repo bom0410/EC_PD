{
 "cells": [
  {
   "cell_type": "markdown",
   "metadata": {},
   "source": [
    "## 클래스 구현\n",
    "```python\n",
    "class 이름:\n",
    "    구현\n",
    "```\n",
    "## 객체(Instance) 생성\n",
    "```python\n",
    "변수 = 클래스이름()\n",
    "```"
   ]
  },
  {
   "cell_type": "code",
   "execution_count": 1,
   "metadata": {},
   "outputs": [],
   "source": [
    "class Person:\n",
    "    pass"
   ]
  },
  {
   "cell_type": "code",
   "execution_count": 2,
   "metadata": {},
   "outputs": [],
   "source": [
    "#Person 클래스의 객체 생성.\n",
    "p = Person()"
   ]
  },
  {
   "cell_type": "markdown",
   "metadata": {},
   "source": [
    "### 속성(Attribute)을 추가.\n",
    "- instance (member) 변수\n",
    "- 객체.변수명 = 값\n",
    "    - 객체가 이미 가지고 있는 변수일 경우는 **변경**, 없는 변수면 **추가**\n",
    "- 생성자/메소드를 통해 변수 추가.\n",
    "- 속성을 조회(사용)\n",
    "    - 객체.변수명"
   ]
  },
  {
   "cell_type": "code",
   "execution_count": 3,
   "metadata": {},
   "outputs": [],
   "source": [
    "p.name = \"홍길동\"\n",
    "p.age = 20\n",
    "p.address = \"서울\""
   ]
  },
  {
   "cell_type": "code",
   "execution_count": 4,
   "metadata": {},
   "outputs": [
    {
     "name": "stdout",
     "output_type": "stream",
     "text": [
      "홍길동\n",
      "20\n",
      "서울\n"
     ]
    }
   ],
   "source": [
    "print(p.name)\n",
    "print(p.age)\n",
    "print(p.address)"
   ]
  },
  {
   "cell_type": "code",
   "execution_count": 5,
   "metadata": {},
   "outputs": [],
   "source": [
    "p2 = Person()\n",
    "p2.name = \"이순신\"\n",
    "p2.email = \"abc@a.com\""
   ]
  },
  {
   "cell_type": "code",
   "execution_count": 6,
   "metadata": {},
   "outputs": [
    {
     "name": "stdout",
     "output_type": "stream",
     "text": [
      "abc@a.com\n"
     ]
    }
   ],
   "source": [
    "print(p2.email)"
   ]
  },
  {
   "cell_type": "code",
   "execution_count": 7,
   "metadata": {},
   "outputs": [
    {
     "ename": "AttributeError",
     "evalue": "'Person' object has no attribute 'address'",
     "output_type": "error",
     "traceback": [
      "\u001b[0;31m---------------------------------------------------------------------------\u001b[0m",
      "\u001b[0;31mAttributeError\u001b[0m                            Traceback (most recent call last)",
      "\u001b[0;32m<ipython-input-7-c390deaac1d7>\u001b[0m in \u001b[0;36m<module>\u001b[0;34m\u001b[0m\n\u001b[0;32m----> 1\u001b[0;31m \u001b[0mprint\u001b[0m\u001b[0;34m(\u001b[0m\u001b[0mp2\u001b[0m\u001b[0;34m.\u001b[0m\u001b[0maddress\u001b[0m\u001b[0;34m)\u001b[0m\u001b[0;34m\u001b[0m\u001b[0;34m\u001b[0m\u001b[0m\n\u001b[0m",
      "\u001b[0;31mAttributeError\u001b[0m: 'Person' object has no attribute 'address'"
     ]
    }
   ],
   "source": [
    "print(p2.address)"
   ]
  },
  {
   "cell_type": "code",
   "execution_count": 8,
   "metadata": {},
   "outputs": [],
   "source": [
    "# p2.name이 존재하는 Attribute => 변경\n",
    "p2.name = \"박영수\""
   ]
  },
  {
   "cell_type": "code",
   "execution_count": 9,
   "metadata": {},
   "outputs": [
    {
     "data": {
      "text/plain": [
       "'박영수'"
      ]
     },
     "execution_count": 9,
     "metadata": {},
     "output_type": "execute_result"
    }
   ],
   "source": [
    "p2.name"
   ]
  },
  {
   "cell_type": "markdown",
   "metadata": {},
   "source": [
    "### 생성자\n",
    "- 클래스에서 객체 생성할 때 호출되는 기능(이때 딱 한번 호출됨)\n",
    "- Attribute(instance변수) 값 초기화하는 코드를 구현\n",
    "\n",
    "```python\n",
    "def __init__(self [, 매개변수]):\n",
    "    구현 -> attribute 초기화\n",
    "```\n",
    "\n",
    "- 매개변수를 선언 : 객체 생성하는 곳에서 속성에 넣어줄 값을 받을 경우 선언.\n",
    "\n",
    "### self\n",
    "- 생성자/instance 메소드의 첫번째 매개변수로 선언.\n",
    "    - 관례적으로 self로 선언\n",
    "- 생성자/instance메소드를 가지고 있는 객체 자체를 가리킨다.\n",
    "- self를 이용해 생성자나 메소드가 attribute 또는 다른 instance메소드 호출할 수 있다."
   ]
  },
  {
   "cell_type": "code",
   "execution_count": 10,
   "metadata": {},
   "outputs": [],
   "source": [
    "class Person2:\n",
    "    \n",
    "    def __init__(self):\n",
    "        self.name = None\n",
    "        self.age = 0\n",
    "        self.address = \"서울\""
   ]
  },
  {
   "cell_type": "code",
   "execution_count": 11,
   "metadata": {},
   "outputs": [
    {
     "name": "stdout",
     "output_type": "stream",
     "text": [
      "None\n",
      "0\n",
      "서울\n"
     ]
    }
   ],
   "source": [
    "p3 = Person2()  #Person2() -> 클래스의 생성자가 호출된다.\n",
    "print(p3.name)\n",
    "print(p3.age)\n",
    "print(p3.address)"
   ]
  },
  {
   "cell_type": "code",
   "execution_count": 12,
   "metadata": {},
   "outputs": [],
   "source": [
    "# 매개변수가 있는 생성자\n",
    "class Person3:\n",
    "#     def __init__(self, name, age, address):\n",
    "    def __init__(self, name, age, address=None):\n",
    "        self.name = name\n",
    "        self.age = age\n",
    "        self.address = address"
   ]
  },
  {
   "cell_type": "code",
   "execution_count": 13,
   "metadata": {},
   "outputs": [
    {
     "name": "stdout",
     "output_type": "stream",
     "text": [
      "김명수 30 인천시\n"
     ]
    }
   ],
   "source": [
    "p4 = Person3(\"김명수\", 30, \"인천시\")\n",
    "print(p4.name, p4.age, p4.address)"
   ]
  },
  {
   "cell_type": "code",
   "execution_count": 14,
   "metadata": {},
   "outputs": [
    {
     "name": "stdout",
     "output_type": "stream",
     "text": [
      "이철수 20 None\n"
     ]
    }
   ],
   "source": [
    "p5 = Person3(\"이철수\", 20)\n",
    "print(p5.name, p5.age, p5.address)"
   ]
  },
  {
   "cell_type": "markdown",
   "metadata": {},
   "source": [
    "### Instance 메소드\n",
    "- 객체가 제공하는 기능(동작)\n",
    "- 주로 attribute와 관련된 작업을 처리한다.\n",
    "\n",
    "```python\n",
    "def 이름(self [, 매개변수]):\n",
    "    구현\n",
    "```\n",
    "\n",
    "호출: 객체.메소드이름(인자)"
   ]
  },
  {
   "cell_type": "code",
   "execution_count": 15,
   "metadata": {},
   "outputs": [],
   "source": [
    "#생성자 + 메소드\n",
    "class Person4:\n",
    "    def __init__(self, name, age, address=None):\n",
    "        self.name = name\n",
    "        self.age = age\n",
    "        self.address = address\n",
    "        \n",
    "    def get_person_info(self):\n",
    "        \"\"\"Attribute들을 하나의 문자열로 묶어서 리턴하는 메소드\n",
    "        매개변수\n",
    "        리턴값\n",
    "            str: 이름, 나이, 주소를 문자열로 묶어 반환\n",
    "        \"\"\"\n",
    "        info = '이름: {}, 나이: {}, 주소:{}'.format(self.name, \n",
    "                                                   self.age, \n",
    "                                                   self.address)\n",
    "        return info\n",
    "    \n",
    "    #속성의 값을 변경하는 메소드: set_속성명()\n",
    "    def set_name(self, name):\n",
    "        if name.strip():  # len(name)!=0\n",
    "            self.name = name\n",
    "        else:\n",
    "            print(\"이름은 한글자 이상 넣으시오\")\n",
    "            \n",
    "    def set_age(self, age):\n",
    "        if age >= 0:\n",
    "            self.age = age\n",
    "        else:\n",
    "            print(\"나이에 0이상 정수를 넣으세요.\")\n",
    "        \n",
    "    def set_address(self, address):\n",
    "        self.address = address\n",
    "    #속성의 값을 반환하는 메소드: get_속성명()\n",
    "    def get_name(self):\n",
    "        return self.name\n",
    "    \n",
    "    def get_age(self):\n",
    "        return self.age\n",
    "    \n",
    "    def get_address(self):\n",
    "        return self.address"
   ]
  },
  {
   "cell_type": "code",
   "execution_count": 16,
   "metadata": {},
   "outputs": [],
   "source": [
    "p6 = Person4(\"홍길동\", 50, \"부산시\")"
   ]
  },
  {
   "cell_type": "code",
   "execution_count": 17,
   "metadata": {},
   "outputs": [
    {
     "name": "stdout",
     "output_type": "stream",
     "text": [
      "이름: 홍길동, 나이: 50, 주소:부산시\n"
     ]
    }
   ],
   "source": [
    "info = p6.get_person_info() # tab:자동완성, shift-tab(x2): 설명\n",
    "print(info)"
   ]
  },
  {
   "cell_type": "code",
   "execution_count": 18,
   "metadata": {},
   "outputs": [
    {
     "data": {
      "text/plain": [
       "('홍길동', 50, '부산시')"
      ]
     },
     "execution_count": 18,
     "metadata": {},
     "output_type": "execute_result"
    }
   ],
   "source": [
    "p6.get_name(), p6.get_age(), p6.get_address()"
   ]
  },
  {
   "cell_type": "code",
   "execution_count": 19,
   "metadata": {},
   "outputs": [
    {
     "name": "stdout",
     "output_type": "stream",
     "text": [
      "나이에 0이상 정수를 넣으세요.\n"
     ]
    },
    {
     "data": {
      "text/plain": [
       "'이름: 이순신, 나이: 50, 주소:서울시'"
      ]
     },
     "execution_count": 19,
     "metadata": {},
     "output_type": "execute_result"
    }
   ],
   "source": [
    "p6.set_name(\"이순신\") #p6.name='이순신'\n",
    "p6.set_age(-30)\n",
    "p6.set_address('서울시')\n",
    "p6.get_person_info()"
   ]
  },
  {
   "cell_type": "code",
   "execution_count": 20,
   "metadata": {},
   "outputs": [],
   "source": [
    "p7 = Person4(\"홍길동\", 20, \"인천\")"
   ]
  },
  {
   "cell_type": "code",
   "execution_count": 21,
   "metadata": {},
   "outputs": [
    {
     "name": "stdout",
     "output_type": "stream",
     "text": [
      "나이에 0이상 정수를 넣으세요.\n"
     ]
    },
    {
     "data": {
      "text/plain": [
       "20"
      ]
     },
     "execution_count": 21,
     "metadata": {},
     "output_type": "execute_result"
    }
   ],
   "source": [
    "p7.set_age(-30)\n",
    "p7.get_age()"
   ]
  },
  {
   "cell_type": "code",
   "execution_count": 22,
   "metadata": {},
   "outputs": [
    {
     "name": "stdout",
     "output_type": "stream",
     "text": [
      "이름은 한글자 이상 넣으시오\n"
     ]
    },
    {
     "data": {
      "text/plain": [
       "'홍길동'"
      ]
     },
     "execution_count": 22,
     "metadata": {},
     "output_type": "execute_result"
    }
   ],
   "source": [
    "p7.set_name(\"  \")\n",
    "p7.get_name()"
   ]
  },
  {
   "cell_type": "code",
   "execution_count": 23,
   "metadata": {},
   "outputs": [
    {
     "data": {
      "text/plain": [
       "'새이름'"
      ]
     },
     "execution_count": 23,
     "metadata": {},
     "output_type": "execute_result"
    }
   ],
   "source": [
    "p7.set_name(\"새이름\")\n",
    "p7.get_name()"
   ]
  },
  {
   "cell_type": "code",
   "execution_count": 24,
   "metadata": {},
   "outputs": [
    {
     "data": {
      "text/plain": [
       "{'name': '새이름', 'age': 20, 'address': '인천'}"
      ]
     },
     "execution_count": 24,
     "metadata": {},
     "output_type": "execute_result"
    }
   ],
   "source": [
    "# 객체.__dict__ :객체의 속성들을 조회(dictionary로 반환)\n",
    "p7.__dict__"
   ]
  },
  {
   "cell_type": "code",
   "execution_count": 25,
   "metadata": {},
   "outputs": [
    {
     "data": {
      "text/plain": [
       "dict"
      ]
     },
     "execution_count": 25,
     "metadata": {},
     "output_type": "execute_result"
    }
   ],
   "source": [
    "type(p7.__dict__)"
   ]
  },
  {
   "cell_type": "code",
   "execution_count": 26,
   "metadata": {},
   "outputs": [
    {
     "data": {
      "text/plain": [
       "{'name': '새이름', 'age': 20, 'address': '인천', 'email': 'a@a.com'}"
      ]
     },
     "execution_count": 26,
     "metadata": {},
     "output_type": "execute_result"
    }
   ],
   "source": [
    "p7.email='a@a.com'\n",
    "p7.__dict__"
   ]
  },
  {
   "cell_type": "code",
   "execution_count": 27,
   "metadata": {},
   "outputs": [
    {
     "name": "stdout",
     "output_type": "stream",
     "text": [
      "나이에 0이상 정수를 넣으세요.\n"
     ]
    }
   ],
   "source": [
    "p7.set_age(-200)"
   ]
  },
  {
   "cell_type": "code",
   "execution_count": 28,
   "metadata": {},
   "outputs": [
    {
     "data": {
      "text/plain": [
       "'이름: 새이름, 나이: -200, 주소:인천'"
      ]
     },
     "execution_count": 28,
     "metadata": {},
     "output_type": "execute_result"
    }
   ],
   "source": [
    "p7.age = -200\n",
    "p7.get_person_info()"
   ]
  },
  {
   "cell_type": "code",
   "execution_count": null,
   "metadata": {},
   "outputs": [],
   "source": []
  },
  {
   "cell_type": "code",
   "execution_count": 29,
   "metadata": {},
   "outputs": [],
   "source": [
    "class Test:\n",
    "    def __init__(self, age):\n",
    "        self.__age = age\n",
    "    \n",
    "    def set_age(self, age):\n",
    "        self.__age = age\n",
    "\n",
    "    def get_age(self):\n",
    "        return self.__age"
   ]
  },
  {
   "cell_type": "code",
   "execution_count": 30,
   "metadata": {},
   "outputs": [
    {
     "name": "stdout",
     "output_type": "stream",
     "text": [
      "10\n"
     ]
    }
   ],
   "source": [
    "t = Test(10)\n",
    "print(t.get_age())"
   ]
  },
  {
   "cell_type": "code",
   "execution_count": 31,
   "metadata": {},
   "outputs": [
    {
     "ename": "AttributeError",
     "evalue": "'Test' object has no attribute '__age'",
     "output_type": "error",
     "traceback": [
      "\u001b[0;31m---------------------------------------------------------------------------\u001b[0m",
      "\u001b[0;31mAttributeError\u001b[0m                            Traceback (most recent call last)",
      "\u001b[0;32m<ipython-input-31-a84fb76b20a5>\u001b[0m in \u001b[0;36m<module>\u001b[0;34m\u001b[0m\n\u001b[0;32m----> 1\u001b[0;31m \u001b[0mprint\u001b[0m\u001b[0;34m(\u001b[0m\u001b[0mt\u001b[0m\u001b[0;34m.\u001b[0m\u001b[0m__age\u001b[0m\u001b[0;34m)\u001b[0m\u001b[0;34m\u001b[0m\u001b[0;34m\u001b[0m\u001b[0m\n\u001b[0m",
      "\u001b[0;31mAttributeError\u001b[0m: 'Test' object has no attribute '__age'"
     ]
    }
   ],
   "source": [
    "print(t.__age)"
   ]
  },
  {
   "cell_type": "code",
   "execution_count": 32,
   "metadata": {},
   "outputs": [
    {
     "data": {
      "text/plain": [
       "{'_Test__age': 10}"
      ]
     },
     "execution_count": 32,
     "metadata": {},
     "output_type": "execute_result"
    }
   ],
   "source": [
    "t.__dict__"
   ]
  },
  {
   "cell_type": "code",
   "execution_count": 33,
   "metadata": {},
   "outputs": [],
   "source": [
    "t.__age = 20"
   ]
  },
  {
   "cell_type": "code",
   "execution_count": 34,
   "metadata": {},
   "outputs": [
    {
     "data": {
      "text/plain": [
       "{'_Test__age': 10, '__age': 20}"
      ]
     },
     "execution_count": 34,
     "metadata": {},
     "output_type": "execute_result"
    }
   ],
   "source": [
    "t.__dict__"
   ]
  },
  {
   "cell_type": "markdown",
   "metadata": {},
   "source": [
    "## 상속\n",
    "- 기존 클래스를 물려받아 속성이나 메소드를 추가한 새로운 클래스를 만드는 것.\n",
    "```python\n",
    "class 이름(상위클래스이름 [, 상위클래스, ...])\n",
    "```\n",
    "\n",
    "- 파이썬은 다중상속을 지원(여러클래스로 부터 상속가능)"
   ]
  },
  {
   "cell_type": "code",
   "execution_count": 35,
   "metadata": {},
   "outputs": [],
   "source": [
    "# (name, age, address)-Person4, level\n",
    "class Member(Person4):\n",
    "    def __init__(self, name, age, address, level):\n",
    "        # super() : 부모 객체를 반환.\n",
    "        super().__init__(name, age, address) #부모 객체의 생성자 호출\n",
    "        self.level = level\n",
    "    \n",
    "    # 부모클래스에 정의된 메소드와 동일한 이름의 메소드 정의 \n",
    "    # 같은일을 하지만 자식클래스의 특징을 추가 해야 하는 경우 같은 이름으로 구현.\n",
    "    # 메소드 재정의(Method Overriding)\n",
    "    def get_person_info(self):\n",
    "        '''회원 정보를 묶어서 반환하는 string으로 메소드'''\n",
    "        base_info = super().get_person_info() #상위클래스에 정의된 메소드 호출\n",
    "        info = \"{}, 등급: {}\".format(base_info, self.level)\n",
    "        return info\n",
    "    \n",
    "    def __str__(self):\n",
    "        base_info = super().get_person_info() #상위클래스에 정의된 메소드 호출\n",
    "        info = \"{}, 등급: {}\".format(base_info, self.level)\n",
    "        return info"
   ]
  },
  {
   "cell_type": "code",
   "execution_count": 36,
   "metadata": {},
   "outputs": [
    {
     "name": "stdout",
     "output_type": "stream",
     "text": [
      "20\n"
     ]
    }
   ],
   "source": [
    "m = Member(\"새회원\", 10, \"서울\", \"준회원\")\n",
    "# print(m.get_name())\n",
    "m.set_age(20)\n",
    "print(m.get_age())"
   ]
  },
  {
   "cell_type": "code",
   "execution_count": 37,
   "metadata": {},
   "outputs": [
    {
     "name": "stdout",
     "output_type": "stream",
     "text": [
      "이름: 새회원, 나이: 20, 주소:서울, 등급: 준회원\n"
     ]
    }
   ],
   "source": [
    "print(m)"
   ]
  },
  {
   "cell_type": "code",
   "execution_count": 38,
   "metadata": {},
   "outputs": [
    {
     "name": "stdout",
     "output_type": "stream",
     "text": [
      "이름: 새회원, 나이: 20, 주소:서울, 등급: 준회원\n"
     ]
    }
   ],
   "source": [
    "print(m.get_person_info())"
   ]
  },
  {
   "cell_type": "code",
   "execution_count": 39,
   "metadata": {},
   "outputs": [],
   "source": [
    "class Super:\n",
    "    def __init__(self, x=0):\n",
    "        self.x = x"
   ]
  },
  {
   "cell_type": "code",
   "execution_count": 40,
   "metadata": {},
   "outputs": [
    {
     "ename": "IndentationError",
     "evalue": "unexpected indent (<ipython-input-40-cea618fa24f7>, line 4)",
     "output_type": "error",
     "traceback": [
      "\u001b[0;36m  File \u001b[0;32m\"<ipython-input-40-cea618fa24f7>\"\u001b[0;36m, line \u001b[0;32m4\u001b[0m\n\u001b[0;31m    self.u = y\u001b[0m\n\u001b[0m    ^\u001b[0m\n\u001b[0;31mIndentationError\u001b[0m\u001b[0;31m:\u001b[0m unexpected indent\n"
     ]
    }
   ],
   "source": [
    "class Sub(Super):\n",
    "    def __init__(self,  y, x):\n",
    "         super().__init__(x)\n",
    "            self.u = y\n",
    "    a"
   ]
  },
  {
   "cell_type": "code",
   "execution_count": null,
   "metadata": {},
   "outputs": [],
   "source": [
    "s = Sub(1, 10)\n",
    "s.x"
   ]
  },
  {
   "cell_type": "code",
   "execution_count": null,
   "metadata": {},
   "outputs": [],
   "source": [
    "s.__dict__"
   ]
  },
  {
   "cell_type": "code",
   "execution_count": null,
   "metadata": {},
   "outputs": [],
   "source": []
  },
  {
   "cell_type": "code",
   "execution_count": null,
   "metadata": {},
   "outputs": [],
   "source": []
  },
  {
   "cell_type": "markdown",
   "metadata": {},
   "source": [
    "## 특수 메소드\n",
    "- __ 로 시작하는 메소드로 객체가 특정 상황(시점)이 되면 파이썬실행환경이 자동으로 호출해 주는 메소드들.\n",
    "    - 실행환경이 호출하는 메소드를 call back 메소드라고도 한다."
   ]
  },
  {
   "cell_type": "code",
   "execution_count": 41,
   "metadata": {},
   "outputs": [],
   "source": [
    "class Point:\n",
    "    #생성자 -> 특수메소드: 객체 생성시 Point(10,20) 호출\n",
    "    def __init__(self, x, y):\n",
    "        self.x = x\n",
    "        self.y = y\n",
    "    # 객체를 문자열로 변환할 때 호출되는 메소드 - str()\n",
    "    def __str__(self):\n",
    "        return \"X:{}, Y:{}\".format(self.x, self.y)\n",
    "    \n",
    "    # Point객체_A == Point객체_B : == 연산자로 비교시 호출\n",
    "    # self: A, other: B\n",
    "    def __eq__(self, other):\n",
    "        return (self.x == other.x ) & (self.y == other.y)\n",
    "    \n",
    "    # __gt__(self, other)  : >\n",
    "    # __ge__()  : >=\n",
    "    # __lt__()  : <\n",
    "    # __le__()  : <=\n",
    "    # __ne__()  : !=\n",
    "    \n",
    "    # A + B : +연산시 호출. self:A, other:B\n",
    "    def __add__(self, other):\n",
    "        new_x = self.x + other.x\n",
    "        new_y = self.y + other.y\n",
    "        return Point(new_x, new_y)\n",
    "    \n",
    "    def __sub__(self, other):\n",
    "        '''self: point객체, other: 정수'''\n",
    "        n_x = self.x - other\n",
    "        n_y = self.y - other\n",
    "        return Point(n_x, n_y)\n",
    "    \n",
    "    # __sub__(self, other): -\n",
    "    # __mul__() : *\n",
    "    # __truediv__(): / -나누기\n",
    "    # __floordiv__(): // - 몫 나누기\n",
    "    # __mod__(): % - 나머지 나누기"
   ]
  },
  {
   "cell_type": "code",
   "execution_count": 42,
   "metadata": {},
   "outputs": [
    {
     "name": "stdout",
     "output_type": "stream",
     "text": [
      "X:20, Y:40\n"
     ]
    }
   ],
   "source": [
    "pt4 = Point(10,20)\n",
    "pt5 = Point(10,20)\n",
    "p = pt4 + pt5\n",
    "print(p)"
   ]
  },
  {
   "cell_type": "code",
   "execution_count": 43,
   "metadata": {},
   "outputs": [
    {
     "name": "stdout",
     "output_type": "stream",
     "text": [
      "X:0, Y:10\n"
     ]
    }
   ],
   "source": [
    "print(pt4-10)"
   ]
  },
  {
   "cell_type": "code",
   "execution_count": null,
   "metadata": {},
   "outputs": [],
   "source": []
  },
  {
   "cell_type": "code",
   "execution_count": null,
   "metadata": {},
   "outputs": [],
   "source": []
  },
  {
   "cell_type": "code",
   "execution_count": 44,
   "metadata": {},
   "outputs": [
    {
     "data": {
      "text/plain": [
       "(10, 20)"
      ]
     },
     "execution_count": 44,
     "metadata": {},
     "output_type": "execute_result"
    }
   ],
   "source": [
    "pt = Point(10,20)\n",
    "pt.x, pt.y"
   ]
  },
  {
   "cell_type": "code",
   "execution_count": 45,
   "metadata": {},
   "outputs": [
    {
     "data": {
      "text/plain": [
       "'X:10, Y:20'"
      ]
     },
     "execution_count": 45,
     "metadata": {},
     "output_type": "execute_result"
    }
   ],
   "source": [
    "str(pt) #Point객체를 문자열로 변환"
   ]
  },
  {
   "cell_type": "code",
   "execution_count": 46,
   "metadata": {},
   "outputs": [
    {
     "name": "stdout",
     "output_type": "stream",
     "text": [
      "X:10, Y:20\n"
     ]
    }
   ],
   "source": [
    "print(pt)"
   ]
  },
  {
   "cell_type": "code",
   "execution_count": 47,
   "metadata": {},
   "outputs": [
    {
     "data": {
      "text/plain": [
       "True"
      ]
     },
     "execution_count": 47,
     "metadata": {},
     "output_type": "execute_result"
    }
   ],
   "source": [
    "pt2 = Point(10,20)\n",
    "pt == pt2  #두 객체가 같은 객체인지 비교"
   ]
  },
  {
   "cell_type": "code",
   "execution_count": 48,
   "metadata": {},
   "outputs": [
    {
     "name": "stdout",
     "output_type": "stream",
     "text": [
      "X:10, Y:20 X:10, Y:20\n"
     ]
    }
   ],
   "source": [
    "print(pt, pt2)"
   ]
  },
  {
   "cell_type": "code",
   "execution_count": 49,
   "metadata": {},
   "outputs": [
    {
     "ename": "TypeError",
     "evalue": "unsupported operand type(s) for /: 'Point' and 'Point'",
     "output_type": "error",
     "traceback": [
      "\u001b[0;31m---------------------------------------------------------------------------\u001b[0m",
      "\u001b[0;31mTypeError\u001b[0m                                 Traceback (most recent call last)",
      "\u001b[0;32m<ipython-input-49-e3236680c502>\u001b[0m in \u001b[0;36m<module>\u001b[0;34m\u001b[0m\n\u001b[0;32m----> 1\u001b[0;31m \u001b[0mpt\u001b[0m \u001b[0;34m/\u001b[0m \u001b[0mpt2\u001b[0m\u001b[0;34m\u001b[0m\u001b[0;34m\u001b[0m\u001b[0m\n\u001b[0m",
      "\u001b[0;31mTypeError\u001b[0m: unsupported operand type(s) for /: 'Point' and 'Point'"
     ]
    }
   ],
   "source": [
    "pt / pt2"
   ]
  },
  {
   "cell_type": "code",
   "execution_count": 50,
   "metadata": {},
   "outputs": [],
   "source": [
    "class Super1:\n",
    "    def m(self):\n",
    "        print(\"Super1.m()\")\n",
    "    \n",
    "class Super2:\n",
    "    def m(self):\n",
    "        print(\"Super2.m()\")\n",
    "        \n",
    "    def m2(self):\n",
    "        print(\"Super2.m2()\")\n",
    "\n",
    "class Sub(Super1, Super2):\n",
    "    def method(self):\n",
    "        super().m()\n",
    "        super().m2()\n",
    "        "
   ]
  },
  {
   "cell_type": "code",
   "execution_count": 51,
   "metadata": {},
   "outputs": [
    {
     "name": "stdout",
     "output_type": "stream",
     "text": [
      "Super1.m()\n",
      "Super2.m2()\n"
     ]
    }
   ],
   "source": [
    "s = Sub()\n",
    "s.method()\n"
   ]
  },
  {
   "cell_type": "code",
   "execution_count": 52,
   "metadata": {},
   "outputs": [
    {
     "name": "stdout",
     "output_type": "stream",
     "text": [
      "Super1.m()\n"
     ]
    }
   ],
   "source": [
    "s.m()"
   ]
  },
  {
   "cell_type": "code",
   "execution_count": 53,
   "metadata": {},
   "outputs": [
    {
     "name": "stdout",
     "output_type": "stream",
     "text": [
      "Super2.m2()\n"
     ]
    }
   ],
   "source": [
    "s.m2()"
   ]
  },
  {
   "cell_type": "code",
   "execution_count": null,
   "metadata": {},
   "outputs": [],
   "source": []
  },
  {
   "cell_type": "markdown",
   "metadata": {},
   "source": [
    "## class변수, class 메소드\n",
    "- 클래스의 변수(속성), 클래스의 동작 (객체와 관계없다.)\n",
    "- 클래스 변수\n",
    "    - class block에 변수로 선언\n",
    "- 클래스 메소드\n",
    "    - 메소드 선언부에 @classmethod (데코레이션)을 붙인다.\n",
    "    - 첫번째 매개변수로 클래스자체를 받는 변수를 선언한다. (이 변수를 이용해 클래스 변수 호출)\n",
    "\n",
    "## static 메소드\n",
    "- 클래스의 동작\n",
    "- 클래스 변수와 관련없은 기능을 수행한다. \n",
    "- 구현\n",
    "    - 메소드 선언부에 @staticmethod (데코레이션)을 붙인다.\n",
    "    - 매개변수에 대한 제약이 없다. \n",
    "    "
   ]
  },
  {
   "cell_type": "code",
   "execution_count": 54,
   "metadata": {},
   "outputs": [],
   "source": [
    "class Calc:\n",
    "    #클래스 블럭에 선언한 변수 -> class 변수. 호출:Class이름.변수\n",
    "    PI = 3.14\n",
    "    raise_num = 5\n",
    "    \n",
    "    @staticmethod\n",
    "    def add(num1, num2):\n",
    "        return num1 + num2\n",
    "    \n",
    "    @classmethod\n",
    "    def circleSize(clz, radius): #첫번째 매개변수: 클래스(Calc)\n",
    "        return radius * radius * clz.PI"
   ]
  },
  {
   "cell_type": "code",
   "execution_count": 55,
   "metadata": {},
   "outputs": [
    {
     "data": {
      "text/plain": [
       "3.14"
      ]
     },
     "execution_count": 55,
     "metadata": {},
     "output_type": "execute_result"
    }
   ],
   "source": [
    "#class 메소드 - Class이름.메소드호출()\n",
    "Calc.circleSize(1)"
   ]
  },
  {
   "cell_type": "code",
   "execution_count": null,
   "metadata": {},
   "outputs": [],
   "source": []
  },
  {
   "cell_type": "code",
   "execution_count": 56,
   "metadata": {},
   "outputs": [
    {
     "data": {
      "text/plain": [
       "140"
      ]
     },
     "execution_count": 56,
     "metadata": {},
     "output_type": "execute_result"
    }
   ],
   "source": [
    "#static 메소드 호출 - Class이름.메소드호출()\n",
    "Calc.add(120,20)"
   ]
  },
  {
   "cell_type": "code",
   "execution_count": 57,
   "metadata": {},
   "outputs": [
    {
     "data": {
      "text/plain": [
       "(3.14, 5)"
      ]
     },
     "execution_count": 57,
     "metadata": {},
     "output_type": "execute_result"
    }
   ],
   "source": [
    "Calc.PI, Calc.raise_num"
   ]
  },
  {
   "cell_type": "code",
   "execution_count": null,
   "metadata": {},
   "outputs": [],
   "source": []
  },
  {
   "cell_type": "code",
   "execution_count": null,
   "metadata": {},
   "outputs": [],
   "source": []
  },
  {
   "cell_type": "code",
   "execution_count": null,
   "metadata": {},
   "outputs": [],
   "source": []
  },
  {
   "cell_type": "code",
   "execution_count": null,
   "metadata": {},
   "outputs": [],
   "source": []
  },
  {
   "cell_type": "code",
   "execution_count": null,
   "metadata": {},
   "outputs": [],
   "source": []
  }
 ],
 "metadata": {
  "kernelspec": {
   "display_name": "Python 3",
   "language": "python",
   "name": "python3"
  },
  "language_info": {
   "codemirror_mode": {
    "name": "ipython",
    "version": 3
   },
   "file_extension": ".py",
   "mimetype": "text/x-python",
   "name": "python",
   "nbconvert_exporter": "python",
   "pygments_lexer": "ipython3",
   "version": "3.8.1"
  }
 },
 "nbformat": 4,
 "nbformat_minor": 4
}
