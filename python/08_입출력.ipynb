{
 "cells": [
  {
   "cell_type": "markdown",
   "metadata": {},
   "source": [
    "# 텍스트 파일 입출력\n",
    "\n",
    "1. 연결 - open()\n",
    "2. 입력(read())/출력(write())\n",
    "3. 연결 닫기"
   ]
  },
  {
   "cell_type": "markdown",
   "metadata": {},
   "source": [
    "- w: 새로쓰기 (기존 파일이 있으면 지우고 새로 생성. 없으면 새로생성)\n",
    "- a: 이어쓰기 (기존 내용 뒤에 이어서 출력)"
   ]
  },
  {
   "cell_type": "code",
   "execution_count": 65,
   "metadata": {},
   "outputs": [],
   "source": [
    "# open(파일 경로, 모드 [, encoding 방식])\n",
    "# fr = open(\"test_text.txt\", 'wt') #test_text.txt와 텍스트쓰기 모드로 연결\n",
    "# fr = open('test_text.txt', 'wt', encoding='UTF-8')\n",
    "fr = open('test_text.txt', 'at', encoding='UTF-8') #at:이어쓰기\n",
    "txt = \"\"\"안녕하세요.\n",
    "aaaafaa\n",
    "1232312312\n",
    "끝\n",
    "\"\"\"\n",
    "# 출력\n",
    "fr.write(txt)\n",
    "fr.write(\"마지막 라인\\n\")\n",
    "fr.write(\"새줄\\n\")\n",
    "fr.close()"
   ]
  },
  {
   "cell_type": "code",
   "execution_count": 6,
   "metadata": {},
   "outputs": [
    {
     "name": "stdout",
     "output_type": "stream",
     "text": [
      "안녕하세요.\n",
      "aaaafaa\n",
      "1232312312\n",
      "끝\n",
      "마지막 라인\n",
      "새줄\n",
      "\n"
     ]
    }
   ],
   "source": [
    "f = open('test_text.txt', 'rt', encoding='UTF-8') \n",
    "r_txt = f.read()\n",
    "print(r_txt)\n",
    "f.close()"
   ]
  },
  {
   "cell_type": "code",
   "execution_count": 39,
   "metadata": {
    "scrolled": true
   },
   "outputs": [
    {
     "name": "stdout",
     "output_type": "stream",
     "text": [
      "['안녕하세요.\\n', 'aaaafaa\\n', '1232312312\\n', '끝\\n', '마지막 라인\\n', '새줄\\n', '안녕하세요.\\n', 'aaaafaa\\n', '1232312312\\n', '끝\\n', '마지막 라인\\n', '새줄\\n', '안녕하세요.\\n', 'aaaafaa\\n', '1232312312\\n', '끝\\n', '마지막 라인\\n', '새줄\\n', '안녕하세요.\\n', 'aaaafaa\\n', '1232312312\\n', '끝\\n', '마지막 라인\\n', '새줄\\n', '안녕하세요.\\n', 'aaaafaa\\n', '1232312312\\n', '끝\\n', '마지막 라인\\n', '새줄\\n', '안녕하세요.\\n', 'aaaafaa\\n', '1232312312\\n', '끝\\n', '마지막 라인\\n', '새줄\\n', '안녕하세요.\\n', 'aaaafaa\\n', '1232312312\\n', '끝\\n', '마지막 라인\\n', '새줄\\n', '안녕하세요.\\n', 'aaaafaa\\n', '1232312312\\n', '끝\\n', '마지막 라인\\n', '새줄\\n', '안녕하세요.\\n', 'aaaafaa\\n', '1232312312\\n', '끝\\n', '마지막 라인\\n', '새줄\\n', '안녕하세요.\\n', 'aaaafaa\\n', '1232312312\\n', '끝\\n', '마지막 라인\\n', '새줄\\n', '안녕하세요.\\n', 'aaaafaa\\n', '1232312312\\n', '끝\\n', '마지막 라인\\n', '새줄\\n', '안녕하세요.\\n', 'aaaafaa\\n', '1232312312\\n', '끝\\n', '마지막 라인\\n', '새줄\\n', '안녕하세요.\\n', 'aaaafaa\\n', '1232312312\\n', '끝\\n', '마지막 라인\\n', '새줄\\n', '안녕하세요.\\n', 'aaaafaa\\n', '1232312312\\n', '끝\\n', '마지막 라인\\n', '새줄\\n', '안녕하세요.\\n', 'aaaafaa\\n', '1232312312\\n', '끝\\n', '마지막 라인\\n', '새줄\\n', '안녕하세요.\\n', 'aaaafaa\\n', '1232312312\\n', '끝\\n', '마지막 라인\\n', '새줄\\n', '안녕하세요.\\n', 'aaaafaa\\n', '1232312312\\n', '끝\\n', '마지막 라인\\n', '새줄\\n']\n"
     ]
    }
   ],
   "source": [
    "f = open('test_text.txt', 'rt', encoding='UTF-8')\n",
    "# s = f.readline() #한줄\n",
    "s_list = f.readlines()\n",
    "print(s_list)\n",
    "f.close()"
   ]
  },
  {
   "cell_type": "code",
   "execution_count": 43,
   "metadata": {
    "collapsed": true,
    "jupyter": {
     "outputs_hidden": true
    }
   },
   "outputs": [
    {
     "name": "stdout",
     "output_type": "stream",
     "text": [
      "1 안녕하세요.\n",
      "2 aaaafaa\n",
      "3 1232312312\n",
      "4 끝\n",
      "5 마지막 라인\n",
      "6 새줄\n",
      "7 안녕하세요.\n",
      "8 aaaafaa\n",
      "9 1232312312\n",
      "10 끝\n",
      "11 마지막 라인\n",
      "12 새줄\n",
      "13 안녕하세요.\n",
      "14 aaaafaa\n",
      "15 1232312312\n",
      "16 끝\n",
      "17 마지막 라인\n",
      "18 새줄\n",
      "19 안녕하세요.\n",
      "20 aaaafaa\n",
      "21 1232312312\n",
      "22 끝\n",
      "23 마지막 라인\n",
      "24 새줄\n",
      "25 안녕하세요.\n",
      "26 aaaafaa\n",
      "27 1232312312\n",
      "28 끝\n",
      "29 마지막 라인\n",
      "30 새줄\n",
      "31 안녕하세요.\n",
      "32 aaaafaa\n",
      "33 1232312312\n",
      "34 끝\n",
      "35 마지막 라인\n",
      "36 새줄\n",
      "37 안녕하세요.\n",
      "38 aaaafaa\n",
      "39 1232312312\n",
      "40 끝\n",
      "41 마지막 라인\n",
      "42 새줄\n",
      "43 안녕하세요.\n",
      "44 aaaafaa\n",
      "45 1232312312\n",
      "46 끝\n",
      "47 마지막 라인\n",
      "48 새줄\n",
      "49 안녕하세요.\n",
      "50 aaaafaa\n",
      "51 1232312312\n",
      "52 끝\n",
      "53 마지막 라인\n",
      "54 새줄\n",
      "55 안녕하세요.\n",
      "56 aaaafaa\n",
      "57 1232312312\n",
      "58 끝\n",
      "59 마지막 라인\n",
      "60 새줄\n",
      "61 안녕하세요.\n",
      "62 aaaafaa\n",
      "63 1232312312\n",
      "64 끝\n",
      "65 마지막 라인\n",
      "66 새줄\n",
      "67 안녕하세요.\n",
      "68 aaaafaa\n",
      "69 1232312312\n",
      "70 끝\n",
      "71 마지막 라인\n",
      "72 새줄\n",
      "73 안녕하세요.\n",
      "74 aaaafaa\n",
      "75 1232312312\n",
      "76 끝\n",
      "77 마지막 라인\n",
      "78 새줄\n",
      "79 안녕하세요.\n",
      "80 aaaafaa\n",
      "81 1232312312\n",
      "82 끝\n",
      "83 마지막 라인\n",
      "84 새줄\n",
      "85 안녕하세요.\n",
      "86 aaaafaa\n",
      "87 1232312312\n",
      "88 끝\n",
      "89 마지막 라인\n",
      "90 새줄\n",
      "91 안녕하세요.\n",
      "92 aaaafaa\n",
      "93 1232312312\n",
      "94 끝\n",
      "95 마지막 라인\n",
      "96 새줄\n",
      "97 안녕하세요.\n",
      "98 aaaafaa\n",
      "99 1232312312\n",
      "100 끝\n",
      "101 마지막 라인\n",
      "102 새줄\n"
     ]
    }
   ],
   "source": [
    "f = open('test_text.txt', 'rt', encoding='UTF-8')\n",
    "for idx, row in enumerate(f, start=1):\n",
    "    print(idx, row.strip())\n",
    "    \n",
    "f.close()    "
   ]
  },
  {
   "cell_type": "code",
   "execution_count": 48,
   "metadata": {
    "collapsed": true,
    "jupyter": {
     "outputs_hidden": true
    }
   },
   "outputs": [
    {
     "name": "stdout",
     "output_type": "stream",
     "text": [
      "1 안녕하세요.\n",
      "2 aaaafaa\n",
      "3 1232312312\n",
      "4 끝\n",
      "5 마지막 라인\n",
      "6 새줄\n",
      "7 안녕하세요.\n",
      "8 aaaafaa\n",
      "9 1232312312\n",
      "10 끝\n",
      "11 마지막 라인\n",
      "12 새줄\n",
      "13 안녕하세요.\n",
      "14 aaaafaa\n",
      "15 1232312312\n",
      "16 끝\n",
      "17 마지막 라인\n",
      "18 새줄\n",
      "19 안녕하세요.\n",
      "20 aaaafaa\n",
      "21 1232312312\n",
      "22 끝\n",
      "23 마지막 라인\n",
      "24 새줄\n",
      "25 안녕하세요.\n",
      "26 aaaafaa\n",
      "27 1232312312\n",
      "28 끝\n",
      "29 마지막 라인\n",
      "30 새줄\n",
      "31 안녕하세요.\n",
      "32 aaaafaa\n",
      "33 1232312312\n",
      "34 끝\n",
      "35 마지막 라인\n",
      "36 새줄\n",
      "37 안녕하세요.\n",
      "38 aaaafaa\n",
      "39 1232312312\n",
      "40 끝\n",
      "41 마지막 라인\n",
      "42 새줄\n",
      "43 안녕하세요.\n",
      "44 aaaafaa\n",
      "45 1232312312\n",
      "46 끝\n",
      "47 마지막 라인\n",
      "48 새줄\n",
      "49 안녕하세요.\n",
      "50 aaaafaa\n",
      "51 1232312312\n",
      "52 끝\n",
      "53 마지막 라인\n",
      "54 새줄\n",
      "55 안녕하세요.\n",
      "56 aaaafaa\n",
      "57 1232312312\n",
      "58 끝\n",
      "59 마지막 라인\n",
      "60 새줄\n",
      "61 안녕하세요.\n",
      "62 aaaafaa\n",
      "63 1232312312\n",
      "64 끝\n",
      "65 마지막 라인\n",
      "66 새줄\n",
      "67 안녕하세요.\n",
      "68 aaaafaa\n",
      "69 1232312312\n",
      "70 끝\n",
      "71 마지막 라인\n",
      "72 새줄\n",
      "73 안녕하세요.\n",
      "74 aaaafaa\n",
      "75 1232312312\n",
      "76 끝\n",
      "77 마지막 라인\n",
      "78 새줄\n",
      "79 안녕하세요.\n",
      "80 aaaafaa\n",
      "81 1232312312\n",
      "82 끝\n",
      "83 마지막 라인\n",
      "84 새줄\n",
      "85 안녕하세요.\n",
      "86 aaaafaa\n",
      "87 1232312312\n",
      "88 끝\n",
      "89 마지막 라인\n",
      "90 새줄\n",
      "91 안녕하세요.\n",
      "92 aaaafaa\n",
      "93 1232312312\n",
      "94 끝\n",
      "95 마지막 라인\n",
      "96 새줄\n",
      "97 안녕하세요.\n",
      "98 aaaafaa\n",
      "99 1232312312\n",
      "100 끝\n",
      "101 마지막 라인\n",
      "102 새줄\n",
      "finally\n"
     ]
    }
   ],
   "source": [
    "try:\n",
    "    f = open('test_text.txt', 'rt', encoding='UTF-8')\n",
    "    for idx, row in enumerate(f, start=1):\n",
    "        print(idx, row.strip())\n",
    "except:\n",
    "    print(\"처리\")\n",
    "finally:  \n",
    "    print('finally')\n",
    "    f.close()   "
   ]
  },
  {
   "cell_type": "code",
   "execution_count": 66,
   "metadata": {},
   "outputs": [
    {
     "name": "stdout",
     "output_type": "stream",
     "text": [
      "안녕하세요.\n",
      "\n",
      "aaaafaa\n",
      "\n",
      "1232312312\n",
      "\n",
      "끝\n",
      "\n",
      "마지막 라인\n",
      "\n",
      "새줄\n",
      "\n",
      "종료\n"
     ]
    }
   ],
   "source": [
    "# fr = open(xxx)\n",
    "with open(\"test_text.txt\", 'rt', encoding='UTF-8') as fr:\n",
    "    #입출력\n",
    "    try:\n",
    "        for row in fr:\n",
    "            print(row)\n",
    "    except:\n",
    "        print(\"오류 처리\")\n",
    "\n",
    "        #with block을 빠져 나오면 자동으로 close() 된다.\n",
    "print(\"종료\")"
   ]
  },
  {
   "cell_type": "markdown",
   "metadata": {},
   "source": [
    "## 자원(파일) 경로\n",
    "- 절대경로\n",
    "    - 시작 경로(Root)부터 쭉 나열하는 것.\n",
    "    - c:\\a\\b\\c\\d\\a.txt\n",
    "- 상대경로\n",
    "    - 현재 작업 디렉토리(경로) 부터 찾아 가는 방식.\n",
    "    - `.`: 현재 경로\n",
    "    - `..`: 상위 경로\n",
    "    - `\\`, `/` : 경로 구분자로 하위경로로 들어갈때 사용.\n",
    "    - `./../test/a.txt"
   ]
  },
  {
   "cell_type": "code",
   "execution_count": 51,
   "metadata": {},
   "outputs": [
    {
     "name": "stdout",
     "output_type": "stream",
     "text": [
      "C:\\Users\\Playdata\\Python기초\n"
     ]
    }
   ],
   "source": [
    "# 현재 작업 경로?\n",
    "import os\n",
    "print(os.getcwd())"
   ]
  },
  {
   "cell_type": "markdown",
   "metadata": {},
   "source": [
    "TODO - 간단한 메모장\n",
    "사용자로부터 파일명을 입력받는다.\n",
    "사용자로 부터 파일에 저장할 문장을 입력받아서 파일에 저장한다.\n",
    " - 한줄씩 입력받는다.\n",
    "사용자가 !q 를 입력하면 저장후 종료한다.\n",
    "사용자가 저장한 파일을 읽어서 출력한다."
   ]
  },
  {
   "cell_type": "code",
   "execution_count": 3,
   "metadata": {},
   "outputs": [],
   "source": [
    "\n",
    "# encoding = input(\"인코딩:\")\n",
    "#연결\n",
    "def memo():\n",
    "    print(\"저장할 파일명을 입력하세요.\")\n",
    "    filename = input(\"파일명:\")\n",
    "    with open(filename, \"wt\", encoding='UTF-8') as fw:\n",
    "        print(\"내용을 입력하세요. 종료시 !q를 입력하세요.\")\n",
    "        print(\"=\"*50)\n",
    "        line = input()\n",
    "        while line != '!q':\n",
    "            fw.write(line+\"\\n\")\n",
    "            line = input()"
   ]
  },
  {
   "cell_type": "code",
   "execution_count": 5,
   "metadata": {},
   "outputs": [
    {
     "name": "stdout",
     "output_type": "stream",
     "text": [
      "저장할 파일명을 입력하세요.\n",
      "파일명:ddd\n",
      "내용을 입력하세요. 종료시 !q를 입력하세요.\n",
      "==================================================\n",
      "ad\n",
      "!q\n"
     ]
    }
   ],
   "source": [
    "memo()"
   ]
  },
  {
   "cell_type": "code",
   "execution_count": 6,
   "metadata": {},
   "outputs": [
    {
     "name": "stdout",
     "output_type": "stream",
     "text": [
      "저장할 파일명을 입력하세요.\n",
      "파일명:sss\n",
      "내용을 입력하세요. 종료시 !q를 입력하세요.\n",
      "==================================================\n",
      "!q\n"
     ]
    }
   ],
   "source": [
    "memo()"
   ]
  },
  {
   "cell_type": "code",
   "execution_count": 4,
   "metadata": {},
   "outputs": [
    {
     "name": "stdout",
     "output_type": "stream",
     "text": [
      "\u001b[31mERROR: Could not find a version that satisfies the requirement my_memo (from versions: none)\u001b[0m\n",
      "\u001b[31mERROR: No matching distribution found for my_memo\u001b[0m\n",
      "Note: you may need to restart the kernel to use updated packages.\n"
     ]
    }
   ],
   "source": [
    "pip install my_memo"
   ]
  },
  {
   "cell_type": "code",
   "execution_count": 1,
   "metadata": {},
   "outputs": [
    {
     "ename": "ModuleNotFoundError",
     "evalue": "No module named 'my_memo'",
     "output_type": "error",
     "traceback": [
      "\u001b[0;31m---------------------------------------------------------------------------\u001b[0m",
      "\u001b[0;31mModuleNotFoundError\u001b[0m                       Traceback (most recent call last)",
      "\u001b[0;32m<ipython-input-1-8117fc442d61>\u001b[0m in \u001b[0;36m<module>\u001b[0;34m\u001b[0m\n\u001b[0;32m----> 1\u001b[0;31m \u001b[0;32mimport\u001b[0m \u001b[0mmy_memo\u001b[0m\u001b[0;34m\u001b[0m\u001b[0;34m\u001b[0m\u001b[0m\n\u001b[0m",
      "\u001b[0;31mModuleNotFoundError\u001b[0m: No module named 'my_memo'"
     ]
    }
   ],
   "source": [
    "import my_memo"
   ]
  },
  {
   "cell_type": "code",
   "execution_count": 8,
   "metadata": {},
   "outputs": [
    {
     "name": "stdout",
     "output_type": "stream",
     "text": [
      "저장할 파일명을 입력하세요.\n",
      "파일명:ttt.txt\n",
      "내용을 입력하세요. 종료시 !q를 입력하세요.\n",
      "==================================================\n",
      "asdkljfasdf\n",
      "!q\n"
     ]
    }
   ],
   "source": [
    "my_memo.memo()"
   ]
  },
  {
   "cell_type": "markdown",
   "metadata": {},
   "source": [
    "- CSV(Comma separate value): 데이터를 모아 저장하는 방식.\n",
    "    - 하나의 값을 구성하는 값들(속성)을 , 로 구분\n",
    "    - 각각의 값들은 엔터로 구분.\n",
    "    - 텍스트 기반."
   ]
  },
  {
   "cell_type": "markdown",
   "metadata": {},
   "source": [
    "TODO - member.csv 파일을 읽어서 각 열의 값을 배열에 담는다.\n",
    "이름,나이,주소  형태의 csv를 읽어\n",
    "names = []\n",
    "ages =[]\n",
    "address =[]\n",
    "배열에 넣는다. \n",
    "- 단 첫줄은 head이므로 읽지 않는다.\n",
    "- 참고 함수: 문자열 split(), strip(), for문 관련 enumerate()"
   ]
  },
  {
   "cell_type": "code",
   "execution_count": 17,
   "metadata": {},
   "outputs": [],
   "source": [
    "# 이름들, 나이들, 주소들을 저장할 리스트\n",
    "names = [] \n",
    "ages = []\n",
    "addresses=[]\n",
    "with open(\"member.csv\",'rt',encoding='CP949') as fr:\n",
    "#     fr.readline(), fr.readlines()\n",
    "    for idx, row in enumerate(fr): #반복당 한줄씩 반환\n",
    "        if idx==0:\n",
    "            continue\n",
    "#         tmp = row.strip().split(',')\n",
    "        names.append(tmp[0])\n",
    "        ages.append(tmp[1])\n",
    "        addresses.append(tmp[2])"
   ]
  },
  {
   "cell_type": "code",
   "execution_count": 18,
   "metadata": {},
   "outputs": [
    {
     "data": {
      "text/plain": [
       "['김영수', '박영희', '오민수', '최정길', '이명수', '이철수']"
      ]
     },
     "execution_count": 18,
     "metadata": {},
     "output_type": "execute_result"
    }
   ],
   "source": [
    "names"
   ]
  },
  {
   "cell_type": "code",
   "execution_count": 19,
   "metadata": {},
   "outputs": [
    {
     "data": {
      "text/plain": [
       "['20', '21', '30', '15', '22', '17']"
      ]
     },
     "execution_count": 19,
     "metadata": {},
     "output_type": "execute_result"
    }
   ],
   "source": [
    "ages"
   ]
  },
  {
   "cell_type": "code",
   "execution_count": 20,
   "metadata": {},
   "outputs": [
    {
     "data": {
      "text/plain": [
       "['서울', '서울', '부산', '인천', '광주', '대전']"
      ]
     },
     "execution_count": 20,
     "metadata": {},
     "output_type": "execute_result"
    }
   ],
   "source": [
    "addresses"
   ]
  },
  {
   "cell_type": "code",
   "execution_count": 31,
   "metadata": {},
   "outputs": [
    {
     "name": "stdout",
     "output_type": "stream",
     "text": [
      "김영수,20,서울\n",
      "박영희,21,서울\n",
      "오민수,30,부산\n",
      "최정길,15,인천\n",
      "이명수,22,광주\n",
      "이철수,17,대전\n"
     ]
    }
   ],
   "source": [
    "with open('member2.csv', 'wt', encoding='UTF-8') as fw:\n",
    "    for p in zip(names, ages, addresses):\n",
    "        row = ','.join(p)\n",
    "        print(row)\n",
    "        fw.write(row+'\\n')"
   ]
  },
  {
   "cell_type": "code",
   "execution_count": 24,
   "metadata": {},
   "outputs": [
    {
     "data": {
      "text/plain": [
       "'김영수,20,서울'"
      ]
     },
     "execution_count": 24,
     "metadata": {},
     "output_type": "execute_result"
    }
   ],
   "source": [
    "','.join((\"김영수\", '20', '서울'))"
   ]
  },
  {
   "cell_type": "markdown",
   "metadata": {},
   "source": [
    "## pickle 모듈\n",
    "- 모든 파이썬 객체(데이터)를 binary로 파일에 저장/읽기 하는 함수 제공\n",
    "- dump(저장할객체, fw) : 파일에 쓰기 함수\n",
    "- load(fr): 파일로부터 읽는 함수"
   ]
  },
  {
   "cell_type": "code",
   "execution_count": 35,
   "metadata": {},
   "outputs": [
    {
     "data": {
      "text/plain": [
       "['김영수', '박영희', '오민수', '최정길', '이명수', '이철수']"
      ]
     },
     "execution_count": 35,
     "metadata": {},
     "output_type": "execute_result"
    }
   ],
   "source": [
    "names"
   ]
  },
  {
   "cell_type": "code",
   "execution_count": 5,
   "metadata": {},
   "outputs": [],
   "source": [
    "import pickle"
   ]
  },
  {
   "cell_type": "code",
   "execution_count": 41,
   "metadata": {},
   "outputs": [],
   "source": [
    "# 리스트 객체를 파일에 저장\n",
    "with open('names.pkl', 'wb') as fw:\n",
    "    pickle.dump(names, fw)    "
   ]
  },
  {
   "cell_type": "code",
   "execution_count": 40,
   "metadata": {},
   "outputs": [],
   "source": [
    "# with open('names2.txt', 'wt') as fw2:\n",
    "#     fw2.write(str(names))"
   ]
  },
  {
   "cell_type": "code",
   "execution_count": 42,
   "metadata": {},
   "outputs": [],
   "source": [
    "with open(\"names.pkl\", 'rb') as fr:\n",
    "    name2 = pickle.load(fr)"
   ]
  },
  {
   "cell_type": "code",
   "execution_count": 43,
   "metadata": {},
   "outputs": [
    {
     "data": {
      "text/plain": [
       "'김영수'"
      ]
     },
     "execution_count": 43,
     "metadata": {},
     "output_type": "execute_result"
    }
   ],
   "source": [
    "name2[0]"
   ]
  },
  {
   "cell_type": "code",
   "execution_count": 44,
   "metadata": {},
   "outputs": [],
   "source": [
    "with open('member.pkl', 'wb') as fw:\n",
    "    pickle.dump(names, fw)\n",
    "    pickle.dump(ages, fw)\n",
    "    pickle.dump(addresses, fw)"
   ]
  },
  {
   "cell_type": "code",
   "execution_count": 46,
   "metadata": {
    "collapsed": true,
    "jupyter": {
     "outputs_hidden": true
    }
   },
   "outputs": [
    {
     "ename": "EOFError",
     "evalue": "Ran out of input",
     "output_type": "error",
     "traceback": [
      "\u001b[1;31m---------------------------------------------------------------------------\u001b[0m",
      "\u001b[1;31mEOFError\u001b[0m                                  Traceback (most recent call last)",
      "\u001b[1;32m<ipython-input-46-f637a583d1a5>\u001b[0m in \u001b[0;36m<module>\u001b[1;34m\u001b[0m\n\u001b[0;32m      3\u001b[0m     \u001b[0ma\u001b[0m \u001b[1;33m=\u001b[0m \u001b[0mpickle\u001b[0m\u001b[1;33m.\u001b[0m\u001b[0mload\u001b[0m\u001b[1;33m(\u001b[0m\u001b[0mfr\u001b[0m\u001b[1;33m)\u001b[0m\u001b[1;33m\u001b[0m\u001b[1;33m\u001b[0m\u001b[0m\n\u001b[0;32m      4\u001b[0m     \u001b[0maddr\u001b[0m \u001b[1;33m=\u001b[0m \u001b[0mpickle\u001b[0m\u001b[1;33m.\u001b[0m\u001b[0mload\u001b[0m\u001b[1;33m(\u001b[0m\u001b[0mfr\u001b[0m\u001b[1;33m)\u001b[0m\u001b[1;33m\u001b[0m\u001b[1;33m\u001b[0m\u001b[0m\n\u001b[1;32m----> 5\u001b[1;33m     \u001b[0mt\u001b[0m \u001b[1;33m=\u001b[0m \u001b[0mpickle\u001b[0m\u001b[1;33m.\u001b[0m\u001b[0mload\u001b[0m\u001b[1;33m(\u001b[0m\u001b[0mfr\u001b[0m\u001b[1;33m)\u001b[0m\u001b[1;33m\u001b[0m\u001b[1;33m\u001b[0m\u001b[0m\n\u001b[0m\u001b[0;32m      6\u001b[0m \u001b[0mprint\u001b[0m\u001b[1;33m(\u001b[0m\u001b[0mn\u001b[0m\u001b[1;33m)\u001b[0m\u001b[1;33m\u001b[0m\u001b[1;33m\u001b[0m\u001b[0m\n\u001b[0;32m      7\u001b[0m \u001b[0mprint\u001b[0m\u001b[1;33m(\u001b[0m\u001b[0ma\u001b[0m\u001b[1;33m)\u001b[0m\u001b[1;33m\u001b[0m\u001b[1;33m\u001b[0m\u001b[0m\n",
      "\u001b[1;31mEOFError\u001b[0m: Ran out of input"
     ]
    }
   ],
   "source": [
    "with open('member.pkl', 'rb') as fr:\n",
    "    n = pickle.load(fr)\n",
    "    a = pickle.load(fr)\n",
    "    addr = pickle.load(fr)\n",
    "    t = pickle.load(fr)\n",
    "print(n)    \n",
    "print(a)\n",
    "print(addr)"
   ]
  },
  {
   "cell_type": "code",
   "execution_count": 48,
   "metadata": {},
   "outputs": [
    {
     "name": "stdout",
     "output_type": "stream",
     "text": [
      "['김영수', '박영희', '오민수', '최정길', '이명수', '이철수']\n",
      "['20', '21', '30', '15', '22', '17']\n",
      "['서울', '서울', '부산', '인천', '광주', '대전']\n",
      "종료\n"
     ]
    }
   ],
   "source": [
    "with open('member.pkl', 'rb') as fr:\n",
    "    while True:\n",
    "        try:\n",
    "            print(pickle.load(fr))\n",
    "        except:\n",
    "            break\n",
    "print(\"종료\")            "
   ]
  },
  {
   "cell_type": "code",
   "execution_count": 50,
   "metadata": {},
   "outputs": [],
   "source": [
    "class Person:\n",
    "    def __init__(self, name, age):\n",
    "        self.name = name\n",
    "        self.age = age\n",
    "    def __str__(self):\n",
    "        return '이름:{}, 나이:{}'.format(self.name, self.age)"
   ]
  },
  {
   "cell_type": "code",
   "execution_count": 57,
   "metadata": {},
   "outputs": [],
   "source": [
    "p1 = Person(\"홍길동\",20)\n",
    "p2 = Person(\"홍길동2\",20)\n",
    "p3 = Person(\"홍길동3\",24)\n",
    "p4 = Person(\"홍길동4\",26)\n",
    "p_list = [p1,p2, p3,p4]"
   ]
  },
  {
   "cell_type": "code",
   "execution_count": 58,
   "metadata": {},
   "outputs": [],
   "source": [
    "import pickle\n",
    "with open('p_list.pkl', 'wb') as fw:\n",
    "    pickle.dump(p_list, fw)"
   ]
  },
  {
   "cell_type": "code",
   "execution_count": 59,
   "metadata": {},
   "outputs": [],
   "source": [
    "with open('p_list.pkl', 'rb') as fr:\n",
    "    p_list_copy = pickle.load(fr)"
   ]
  },
  {
   "cell_type": "code",
   "execution_count": 64,
   "metadata": {},
   "outputs": [
    {
     "data": {
      "text/plain": [
       "'이름:홍길동, 나이:20'"
      ]
     },
     "execution_count": 64,
     "metadata": {},
     "output_type": "execute_result"
    }
   ],
   "source": [
    "str(p_list_copy[0])"
   ]
  },
  {
   "cell_type": "code",
   "execution_count": 65,
   "metadata": {},
   "outputs": [
    {
     "data": {
      "text/plain": [
       "'이름:홍길동2, 나이:20'"
      ]
     },
     "execution_count": 65,
     "metadata": {},
     "output_type": "execute_result"
    }
   ],
   "source": [
    "str(p_list_copy[1])"
   ]
  },
  {
   "cell_type": "code",
   "execution_count": null,
   "metadata": {},
   "outputs": [],
   "source": []
  },
  {
   "cell_type": "code",
   "execution_count": 52,
   "metadata": {},
   "outputs": [],
   "source": [
    "import pickle\n",
    "with open('p.pkl', 'wb') as fw:\n",
    "    pickle.dump(p1, fw)"
   ]
  },
  {
   "cell_type": "code",
   "execution_count": 53,
   "metadata": {},
   "outputs": [],
   "source": [
    "import pickle\n",
    "with open('p.pkl', 'rb') as fr:\n",
    "    p1_copy = pickle.load(fr)"
   ]
  },
  {
   "cell_type": "code",
   "execution_count": 54,
   "metadata": {},
   "outputs": [
    {
     "data": {
      "text/plain": [
       "'홍길동'"
      ]
     },
     "execution_count": 54,
     "metadata": {},
     "output_type": "execute_result"
    }
   ],
   "source": [
    "p1_copy.name"
   ]
  },
  {
   "cell_type": "code",
   "execution_count": 55,
   "metadata": {},
   "outputs": [
    {
     "data": {
      "text/plain": [
       "'이름:홍길동, 나이:20'"
      ]
     },
     "execution_count": 55,
     "metadata": {},
     "output_type": "execute_result"
    }
   ],
   "source": [
    "str(p1_copy)"
   ]
  },
  {
   "cell_type": "code",
   "execution_count": null,
   "metadata": {},
   "outputs": [],
   "source": []
  },
  {
   "cell_type": "code",
   "execution_count": null,
   "metadata": {},
   "outputs": [],
   "source": []
  }
 ],
 "metadata": {
  "kernelspec": {
   "display_name": "Python 3",
   "language": "python",
   "name": "python3"
  },
  "language_info": {
   "codemirror_mode": {
    "name": "ipython",
    "version": 3
   },
   "file_extension": ".py",
   "mimetype": "text/x-python",
   "name": "python",
   "nbconvert_exporter": "python",
   "pygments_lexer": "ipython3",
   "version": "3.8.1"
  }
 },
 "nbformat": 4,
 "nbformat_minor": 4
}
