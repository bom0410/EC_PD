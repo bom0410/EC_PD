{
 "cells": [
  {
   "cell_type": "markdown",
   "metadata": {
    "slideshow": {
     "slide_type": "slide"
    }
   },
   "source": [
    "# cx_Oralce 모듈\n",
    "- 파이썬에서 오라클 DBMS와 연동는 다양한 함수를 제공하는 모듈\n",
    "- Python DB API 2.0 표준을 따른다. \n",
    "\n",
    "## 참고\n",
    "- [cx_Oralce 모듈 홈페이지](https://oracle.github.io/python-cx_Oracle/)\n",
    "- [Python DB API](https://docs.python.org/ko/3/library/sqlite3.html)"
   ]
  },
  {
   "cell_type": "code",
   "execution_count": 2,
   "metadata": {
    "collapsed": true
   },
   "outputs": [
    {
     "name": "stdout",
     "output_type": "stream",
     "text": [
      "파이썬 Oracle DB 연동.ipynb\r\n"
     ]
    }
   ],
   "source": [
    "!ls\n",
    "    \n",
    "    "
   ]
  },
  {
   "cell_type": "code",
   "execution_count": 3,
   "metadata": {
    "collapsed": true
   },
   "outputs": [],
   "source": [
    "#!pip install cx-oracle"
   ]
  },
  {
   "cell_type": "markdown",
   "metadata": {
    "slideshow": {
     "slide_type": "slide"
    }
   },
   "source": [
    "## cx_Oracle 모듈 설치\n",
    "- [설치 튜토리얼](https://cx-oracle.readthedocs.io/en/latest/user_guide/installation.html)\n",
    "- 패키지 설치\n",
    "```\n",
    "conda install cx_oracle\n",
    "pip install cx_Oracle --upgrade\n",
    "```"
   ]
  },
  {
   "cell_type": "markdown",
   "metadata": {
    "slideshow": {
     "slide_type": "slide"
    }
   },
   "source": [
    "## 코딩 절차\n",
    "1. cx_Oracle 모듈 import"
   ]
  },
  {
   "cell_type": "markdown",
   "metadata": {
    "slideshow": {
     "slide_type": "fragment"
    }
   },
   "source": [
    "2. cx_Oracle모듈의 connect() 함수를 이용해 디비연결"
   ]
  },
  {
   "cell_type": "markdown",
   "metadata": {
    "slideshow": {
     "slide_type": "fragment"
    }
   },
   "source": [
    "3. Connection 객체의 cursor() 메소드를 이용해 Cursor객체 조회.\n",
    "    - Cursor객체: sql문을 전송하고 select결과 조회 기능을 제공하는 객체"
   ]
  },
  {
   "cell_type": "markdown",
   "metadata": {
    "slideshow": {
     "slide_type": "fragment"
    }
   },
   "source": [
    "4. Cursor 의 execute() 메소드를 이용해 SQL문 전송"
   ]
  },
  {
   "cell_type": "markdown",
   "metadata": {
    "slideshow": {
     "slide_type": "fragment"
    }
   },
   "source": [
    "5. SELECT 의 경우 결과 조회.\n",
    "    - 조회결과 한행씩 반환받아 사용\n",
    "    - 조회결과 한번에 반환받아 사용"
   ]
  },
  {
   "cell_type": "markdown",
   "metadata": {
    "slideshow": {
     "slide_type": "fragment"
    }
   },
   "source": [
    "6. INSERT/DELETE/UPDATE의 경우  SQL 문 실행 후 Connection의 commit() 메소드를 이용해 Transaction 처리"
   ]
  },
  {
   "cell_type": "markdown",
   "metadata": {
    "slideshow": {
     "slide_type": "fragment"
    }
   },
   "source": [
    "7. Cursor, Connection 연결 닫기"
   ]
  },
  {
   "cell_type": "markdown",
   "metadata": {
    "slideshow": {
     "slide_type": "slide"
    }
   },
   "source": [
    "### DB 연결\n",
    "- connect() 함수를 이용하며 연결 후 Connection 객체를 받는다.\n",
    "- 연결시 필요한 값\n",
    "    - **host**\n",
    "    - **port번호**\n",
    "    - **user name**\n",
    "    - **password**\n",
    "\n",
    "### Connection 주요 메소드\n",
    "- commit(): 커밋\n",
    "- rollback(): 롤백\n",
    "- close(): 연결 닫기"
   ]
  },
  {
   "cell_type": "code",
   "execution_count": 7,
   "metadata": {
    "collapsed": true
   },
   "outputs": [],
   "source": [
    "import cx_Oracle\n",
    "# host:port/SID     SID-데이터베이스 이름.\n",
    "conn1 = cx_Oracle.connect(\"scott\", \"tiger\", \"localhost:1521/XE\") \n",
    "#DB 작업\n",
    "conn1.close() #디비와 연결 닫기"
   ]
  },
  {
   "cell_type": "code",
   "execution_count": null,
   "metadata": {
    "collapsed": true
   },
   "outputs": [],
   "source": [
    "conn2 = cx_Oracle.connect(\"scott/tiger@localhost:1521/XE\")\n",
    "conn2.close()"
   ]
  },
  {
   "cell_type": "markdown",
   "metadata": {
    "slideshow": {
     "slide_type": "slide"
    }
   },
   "source": [
    "#### DSN (Data Source Name) 을 이용한 연결\n",
    "- DSN: DBMS를 연결하기 위한 정보를 모아 놓은 것. (서로 다른 DBMS의 연결정보를 통일하기 위해서 방식)\n",
    "- makedsn(host, port번호, SID) 함수 이용해 생성한다."
   ]
  },
  {
   "cell_type": "code",
   "execution_count": null,
   "metadata": {
    "collapsed": true
   },
   "outputs": [],
   "source": [
    "dsn = cx_Oracle.makedsn(\"localhost\", 1521, \"XE\")"
   ]
  },
  {
   "cell_type": "code",
   "execution_count": null,
   "metadata": {
    "collapsed": true
   },
   "outputs": [],
   "source": []
  },
  {
   "cell_type": "markdown",
   "metadata": {
    "slideshow": {
     "slide_type": "slide"
    }
   },
   "source": [
    "## Cursor 객체\n",
    "- SQL문을 전송하고 select결과를 조회하는 메소드들을 제공한다.\n",
    "- Connection객체의 cursor() 메소드로 받아온다."
   ]
  },
  {
   "cell_type": "markdown",
   "metadata": {
    "slideshow": {
     "slide_type": "subslide"
    }
   },
   "source": [
    "### Cursor의 주요 메소드\n",
    "#### SQL 실행 메소드\n",
    "- execute(sql) : 하나의 sql 문 실행. \n",
    "- executemany(sql): insert, update, delete 배치 처리\n",
    "    - insert, update, delete는 다 처리후 conn.commit()으로 커밋 처리해야한다.\n",
    "    "
   ]
  },
  {
   "cell_type": "markdown",
   "metadata": {
    "slideshow": {
     "slide_type": "fragment"
    }
   },
   "source": [
    "#### select 결과 조회 메소드\n",
    "- execute()로 실행한 SQL이 select인 경우 다음 메소드로 조회한다.\n",
    "- fetchall()  : 조회된 모든 행을 한번에 가져올 때 사용한다. 결과를 tuple들을 묶은 리스트로 반환\n",
    "- fetchone()  : 호출시 마다 한행씩 반환한다. PK로 조회한 경우 많이 사용한다.\n",
    "- fetchmany(n): n행만큼 조회한다. n기본값-100. 특정개수반큼 반복문을 이용해 가져올때 사용."
   ]
  },
  {
   "cell_type": "code",
   "execution_count": 37,
   "metadata": {
    "slideshow": {
     "slide_type": "skip"
    }
   },
   "outputs": [
    {
     "name": "stdout",
     "output_type": "stream",
     "text": [
      "Insert행수 : 1\n",
      "[(100, 'Steven', 24000.0),\n",
      " (101, 'Neena', 17000.0),\n",
      " (102, 'Lex', 17000.0),\n",
      " (103, 'Alexander', 9000.0),\n",
      " (104, 'Bruce', 6000.0),\n",
      " (105, 'David', 4800.0),\n",
      " (106, 'Valli', 4800.0),\n",
      " (107, 'Diana', 4200.0),\n",
      " (108, 'Nancy', 12008.0),\n",
      " (109, 'Daniel', 9000.0),\n",
      " (110, 'John', 8200.0),\n",
      " (111, 'Ismael', 7700.0),\n",
      " (112, 'Jose Manuel', 7800.0),\n",
      " (113, 'Luis', 6900.0),\n",
      " (114, 'Den', 11000.0),\n",
      " (115, 'Alexander', 7100.0),\n",
      " (116, 'Shelli', 2900.0),\n",
      " (117, 'Sigal', 2800.0),\n",
      " (118, 'Guy', 2600.0),\n",
      " (119, 'Karen', 2500.0),\n",
      " (120, 'Matthew', 8000.0),\n",
      " (121, 'Adam', 8200.0),\n",
      " (122, 'Payam', 7900.0),\n",
      " (123, 'Shanta', 6500.0),\n",
      " (124, 'Kevin', 5800.0),\n",
      " (125, 'Julia', 3200.0),\n",
      " (126, 'Irene', 2700.0),\n",
      " (127, 'James', 2400.0),\n",
      " (128, 'Steven', 2200.0),\n",
      " (129, 'Laura', 3300.0),\n",
      " (130, 'Mozhe', 2800.0),\n",
      " (131, 'James', 2500.0),\n",
      " (132, 'TJ', 2100.0),\n",
      " (133, 'Jason', 3300.0),\n",
      " (134, 'Michael', 2900.0),\n",
      " (135, 'Ki', 2400.0),\n",
      " (136, 'Hazel', 2200.0),\n",
      " (137, 'Renske', 3600.0),\n",
      " (138, 'Stephen', 3200.0),\n",
      " (139, 'John', 2700.0),\n",
      " (140, 'Joshua', 2500.0),\n",
      " (141, 'Trenna', 3500.0),\n",
      " (142, 'Curtis', 3100.0),\n",
      " (143, 'Randall', 2600.0),\n",
      " (144, 'Peter', 2500.0),\n",
      " (145, 'John', 14000.0),\n",
      " (146, 'Karen', 13500.0),\n",
      " (147, 'Alberto', 12000.0),\n",
      " (148, 'Ger%ald', 11000.0),\n",
      " (149, 'Eleni', 10500.0),\n",
      " (150, 'Peter', 10000.0),\n",
      " (151, 'David', 9500.0),\n",
      " (152, 'Peter', 9000.0),\n",
      " (153, 'Christopher', 8000.0),\n",
      " (154, 'Nanette', 7500.0),\n",
      " (155, 'Oliver', 7000.0),\n",
      " (156, 'Janette', 10000.0),\n",
      " (157, 'Patrick', 9500.0),\n",
      " (158, 'Allan', 9000.0),\n",
      " (159, 'Lindsey', 8000.0),\n",
      " (160, 'Louise', 7500.0),\n",
      " (161, 'Sarath', 7000.0),\n",
      " (162, 'Clara', 10500.0),\n",
      " (163, 'Danielle', 9500.0),\n",
      " (164, 'Mattea', 7200.0),\n",
      " (165, 'David', 6800.0),\n",
      " (166, 'Sundar', 6400.0),\n",
      " (167, 'Amit', 6200.0),\n",
      " (168, 'Lisa', 11500.0),\n",
      " (169, 'Harrison', 10000.0),\n",
      " (170, 'Tayler', 9600.0),\n",
      " (171, 'William', 7400.0),\n",
      " (172, 'Elizabeth', 7300.0),\n",
      " (173, 'Sundita', 6100.0),\n",
      " (174, 'Ellen', 11000.0),\n",
      " (175, 'Alyssa', 8800.0),\n",
      " (176, 'Jonathon', 8600.0),\n",
      " (177, 'Jack', 8400.0),\n",
      " (178, 'Kimberely', 7000.0),\n",
      " (179, 'Charles', 6200.0),\n",
      " (180, 'Winston', 3200.0),\n",
      " (181, 'Jean', 3100.0),\n",
      " (182, 'Martha', 2500.0),\n",
      " (183, 'Girard', 2800.0),\n",
      " (184, 'Nandita', 4200.0),\n",
      " (185, 'Alexis', 4100.0),\n",
      " (186, 'Julia', 3400.0),\n",
      " (187, 'Anthony', 3000.0),\n",
      " (188, 'Kelly', 3800.0),\n",
      " (189, 'Jennifer', 3600.0),\n",
      " (190, 'Timothy', 2900.0),\n",
      " (191, 'Randall', 2500.0),\n",
      " (192, 'Sarah', 4000.0),\n",
      " (193, 'Britney', 3900.0),\n",
      " (194, 'Samuel', 3200.0),\n",
      " (195, 'Vance', 2800.0),\n",
      " (196, 'Alana', 3100.0),\n",
      " (197, 'Kevin', 3000.0),\n",
      " (198, 'Donald', 2600.0),\n",
      " (199, 'Douglas', 2600.0),\n",
      " (200, 'Jennifer', 4400.0),\n",
      " (201, 'Michael', 13000.0),\n",
      " (202, 'Pat', 6000.0),\n",
      " (203, 'Susan', 6500.0),\n",
      " (204, 'Hermann', 10000.0),\n",
      " (205, 'Shelley', 12008.0),\n",
      " (206, 'William', 8300.0),\n",
      " (850, 'hong', 30000.0),\n",
      " (860, 'hong', 30000.0),\n",
      " (865, 'hong', 30000.0)]\n"
     ]
    }
   ],
   "source": [
    "import cx_Oracle\n",
    "from pprint import pprint #pprint모듈의 pprint 함수\n",
    "\n",
    "select_sql = 'SELECT emp_id, emp_name, salary FROM emp'\n",
    "insert_sql = \"insert into emp (emp_id, emp_name, job, hire_date, salary) values (865, 'hong', 'IT_PROG', to_date('20191030', 'yyyymmdd'), 30000)\"\n",
    "\n",
    "try:\n",
    "    # 연결\n",
    "    conn = None\n",
    "    cursor = None\n",
    "    \n",
    "    conn = cx_Oracle.connect(\"scott/tiger@localhost:1521/XE\")\n",
    "    # Cursor 조회\n",
    "    cursor = conn.cursor()\n",
    "    # SQL 관련 작업.\n",
    "    cursor.execute(insert_sql)\n",
    "    insert_rowcount = cursor.rowcount #SQL이 적용된 행수 반환.\n",
    "    print(\"Insert행수 :\", insert_rowcount)\n",
    "\n",
    "    cursor.execute(select_sql)\n",
    "    pprint(cursor.fetchall()) #조회된 결과 다 보기\n",
    "    conn.commit()#커밋처리.\n",
    "except Exception as e:\n",
    "    print(e)\n",
    "finally:\n",
    "    #연결 닫기\n",
    "    if cursor:\n",
    "        cursor.close()\n",
    "    if conn:\n",
    "        conn.close()"
   ]
  },
  {
   "cell_type": "markdown",
   "metadata": {
    "slideshow": {
     "slide_type": "slide"
    }
   },
   "source": [
    "## placeholder(자리표시자)를 이용해 sql 실행\n",
    "- SQL에 값이 들어갈 자리에 값을 대신할 문자 **`:순번` 또는 `:이름`** 를 넣고 SQL 실행시 값을 전달\n",
    "> placehold 는 DBMS마다 다르다. \n",
    "- execute(SQL, placeholder에 들어갈 값)\n",
    "    - 딕셔너리: placeholder의 이름-값 형식\n",
    "    - 리스트나 튜플: placeholder 순서"
   ]
  },
  {
   "cell_type": "code",
   "execution_count": 46,
   "metadata": {},
   "outputs": [
    {
     "name": "stdout",
     "output_type": "stream",
     "text": [
      "Insert행수 : 1\n",
      "[(103, 'Alexander', 9000.0),\n",
      " (104, 'Bruce', 6000.0),\n",
      " (109, 'Daniel', 9000.0),\n",
      " (110, 'John', 8200.0),\n",
      " (111, 'Ismael', 7700.0),\n",
      " (112, 'Jose Manuel', 7800.0),\n",
      " (113, 'Luis', 6900.0),\n",
      " (115, 'Alexander', 7100.0),\n",
      " (120, 'Matthew', 8000.0),\n",
      " (121, 'Adam', 8200.0),\n",
      " (122, 'Payam', 7900.0),\n",
      " (123, 'Shanta', 6500.0),\n",
      " (124, 'Kevin', 5800.0),\n",
      " (150, 'Peter', 10000.0),\n",
      " (151, 'David', 9500.0),\n",
      " (152, 'Peter', 9000.0),\n",
      " (153, 'Christopher', 8000.0),\n",
      " (154, 'Nanette', 7500.0),\n",
      " (155, 'Oliver', 7000.0),\n",
      " (156, 'Janette', 10000.0),\n",
      " (157, 'Patrick', 9500.0),\n",
      " (158, 'Allan', 9000.0),\n",
      " (159, 'Lindsey', 8000.0),\n",
      " (160, 'Louise', 7500.0),\n",
      " (161, 'Sarath', 7000.0),\n",
      " (163, 'Danielle', 9500.0),\n",
      " (164, 'Mattea', 7200.0),\n",
      " (165, 'David', 6800.0),\n",
      " (166, 'Sundar', 6400.0),\n",
      " (167, 'Amit', 6200.0),\n",
      " (169, 'Harrison', 10000.0),\n",
      " (170, 'Tayler', 9600.0),\n",
      " (171, 'William', 7400.0),\n",
      " (172, 'Elizabeth', 7300.0),\n",
      " (173, 'Sundita', 6100.0),\n",
      " (175, 'Alyssa', 8800.0),\n",
      " (176, 'Jonathon', 8600.0),\n",
      " (177, 'Jack', 8400.0),\n",
      " (178, 'Kimberely', 7000.0),\n",
      " (179, 'Charles', 6200.0),\n",
      " (202, 'Pat', 6000.0),\n",
      " (203, 'Susan', 6500.0),\n",
      " (204, 'Hermann', 10000.0),\n",
      " (206, 'William', 8300.0),\n",
      " (700, 'lee', 5000.0)]\n",
      "조회 행수 : 45\n"
     ]
    }
   ],
   "source": [
    "import cx_Oracle\n",
    "from pprint import pprint #pprint모듈의 pprint 함수\n",
    "\n",
    "select_sql = 'SELECT emp_id, emp_name, salary FROM emp where salary between :1 and :2'\n",
    "insert_sql = \"insert into emp (emp_id, emp_name, job, hire_date, salary) \\\n",
    "values (:id, :name, :job, to_date(:hire_date, 'yyyymmdd'), :salary)\"\n",
    "\n",
    "try:\n",
    "    # 연결\n",
    "    conn = None\n",
    "    cursor = None\n",
    "    \n",
    "    conn = cx_Oracle.connect(\"scott/tiger@localhost:1521/XE\")\n",
    "    # Cursor 조회\n",
    "    cursor = conn.cursor()\n",
    "    # SQL 관련 작업.\n",
    "#     insert 문 placeholder에 넣을 값 설정. -> dictionary\n",
    "    i_dic = dict(id=700, name=\"이순신\", job='FI_ACCOUNT', hire_date='20010130', salary=5000)\n",
    "    cursor.execute(insert_sql, i_dic)\n",
    "    insert_rowcount = cursor.rowcount #SQL이 적용된 행수 반환.\n",
    "    print(\"Insert행수 :\", insert_rowcount)\n",
    "\n",
    "#       select 문 placeholder 넣을 값 설정 => 리스트(튜플) - :1, :2\n",
    "    s.param = [5000, 10000]\n",
    "    cursor.execute(select_sql, s_param)\n",
    "    pprint(cursor.fetchall()) #조회된 결과 다 보기\n",
    "    conn.commit()#커밋처리.\n",
    "except Exception as e:\n",
    "    print(e)\n",
    "finally:\n",
    "    #연결 닫기\n",
    "    if cursor:\n",
    "        cursor.close()\n",
    "    if conn:\n",
    "        conn.close()"
   ]
  },
  {
   "cell_type": "code",
   "execution_count": 2,
   "metadata": {
    "ExecuteTime": {
     "end_time": "2019-10-23T11:45:15.494171Z",
     "start_time": "2019-10-23T11:45:15.452280Z"
    },
    "collapsed": true,
    "slideshow": {
     "slide_type": "skip"
    }
   },
   "outputs": [],
   "source": [
    "\n",
    "select_sql = 'SELECT emp_id, emp_name, salary FROM emp '\n",
    "insert_sql = \"insert into emp (emp_id, emp_name, job, hire_date, salary) values \"\n"
   ]
  },
  {
   "cell_type": "markdown",
   "metadata": {
    "slideshow": {
     "slide_type": "slide"
    }
   },
   "source": [
    "## SELECT  결과 조회\n",
    "\n",
    "### fetchone()\n",
    "- 조회결과 한행씩 반환한다.\n",
    "- PK로 조회시 사용한다."
   ]
  },
  {
   "cell_type": "markdown",
   "metadata": {
    "slideshow": {
     "slide_type": "fragment"
    }
   },
   "source": [
    "### fetchall()\n",
    "- 조회한 전체 결과셋을 반환한다.\n",
    "- 한 row를 Tuple로 묶고 그 Tuple들을 List로 묶어서 반환한다."
   ]
  },
  {
   "cell_type": "markdown",
   "metadata": {
    "slideshow": {
     "slide_type": "fragment"
    }
   },
   "source": [
    "### fetchmany(n)\n",
    "- n 행씩 조회할 때 사용\n",
    "- n 기본값 100"
   ]
  },
  {
   "cell_type": "code",
   "execution_count": 49,
   "metadata": {},
   "outputs": [],
   "source": [
    "import cx_Oracle #위에서 이미 실행했기 때문에 불필요하나, 단독 실행했을 때 가정하에.\n",
    "def select_by_id(emp_id):\n",
    "    sql = \"select * from emp where emp_id=:1\"\n",
    "    conn = None\n",
    "    cursor = None\n",
    "    try:\n",
    "        #연결\n",
    "        conn = cx_Oracle.connect(\"scott/tiger@localhost:1521/XE\")\n",
    "        #커서\n",
    "        cursor = conn.cursor()\n",
    "        #sql 전송\n",
    "        cursor.execute(sql, [emp_id])\n",
    "        #fetch - PK로 조회 => 결과행: 1: 튜플, 0:None\n",
    "        result = cursor.fetchone()\n",
    "        return result\n",
    "    except Exception as e:\n",
    "        print(e)\n",
    "        e.with_traceback()\n",
    "    finally:\n",
    "        if cursor:\n",
    "            cursor.close()\n",
    "        if conn:\n",
    "            conn.close()\n",
    "            \n",
    "    "
   ]
  },
  {
   "cell_type": "code",
   "execution_count": 51,
   "metadata": {},
   "outputs": [
    {
     "name": "stdout",
     "output_type": "stream",
     "text": [
      "<class 'tuple'>\n",
      "(100, 'Steven', 'AD_PRES', None, datetime.datetime(2003, 6, 17, 0, 0), 24000.0, None, 'Executive')\n"
     ]
    }
   ],
   "source": [
    "result = select_by_id(100)\n",
    "print(type(result))\n",
    "print(result)"
   ]
  },
  {
   "cell_type": "code",
   "execution_count": 52,
   "metadata": {},
   "outputs": [
    {
     "name": "stdout",
     "output_type": "stream",
     "text": [
      "None\n"
     ]
    }
   ],
   "source": [
    "result = select_by_id(10)\n",
    "print(result)"
   ]
  },
  {
   "cell_type": "code",
   "execution_count": 67,
   "metadata": {},
   "outputs": [
    {
     "name": "stdout",
     "output_type": "stream",
     "text": [
      "[(100, 'Steven', 'AD_PRES', None, datetime.datetime(2003, 6, 17, 0, 0), 24000.0, None, 'Executive'), (101, 'Neena', 'AD_VP', 100, datetime.datetime(2005, 9, 21, 0, 0), 17000.0, None, 'Executive'), (102, 'Lex', 'AD_VP', 100, datetime.datetime(2001, 1, 13, 0, 0), 17000.0, None, 'Executive'), (103, 'Alexander', 'IT_PROG', 102, datetime.datetime(2006, 1, 3, 0, 0), 9000.0, None, 'IT'), (104, 'Bruce', 'IT_PROG', 103, datetime.datetime(2007, 5, 21, 0, 0), 6000.0, None, 'IT'), (105, 'David', 'IT_PROG', 103, datetime.datetime(2005, 6, 25, 0, 0), 4800.0, None, 'IT'), (106, 'Valli', 'IT_PROG', 103, datetime.datetime(2006, 2, 5, 0, 0), 4800.0, None, 'IT'), (107, 'Diana', 'IT_PROG', 103, datetime.datetime(2007, 2, 7, 0, 0), 4200.0, None, 'IT'), (108, 'Nancy', 'FI_MGR', 101, datetime.datetime(2002, 8, 17, 0, 0), 12008.0, None, 'Finance'), (109, 'Daniel', 'FI_ACCOUNT', 108, datetime.datetime(2002, 8, 16, 0, 0), 9000.0, None, 'Finance'), (110, 'John', 'FI_ACCOUNT', 108, datetime.datetime(2005, 9, 28, 0, 0), 8200.0, None, 'Finance'), (111, 'Ismael', 'FI_ACCOUNT', 108, datetime.datetime(2005, 9, 30, 0, 0), 7700.0, None, 'Finance'), (112, 'Jose Manuel', 'FI_ACCOUNT', 108, datetime.datetime(2006, 3, 7, 0, 0), 7800.0, None, 'Finance'), (113, 'Luis', 'FI_ACCOUNT', 108, datetime.datetime(2007, 12, 7, 0, 0), 6900.0, None, 'Finance'), (114, 'Den', 'PU_MAN', 100, datetime.datetime(2002, 12, 7, 0, 0), 11000.0, None, 'Purchasing'), (115, 'Alexander', 'PU_MAN', 100, datetime.datetime(2003, 5, 18, 0, 0), 7100.0, None, 'Purchasing'), (116, 'Shelli', 'PU_CLERK', 114, datetime.datetime(2005, 12, 24, 0, 0), 2900.0, None, 'Purchasing'), (117, 'Sigal', 'PU_CLERK', 115, datetime.datetime(2005, 7, 24, 0, 0), 2800.0, None, 'Purchasing'), (118, 'Guy', 'PU_CLERK', 115, datetime.datetime(2006, 11, 15, 0, 0), 2600.0, None, 'Purchasing'), (119, 'Karen', 'PU_CLERK', 114, datetime.datetime(2007, 8, 10, 0, 0), 2500.0, None, 'Purchasing')]\n",
      "------------ 20 ------------\n",
      "[(120, 'Matthew', 'ST_MAN', 100, datetime.datetime(2004, 7, 18, 0, 0), 8000.0, None, 'Shipping'), (121, 'Adam', 'ST_MAN', 100, datetime.datetime(2005, 4, 10, 0, 0), 8200.0, None, 'Shipping'), (122, 'Payam', 'ST_MAN', 100, datetime.datetime(2003, 5, 1, 0, 0), 7900.0, None, 'Shipping'), (123, 'Shanta', 'ST_MAN', 100, datetime.datetime(2005, 10, 10, 0, 0), 6500.0, None, 'Shipping'), (124, 'Kevin', 'ST_MAN', 100, datetime.datetime(2007, 11, 16, 0, 0), 5800.0, None, 'Shipping'), (125, 'Julia', 'ST_CLERK', 120, datetime.datetime(2005, 7, 16, 0, 0), 3200.0, None, 'Shipping'), (126, 'Irene', 'ST_CLERK', 120, datetime.datetime(2006, 9, 28, 0, 0), 2700.0, None, 'Shipping'), (127, 'James', 'ST_CLERK', 120, datetime.datetime(2007, 1, 14, 0, 0), 2400.0, None, 'Shipping'), (128, 'Steven', 'ST_CLERK', 120, datetime.datetime(2008, 3, 8, 0, 0), 2200.0, None, 'Shipping'), (129, 'Laura', 'ST_CLERK', 121, datetime.datetime(2005, 8, 20, 0, 0), 3300.0, None, 'Shipping'), (130, 'Mozhe', 'ST_CLERK', 121, datetime.datetime(2005, 10, 30, 0, 0), 2800.0, None, 'Shipping'), (131, 'James', 'ST_CLERK', 121, datetime.datetime(2005, 2, 16, 0, 0), 2500.0, None, 'Shipping'), (132, 'TJ', 'ST_CLERK', 121, datetime.datetime(2007, 4, 10, 0, 0), 2100.0, None, 'Shipping'), (133, 'Jason', 'ST_CLERK', 122, datetime.datetime(2004, 6, 14, 0, 0), 3300.0, None, 'Shipping'), (134, 'Michael', 'ST_CLERK', 122, datetime.datetime(2006, 8, 26, 0, 0), 2900.0, None, 'Shipping'), (135, 'Ki', 'ST_CLERK', 122, datetime.datetime(2007, 12, 12, 0, 0), 2400.0, None, 'Shipping'), (136, 'Hazel', 'ST_CLERK', 122, datetime.datetime(2008, 2, 6, 0, 0), 2200.0, None, 'Shipping'), (137, 'Renske', 'ST_CLERK', 123, datetime.datetime(2003, 7, 14, 0, 0), 3600.0, None, 'Shipping'), (138, 'Stephen', 'ST_CLERK', 123, datetime.datetime(2005, 10, 26, 0, 0), 3200.0, None, 'Shipping'), (139, 'John', 'ST_CLERK', 123, datetime.datetime(2006, 2, 12, 0, 0), 2700.0, None, 'Shipping')]\n",
      "------------ 40 ------------\n",
      "[(140, 'Joshua', 'ST_CLERK', 123, datetime.datetime(2006, 4, 6, 0, 0), 2500.0, None, 'Shipping'), (141, 'Trenna', 'ST_CLERK', 124, datetime.datetime(2003, 10, 17, 0, 0), 3500.0, None, 'Shipping'), (142, 'Curtis', 'ST_CLERK', 124, datetime.datetime(2005, 1, 29, 0, 0), 3100.0, None, 'Shipping'), (143, 'Randall', 'ST_CLERK', 124, datetime.datetime(2006, 3, 15, 0, 0), 2600.0, None, 'Shipping'), (144, 'Peter', 'ST_CLERK', 124, datetime.datetime(2006, 7, 9, 0, 0), 2500.0, None, 'Shipping'), (145, 'John', 'SA_MAN', 100, datetime.datetime(2004, 10, 1, 0, 0), 14000.0, 0.4, 'Sales'), (146, 'Karen', 'SA_MAN', 100, datetime.datetime(2005, 1, 5, 0, 0), 13500.0, 0.3, 'Sales'), (147, 'Alberto', 'SA_MAN', 100, datetime.datetime(2005, 3, 10, 0, 0), 12000.0, 0.3, None), (148, 'Ger%ald', 'SA_MAN', 100, datetime.datetime(2007, 10, 15, 0, 0), 11000.0, 0.3, 'Sales'), (149, 'Eleni', 'SA_MAN', 100, datetime.datetime(2008, 1, 29, 0, 0), 10500.0, 0.2, 'Sales'), (150, 'Peter', 'SA_REP', 145, datetime.datetime(2005, 1, 30, 0, 0), 10000.0, 0.3, 'Sales'), (151, 'David', 'SA_REP', 145, datetime.datetime(2005, 3, 24, 0, 0), 9500.0, 0.25, 'Sales'), (152, 'Peter', 'SA_REP', 145, datetime.datetime(2005, 8, 20, 0, 0), 9000.0, 0.25, 'Sales'), (153, 'Christopher', 'SA_REP', 145, datetime.datetime(2006, 3, 30, 0, 0), 8000.0, 0.2, 'Sales'), (154, 'Nanette', 'SA_REP', 145, datetime.datetime(2006, 12, 9, 0, 0), 7500.0, 0.2, 'Sales'), (155, 'Oliver', 'SA_REP', 145, datetime.datetime(2007, 11, 23, 0, 0), 7000.0, 0.15, 'Sales'), (156, 'Janette', 'SA_REP', 146, datetime.datetime(2004, 1, 30, 0, 0), 10000.0, 0.35000000000000003, 'Sales'), (157, 'Patrick', 'SA_REP', 146, datetime.datetime(2004, 3, 4, 0, 0), 9500.0, 0.35000000000000003, 'Sales'), (158, 'Allan', 'SA_REP', 146, datetime.datetime(2004, 8, 1, 0, 0), 9000.0, 0.35000000000000003, 'Sales'), (159, 'Lindsey', 'SA_REP', 146, datetime.datetime(2005, 3, 10, 0, 0), 8000.0, 0.3, 'Sales')]\n",
      "------------ 60 ------------\n",
      "[(160, 'Louise', 'SA_REP', 146, datetime.datetime(2005, 12, 15, 0, 0), 7500.0, 0.3, 'Sales'), (161, 'Sarath', 'SA_REP', 146, datetime.datetime(2006, 11, 3, 0, 0), 7000.0, 0.25, 'Sales'), (162, 'Clara', 'SA_REP', 147, datetime.datetime(2005, 11, 11, 0, 0), 10500.0, 0.25, 'Sales'), (163, 'Danielle', 'SA_REP', 147, datetime.datetime(2007, 3, 19, 0, 0), 9500.0, 0.15, 'Sales'), (164, 'Mattea', 'SA_REP', 147, datetime.datetime(2008, 1, 24, 0, 0), 7200.0, 0.1, 'Sales'), (165, 'David', 'SA_REP', 147, datetime.datetime(2008, 2, 23, 0, 0), 6800.0, 0.1, 'Sales'), (166, 'Sundar', 'SA_REP', 147, datetime.datetime(2008, 3, 24, 0, 0), 6400.0, 0.1, 'Sales'), (167, 'Amit', 'SA_REP', 147, datetime.datetime(2008, 4, 21, 0, 0), 6200.0, 0.1, 'Sales'), (168, 'Lisa', 'SA_REP', 148, datetime.datetime(2005, 3, 11, 0, 0), 11500.0, 0.25, 'Sales'), (169, 'Harrison', 'SA_REP', 148, datetime.datetime(2006, 3, 23, 0, 0), 10000.0, 0.2, 'Sales'), (170, 'Tayler', 'SA_REP', 148, datetime.datetime(2006, 1, 24, 0, 0), 9600.0, 0.2, 'Sales'), (171, 'William', 'SA_REP', 148, datetime.datetime(2007, 2, 23, 0, 0), 7400.0, 0.15, 'Sales'), (172, 'Elizabeth', 'SA_REP', 148, datetime.datetime(2007, 3, 24, 0, 0), 7300.0, 0.15, 'Sales'), (173, 'Sundita', 'SA_REP', 148, datetime.datetime(2008, 4, 21, 0, 0), 6100.0, 0.1, 'Sales'), (174, 'Ellen', 'SA_REP', 149, datetime.datetime(2004, 5, 11, 0, 0), 11000.0, 0.3, 'Sales'), (175, 'Alyssa', 'SA_REP', 149, datetime.datetime(2005, 3, 19, 0, 0), 8800.0, 0.25, 'Sales'), (176, 'Jonathon', 'SA_REP', 149, datetime.datetime(2006, 3, 24, 0, 0), 8600.0, 0.2, 'Sales'), (177, 'Jack', 'SA_REP', 149, datetime.datetime(2006, 4, 23, 0, 0), 8400.0, 0.2, 'Sales'), (178, 'Kimberely', 'SA_REP', 149, datetime.datetime(2007, 5, 24, 0, 0), 7000.0, 0.15, None), (179, 'Charles', 'SA_REP', 149, datetime.datetime(2008, 1, 4, 0, 0), 6200.0, 0.1, 'Sales')]\n",
      "------------ 80 ------------\n",
      "[(180, 'Winston', 'SH_CLERK', 120, datetime.datetime(2006, 1, 24, 0, 0), 3200.0, None, 'Shipping'), (181, 'Jean', 'SH_CLERK', 120, datetime.datetime(2006, 2, 23, 0, 0), 3100.0, None, 'Shipping'), (182, 'Martha', 'SH_CLERK', 120, datetime.datetime(2007, 6, 21, 0, 0), 2500.0, None, 'Shipping'), (183, 'Girard', 'SH_CLERK', 120, datetime.datetime(2008, 2, 3, 0, 0), 2800.0, None, 'Shipping'), (184, 'Nandita', 'SH_CLERK', 121, datetime.datetime(2004, 1, 27, 0, 0), 4200.0, None, 'Shipping'), (185, 'Alexis', 'SH_CLERK', 121, datetime.datetime(2005, 2, 20, 0, 0), 4100.0, None, 'Shipping'), (186, 'Julia', 'SH_CLERK', 121, datetime.datetime(2006, 6, 24, 0, 0), 3400.0, None, 'Shipping'), (187, 'Anthony', 'SH_CLERK', 121, datetime.datetime(2007, 2, 7, 0, 0), 3000.0, None, 'Shipping'), (188, 'Kelly', 'SH_CLERK', 122, datetime.datetime(2005, 6, 14, 0, 0), 3800.0, None, 'Shipping'), (189, 'Jennifer', 'SH_CLERK', 122, datetime.datetime(2005, 8, 13, 0, 0), 3600.0, None, 'Shipping'), (190, 'Timothy', 'SH_CLERK', 122, datetime.datetime(2006, 7, 11, 0, 0), 2900.0, None, 'Shipping'), (191, 'Randall', 'SH_CLERK', 122, datetime.datetime(2007, 12, 19, 0, 0), 2500.0, None, 'Shipping'), (192, 'Sarah', 'SH_CLERK', 123, datetime.datetime(2004, 2, 4, 0, 0), 4000.0, None, 'Shipping'), (193, 'Britney', 'SH_CLERK', 123, datetime.datetime(2005, 3, 3, 0, 0), 3900.0, None, 'Shipping'), (194, 'Samuel', 'SH_CLERK', 123, datetime.datetime(2006, 7, 1, 0, 0), 3200.0, None, 'Shipping'), (195, 'Vance', 'SH_CLERK', 123, datetime.datetime(2007, 3, 17, 0, 0), 2800.0, None, 'Shipping'), (196, 'Alana', 'SH_CLERK', 124, datetime.datetime(2006, 4, 24, 0, 0), 3100.0, None, None), (197, 'Kevin', 'SH_CLERK', 124, datetime.datetime(2006, 5, 23, 0, 0), 3000.0, None, 'Shipping'), (198, 'Donald', 'SH_CLERK', 124, datetime.datetime(2007, 6, 21, 0, 0), 2600.0, None, 'Shipping'), (199, 'Douglas', 'SH_CLERK', 124, datetime.datetime(2008, 1, 13, 0, 0), 2600.0, None, 'Shipping')]\n",
      "------------ 100 ------------\n",
      "[(200, 'Jennifer', 'AD_ASST', 101, datetime.datetime(2003, 9, 17, 0, 0), 4400.0, None, 'Administration'), (201, 'Michael', 'MK_MAN', 100, datetime.datetime(2004, 2, 17, 0, 0), 13000.0, None, 'Marketing'), (202, 'Pat', 'MK_REP', 201, datetime.datetime(2005, 8, 17, 0, 0), 6000.0, None, 'Marketing'), (203, 'Susan', 'HR_REP', 101, datetime.datetime(2002, 6, 7, 0, 0), 6500.0, None, 'Human Resources'), (204, 'Hermann', 'PR_REP', 101, datetime.datetime(2002, 6, 7, 0, 0), 10000.0, None, 'Public Relations'), (205, 'Shelley', 'AC_MGR', 101, datetime.datetime(2002, 6, 7, 0, 0), 12008.0, None, 'Accounting'), (206, 'William', 'AC_ACCOUNT', 205, datetime.datetime(2002, 6, 7, 0, 0), 8300.0, None, 'Accounting'), (850, 'hong', 'IT_PROG', None, datetime.datetime(2019, 10, 10, 0, 0), 30000.0, None, None), (860, 'hong', 'IT_PROG', None, datetime.datetime(2019, 10, 30, 0, 0), 30000.0, None, None), (865, 'hong', 'IT_PROG', None, datetime.datetime(2019, 10, 30, 0, 0), 30000.0, None, None), (700, 'lee', 'FI_ACCOUNT', None, datetime.datetime(2001, 1, 30, 0, 0), 5000.0, None, None)]\n",
      "------------ 111 ------------\n",
      "더이상 없음\n"
     ]
    }
   ],
   "source": [
    "import cx_Oracle\n",
    "\n",
    "sql = \"select * from emp\"\n",
    "conn = None\n",
    "cursor = None\n",
    "try:\n",
    "    #연결\n",
    "    conn = cx_Oracle.connect(\"scott/tiger@localhost:1521/XE\")\n",
    "    #커서\n",
    "    cursor = conn.cursor()\n",
    "    #sql 전송\n",
    "    cursor.execute(sql)\n",
    "    #fetch - 한번에 20행만 조회\n",
    "    result = cursor.fetchmany(20)\n",
    "    print(result)\n",
    "    print(\"------------\", cursor.rowcount, \"------------\")\n",
    "    result = cursor.fetchmany(20)\n",
    "    print(result)\n",
    "    print(\"------------\", cursor.rowcount, \"------------\")\n",
    "    result = cursor.fetchmany(20)\n",
    "    print(result)\n",
    "    print(\"------------\", cursor.rowcount, \"------------\")\n",
    "    result = cursor.fetchmany(20)\n",
    "    print(result)\n",
    "    print(\"------------\", cursor.rowcount, \"------------\")\n",
    "    result = cursor.fetchmany(20)\n",
    "    print(result)\n",
    "    print(\"------------\", cursor.rowcount, \"------------\")\n",
    "    result = cursor.fetchmany(20)\n",
    "    print(result)\n",
    "    print(\"------------\", cursor.rowcount, \"------------\")\n",
    "    \n",
    "    \n",
    "    result = cursor.fetchmany(20)\n",
    "    if result:\n",
    "        print(result)\n",
    "        print(\"------------\", cursor.rowcount, \"------------\")\n",
    "    else:\n",
    "        print(\"더이상 없음\")\n",
    "except Exception as e:\n",
    "    print(e)\n",
    "    e.with_traceback()\n",
    "finally:\n",
    "    if cursor:\n",
    "        cursor.close()\n",
    "    if conn:\n",
    "        conn.close()   "
   ]
  },
  {
   "cell_type": "markdown",
   "metadata": {},
   "source": [
    "## cursor를 for in 문을 이용해 select 결과 조회\n",
    "- select후 cursor는 Iterable 한 객체.\n",
    "- cursor는 반복시마다 조회한 한행을 반환."
   ]
  },
  {
   "cell_type": "code",
   "execution_count": 69,
   "metadata": {},
   "outputs": [
    {
     "name": "stdout",
     "output_type": "stream",
     "text": [
      "0 (145, 'John', 'SA_MAN', 100, datetime.datetime(2004, 10, 1, 0, 0), 14000.0, 0.4, 'Sales')\n",
      "1 (146, 'Karen', 'SA_MAN', 100, datetime.datetime(2005, 1, 5, 0, 0), 13500.0, 0.3, 'Sales')\n",
      "2 (147, 'Alberto', 'SA_MAN', 100, datetime.datetime(2005, 3, 10, 0, 0), 12000.0, 0.3, None)\n",
      "3 (148, 'Ger%ald', 'SA_MAN', 100, datetime.datetime(2007, 10, 15, 0, 0), 11000.0, 0.3, 'Sales')\n",
      "4 (149, 'Eleni', 'SA_MAN', 100, datetime.datetime(2008, 1, 29, 0, 0), 10500.0, 0.2, 'Sales')\n",
      "5 (150, 'Peter', 'SA_REP', 145, datetime.datetime(2005, 1, 30, 0, 0), 10000.0, 0.3, 'Sales')\n",
      "6 (151, 'David', 'SA_REP', 145, datetime.datetime(2005, 3, 24, 0, 0), 9500.0, 0.25, 'Sales')\n",
      "7 (152, 'Peter', 'SA_REP', 145, datetime.datetime(2005, 8, 20, 0, 0), 9000.0, 0.25, 'Sales')\n",
      "8 (153, 'Christopher', 'SA_REP', 145, datetime.datetime(2006, 3, 30, 0, 0), 8000.0, 0.2, 'Sales')\n",
      "9 (154, 'Nanette', 'SA_REP', 145, datetime.datetime(2006, 12, 9, 0, 0), 7500.0, 0.2, 'Sales')\n",
      "10 (155, 'Oliver', 'SA_REP', 145, datetime.datetime(2007, 11, 23, 0, 0), 7000.0, 0.15, 'Sales')\n",
      "11 (156, 'Janette', 'SA_REP', 146, datetime.datetime(2004, 1, 30, 0, 0), 10000.0, 0.35000000000000003, 'Sales')\n",
      "12 (157, 'Patrick', 'SA_REP', 146, datetime.datetime(2004, 3, 4, 0, 0), 9500.0, 0.35000000000000003, 'Sales')\n",
      "13 (158, 'Allan', 'SA_REP', 146, datetime.datetime(2004, 8, 1, 0, 0), 9000.0, 0.35000000000000003, 'Sales')\n",
      "14 (159, 'Lindsey', 'SA_REP', 146, datetime.datetime(2005, 3, 10, 0, 0), 8000.0, 0.3, 'Sales')\n",
      "15 (160, 'Louise', 'SA_REP', 146, datetime.datetime(2005, 12, 15, 0, 0), 7500.0, 0.3, 'Sales')\n",
      "16 (161, 'Sarath', 'SA_REP', 146, datetime.datetime(2006, 11, 3, 0, 0), 7000.0, 0.25, 'Sales')\n",
      "17 (162, 'Clara', 'SA_REP', 147, datetime.datetime(2005, 11, 11, 0, 0), 10500.0, 0.25, 'Sales')\n",
      "18 (163, 'Danielle', 'SA_REP', 147, datetime.datetime(2007, 3, 19, 0, 0), 9500.0, 0.15, 'Sales')\n",
      "19 (164, 'Mattea', 'SA_REP', 147, datetime.datetime(2008, 1, 24, 0, 0), 7200.0, 0.1, 'Sales')\n",
      "20 (165, 'David', 'SA_REP', 147, datetime.datetime(2008, 2, 23, 0, 0), 6800.0, 0.1, 'Sales')\n",
      "21 (166, 'Sundar', 'SA_REP', 147, datetime.datetime(2008, 3, 24, 0, 0), 6400.0, 0.1, 'Sales')\n",
      "22 (167, 'Amit', 'SA_REP', 147, datetime.datetime(2008, 4, 21, 0, 0), 6200.0, 0.1, 'Sales')\n",
      "23 (168, 'Lisa', 'SA_REP', 148, datetime.datetime(2005, 3, 11, 0, 0), 11500.0, 0.25, 'Sales')\n",
      "24 (169, 'Harrison', 'SA_REP', 148, datetime.datetime(2006, 3, 23, 0, 0), 10000.0, 0.2, 'Sales')\n",
      "25 (170, 'Tayler', 'SA_REP', 148, datetime.datetime(2006, 1, 24, 0, 0), 9600.0, 0.2, 'Sales')\n",
      "26 (171, 'William', 'SA_REP', 148, datetime.datetime(2007, 2, 23, 0, 0), 7400.0, 0.15, 'Sales')\n",
      "27 (172, 'Elizabeth', 'SA_REP', 148, datetime.datetime(2007, 3, 24, 0, 0), 7300.0, 0.15, 'Sales')\n",
      "28 (173, 'Sundita', 'SA_REP', 148, datetime.datetime(2008, 4, 21, 0, 0), 6100.0, 0.1, 'Sales')\n",
      "29 (174, 'Ellen', 'SA_REP', 149, datetime.datetime(2004, 5, 11, 0, 0), 11000.0, 0.3, 'Sales')\n",
      "30 (175, 'Alyssa', 'SA_REP', 149, datetime.datetime(2005, 3, 19, 0, 0), 8800.0, 0.25, 'Sales')\n",
      "31 (176, 'Jonathon', 'SA_REP', 149, datetime.datetime(2006, 3, 24, 0, 0), 8600.0, 0.2, 'Sales')\n",
      "32 (177, 'Jack', 'SA_REP', 149, datetime.datetime(2006, 4, 23, 0, 0), 8400.0, 0.2, 'Sales')\n",
      "33 (178, 'Kimberely', 'SA_REP', 149, datetime.datetime(2007, 5, 24, 0, 0), 7000.0, 0.15, None)\n",
      "34 (179, 'Charles', 'SA_REP', 149, datetime.datetime(2008, 1, 4, 0, 0), 6200.0, 0.1, 'Sales')\n"
     ]
    }
   ],
   "source": [
    "import cx_Oracle\n",
    "sql = \"select * from emp where comm_pct is not null order by emp_id\"\n",
    "\n",
    "with cx_Oracle.connect(\"scott/tiger@localhost:1521/XE\") as conn:\n",
    "    with conn.cursor() as cursor:\n",
    "        try:\n",
    "            cursor.execute(sql)\n",
    "            for i, row in enumerate(cursor):\n",
    "                print(i, row)\n",
    "        except:\n",
    "            print(\"오류 발생\")\n",
    "            \n",
    "        "
   ]
  },
  {
   "cell_type": "markdown",
   "metadata": {
    "slideshow": {
     "slide_type": "slide"
    }
   },
   "source": [
    "## INSERT / UPDATE/ DELETE\n",
    "- SQL 실행 후 Connection객체의 commit()을 호출 해야 최종적으로 적용된다.\n",
    "- commit()\n",
    "    - 최종 적용\n",
    "- rollback()\n",
    "    - 변경전 상태로 되돌리기\n",
    "\n",
    "### 사용할 테이블\n",
    "```sql\n",
    "create table test(\n",
    "    id varchar2(10),\n",
    "    name varchar2(100),\n",
    "    age number(3));\n",
    "```"
   ]
  },
  {
   "cell_type": "code",
   "execution_count": 74,
   "metadata": {},
   "outputs": [
    {
     "name": "stdout",
     "output_type": "stream",
     "text": [
      "[('id-1', 'name1', 20),\n",
      " ('id-2', 'name2', 30),\n",
      " ('id-3', 'name3', 40),\n",
      " ('id-1', 'name1', 20),\n",
      " ('id-2', 'name2', 30),\n",
      " ('id-3', 'name3', 40)]\n"
     ]
    }
   ],
   "source": [
    "import cx_Oracle\n",
    "create_sql = 'create table test(id varchar2(10), name varchar2(100), age number(3))'\n",
    "insert_sql = 'insert into test values (:1, :2, :3)'\n",
    "select_sql = 'select * from test'\n",
    "with cx_Oracle.connect('scott/tiger@localhost:1521/XE') as conn:\n",
    "    with conn.cursor() as cursor:\n",
    "        try:\n",
    "            cursor.execute(create_sql)\n",
    "        except Exception as e:\n",
    "            pass\n",
    "#             print(e)\n",
    "#             e.with_traceback()\n",
    "        try:\n",
    "            cursor.execute(insert_sql, ['id-1', 'name1', 20])\n",
    "            cursor.execute(insert_sql, ['id-2', 'name2', 30])\n",
    "            cursor.execute(insert_sql, ['id-3', 'name3', 40])\n",
    "            \n",
    "            cursor.execute(select_sql)\n",
    "            pprint(cursor.fetchall())\n",
    "            conn.commit()\n",
    "        except Exception as e:\n",
    "            conn.rollback() #롤백\n",
    "            print(e)"
   ]
  },
  {
   "cell_type": "markdown",
   "metadata": {
    "slideshow": {
     "slide_type": "skip"
    }
   },
   "source": [
    "### placeholder를 이용"
   ]
  },
  {
   "cell_type": "code",
   "execution_count": null,
   "metadata": {
    "collapsed": true
   },
   "outputs": [],
   "source": []
  },
  {
   "cell_type": "markdown",
   "metadata": {
    "slideshow": {
     "slide_type": "slide"
    }
   },
   "source": [
    "## batch(일괄작업) 처리\n",
    "- 한번에 메소드 호출로 다수 행을 처리한다.\n",
    "- executemany(sql, placeholder에 전달할값)\n",
    "    - placeholder에 전달할 값을 list로 묶어서 전달하면 sql문이 그 개수만큼 한번에 처리된다."
   ]
  },
  {
   "cell_type": "code",
   "execution_count": 7,
   "metadata": {},
   "outputs": [
    {
     "name": "stdout",
     "output_type": "stream",
     "text": [
      "[('id-1', 'name1', 20), ('id-2', 'name2', 30), ('id-3', 'name3', 40), ('id-1', 'name1', 20), ('id-2', 'name2', 30), ('id-3', 'name3', 40), ('a-1', 'hong', 20), ('a-2', 'hong2', 27), ('a-3', 'hong3', 30), ('a-4', 'hong4', 25)]\n"
     ]
    }
   ],
   "source": [
    "import cx_Oracle\n",
    "\n",
    "sql = \"insert into test values (:1, :2, :3)\"\n",
    "param = [\n",
    "    ['a-1', 'hong', 20],\n",
    "    ['a-2', 'hong2', 27],\n",
    "    ['a-3', 'hong3', 30],\n",
    "    ['a-4', 'hong4', 25]\n",
    "]\n",
    "with cx_Oracle.connect(\"scott/tiger@localhost:1521/XE\") as conn:\n",
    "    with conn.cursor() as cursor:\n",
    "        try:\n",
    "            cursor.executemany(sql, param)\n",
    "            cursor.execute('select * from test')\n",
    "            print(cursor.fetchall())\n",
    "            conn.commit()\n",
    "        except Exception as e:\n",
    "            conn.rollback()\n",
    "            \n",
    "            print(\"error\", e)"
   ]
  },
  {
   "cell_type": "markdown",
   "metadata": {},
   "source": [
    "### TODO : 매개변수로 dept_name을 받아서 그 부서의 직원들의 salary를 두배 update하는 함수."
   ]
  },
  {
   "cell_type": "code",
   "execution_count": 1,
   "metadata": {},
   "outputs": [],
   "source": [
    "import cx_Oracle\n",
    "\n",
    "def update_salary_double(dept_name):\n",
    "    sql = \"update emp set salary=salary*2 where dept_name=:1\"\n",
    "    with cx_Oracle.connect('scott/tiger@localhost:1521/XE') as conn:\n",
    "        with conn.cursor() as cursor:\n",
    "            try:\n",
    "                cursor.execute(sql, [dept_name])\n",
    "                conn.commit()\n",
    "                return cursor.rowcount\n",
    "            except Exception as e:\n",
    "                conn.rollback()\n",
    "                print(e)"
   ]
  },
  {
   "cell_type": "code",
   "execution_count": 4,
   "metadata": {},
   "outputs": [
    {
     "data": {
      "text/plain": [
       "6"
      ]
     },
     "execution_count": 4,
     "metadata": {},
     "output_type": "execute_result"
    }
   ],
   "source": [
    "update_salary_double('Finance')"
   ]
  },
  {
   "cell_type": "markdown",
   "metadata": {},
   "source": [
    "### TODO : 매개변수로 job을 받아서 그 업무를 하는 직원들을 삭제하는 함수."
   ]
  },
  {
   "cell_type": "code",
   "execution_count": 13,
   "metadata": {},
   "outputs": [],
   "source": [
    "import cx_Oracle\n",
    "def delete_by_job(job):\n",
    "    sql = 'delete from emp where job=:1'\n",
    "    with cx_Oracle.connect('scott/tiger@localhost:1521/XE') as conn:\n",
    "        with conn.cursor() as cursor:\n",
    "            try:\n",
    "                cursor.execute(sql, [job])\n",
    "                conn.commit()\n",
    "                return cursor.rowcount\n",
    "            except Exception as e:\n",
    "                conn.rollback()\n",
    "                print(e)"
   ]
  },
  {
   "cell_type": "code",
   "execution_count": 17,
   "metadata": {},
   "outputs": [
    {
     "data": {
      "text/plain": [
       "0"
      ]
     },
     "execution_count": 17,
     "metadata": {},
     "output_type": "execute_result"
    }
   ],
   "source": [
    "delete_by_job('IT_PROG')"
   ]
  },
  {
   "cell_type": "markdown",
   "metadata": {
    "slideshow": {
     "slide_type": "slide"
    }
   },
   "source": [
    "# TODO : 직원 이름(emp)을 입력받아(input()) 직원의 정보를 조회결과를 출력한다."
   ]
  },
  {
   "cell_type": "code",
   "execution_count": null,
   "metadata": {},
   "outputs": [],
   "source": [
    "import cx_Oracle\n",
    "emp_name = input(\"조회할 직원이름:\")\n",
    "sql = \"select * from emp where emp_name=:1\"\n",
    "with cx_Oracle.connect('scott/tiger@localhost:1521/XE') as conn:\n",
    "    with conn.cursor() as cursor:\n",
    "        cursor.execute(sql, [emp_name])\n",
    "        emp_list = cursor.fetchall()\n",
    "        print(emp_list) #함수일 경우 return emp_list"
   ]
  },
  {
   "cell_type": "code",
   "execution_count": null,
   "metadata": {},
   "outputs": [],
   "source": []
  },
  {
   "cell_type": "markdown",
   "metadata": {
    "slideshow": {
     "slide_type": "slide"
    }
   },
   "source": [
    "# TODO: 사용자로 부터 직원정보를 입력받아 EMP 테이블에 입력한다.\n",
    "- emp_id, emp_name, job, mgr_id, hire_date, salary, comm_pct, dept_name 를 하나씩 입력받는다.\n",
    "- mgr_id, salary, comm_pct, dept_name을 입력하지 않은 경우 NULL 을 넣는다. (placehold 사용시 None을 대입)\n",
    "- 입력된 값을 EMP 테이블에 insert 한다."
   ]
  },
  {
   "cell_type": "code",
   "execution_count": 13,
   "metadata": {},
   "outputs": [
    {
     "name": "stdout",
     "output_type": "stream",
     "text": [
      "mgr_id: 10.5\n",
      "10.5 <class 'float'>\n"
     ]
    }
   ],
   "source": [
    "m = input(\"mgr_id: \")\n",
    "m = float(m) if m else None \n",
    "# m에 m을 넣는\n",
    "print(m, type(m))"
   ]
  },
  {
   "cell_type": "code",
   "execution_count": 12,
   "metadata": {},
   "outputs": [
    {
     "name": "stdout",
     "output_type": "stream",
     "text": [
      "ID: 997\n",
      "직원이름:Kimys\n",
      "업무:IT_PROG\n",
      "상사ID:100\n",
      "입사일(yyyy/mm/dd):2000/01/01\n",
      "급여:30000\n",
      "커미션율0.1\n",
      "부서명:IT\n",
      "insert개수 :  1\n",
      "(997, 'Kimys', 'IT_PROG', 100, datetime.datetime(2000, 1, 1, 0, 0), 30000.0, 0.1, 'IT')\n"
     ]
    }
   ],
   "source": [
    "sql = 'insert into emp values (:id, :name, :job, :mgr_id, to_date(:hire_date, \\'yyyy/mm/dd\\'), :salary, :comm_pct, :dept_name)'\n",
    "emp_id = input(\"ID: \").strip()\n",
    "emp_name = input(\"직원이름:\").strip()\n",
    "job = input(\"업무:\").strip()\n",
    "mgr_id = input(\"상사ID:\").strip()\n",
    "mgr_id = int(mgr_id) if mgr_id else None\n",
    "\n",
    "hire_date = input(\"입사일(yyyy/mm/dd):\").strip()\n",
    "salary = int(input(\"급여:\").strip())\n",
    "\n",
    "comm_pct = input(\"커미션율\").strip()\n",
    "comm_pct = float(comm_pct) if comm_pct else None\n",
    "\n",
    "dept_name = input(\"부서명:\").strip()\n",
    "dept_name = dept_name if dept_name else None\n",
    "\n",
    "param_dict = dict(id=emp_id, name=emp_name, job=job, mgr_id=mgr_id, salary=salary, hire_date=hire_date, comm_pct=comm_pct, dept_name=dept_name)\n",
    "\n",
    "import cx_Oracle\n",
    "with cx_Oracle.connect('scott/tiger@localhost:1521/XE') as conn:\n",
    "    with conn.cursor() as cursor:\n",
    "        cursor.execute(sql, param_dict)\n",
    "        print(\"insert개수 : \", cursor.rowcount)\n",
    "        cursor.execute('select * from emp where emp_id='+str(emp_id))\n",
    "        print(cursor.fetchone())\n",
    "\n"
   ]
  },
  {
   "cell_type": "code",
   "execution_count": null,
   "metadata": {},
   "outputs": [],
   "source": []
  },
  {
   "cell_type": "code",
   "execution_count": null,
   "metadata": {},
   "outputs": [],
   "source": []
  },
  {
   "cell_type": "code",
   "execution_count": null,
   "metadata": {},
   "outputs": [],
   "source": []
  },
  {
   "cell_type": "code",
   "execution_count": null,
   "metadata": {},
   "outputs": [],
   "source": []
  },
  {
   "cell_type": "code",
   "execution_count": null,
   "metadata": {},
   "outputs": [],
   "source": []
  },
  {
   "cell_type": "code",
   "execution_count": null,
   "metadata": {},
   "outputs": [],
   "source": []
  },
  {
   "cell_type": "code",
   "execution_count": null,
   "metadata": {},
   "outputs": [],
   "source": []
  },
  {
   "cell_type": "code",
   "execution_count": null,
   "metadata": {},
   "outputs": [],
   "source": []
  },
  {
   "cell_type": "code",
   "execution_count": null,
   "metadata": {},
   "outputs": [],
   "source": []
  },
  {
   "cell_type": "code",
   "execution_count": null,
   "metadata": {},
   "outputs": [],
   "source": []
  },
  {
   "cell_type": "code",
   "execution_count": null,
   "metadata": {},
   "outputs": [],
   "source": []
  },
  {
   "cell_type": "code",
   "execution_count": null,
   "metadata": {},
   "outputs": [],
   "source": []
  }
 ],
 "metadata": {
  "kernelspec": {
   "display_name": "Python 2",
   "language": "python",
   "name": "python2"
  },
  "toc": {
   "base_numbering": 1,
   "nav_menu": {},
   "number_sections": true,
   "sideBar": true,
   "skip_h1_title": false,
   "title_cell": "Table of Contents",
   "title_sidebar": "Contents",
   "toc_cell": false,
   "toc_position": {},
   "toc_section_display": true,
   "toc_window_display": false
  },
  "varInspector": {
   "cols": {
    "lenName": 16,
    "lenType": 16,
    "lenVar": 40
   },
   "kernels_config": {
    "python": {
     "delete_cmd_postfix": "",
     "delete_cmd_prefix": "del ",
     "library": "var_list.py",
     "varRefreshCmd": "print(var_dic_list())"
    },
    "r": {
     "delete_cmd_postfix": ") ",
     "delete_cmd_prefix": "rm(",
     "library": "var_list.r",
     "varRefreshCmd": "cat(var_dic_list()) "
    }
   },
   "types_to_exclude": [
    "module",
    "function",
    "builtin_function_or_method",
    "instance",
    "_Feature"
   ],
   "window_display": false
  }
 },
 "nbformat": 4,
 "nbformat_minor": 2
}
