{
 "cells": [
  {
   "cell_type": "markdown",
   "metadata": {},
   "source": [
    "    \n",
    "#  CNN Data Augmentation\n"
   ]
  },
  {
   "cell_type": "markdown",
   "metadata": {},
   "source": [
    "- Data가 많지 않아 CNN 학습에 어려움이 있을 때 사용 가능한 방법\n",
    "    - Data augmentation 활용\n",
    "        - 이미지의 색깔, 각도 등을 약간씩 변형하여 data의 수를 늘림 \n",
    "    - Pre-trained network의 활용\n",
    "        - 대용량 데이터를 이용해 학습된 기존의 모델과 weight를 불러온 후 목적에 맞게 약간 수정하여 학습"
   ]
  },
  {
   "cell_type": "markdown",
   "metadata": {},
   "source": [
    "### Loading data"
   ]
  },
  {
   "cell_type": "code",
   "execution_count": 1,
   "metadata": {
    "ExecuteTime": {
     "end_time": "2020-01-09T17:54:58.636480Z",
     "start_time": "2020-01-09T17:54:57.764816Z"
    }
   },
   "outputs": [],
   "source": [
    "import h5py\n",
    "import numpy as np\n",
    "import matplotlib.pyplot as plt"
   ]
  },
  {
   "cell_type": "code",
   "execution_count": 2,
   "metadata": {
    "ExecuteTime": {
     "end_time": "2020-01-09T17:54:58.739205Z",
     "start_time": "2020-01-09T17:54:58.651441Z"
    }
   },
   "outputs": [],
   "source": [
    "train_dataset = h5py.File('data/train_signs.h5', \"r\")\n",
    "\n",
    "X_train_org = np.array(train_dataset[\"train_set_x\"]) \n",
    "y_train_org = np.array(train_dataset[\"train_set_y\"]) \n",
    "\n",
    "test_dataset = h5py.File('data/test_signs.h5', \"r\")\n",
    "X_test_org = np.array(test_dataset[\"test_set_x\"]) \n",
    "y_test_org = np.array(test_dataset[\"test_set_y\"]) \n",
    "\n",
    "classes = np.array(test_dataset[\"list_classes\"]) "
   ]
  },
  {
   "cell_type": "code",
   "execution_count": 3,
   "metadata": {},
   "outputs": [
    {
     "data": {
      "text/plain": [
       "array([0, 1, 2, 3, 4, 5])"
      ]
     },
     "execution_count": 3,
     "metadata": {},
     "output_type": "execute_result"
    }
   ],
   "source": [
    "classes"
   ]
  },
  {
   "cell_type": "code",
   "execution_count": 4,
   "metadata": {
    "ExecuteTime": {
     "end_time": "2020-01-09T17:54:59.247845Z",
     "start_time": "2020-01-09T17:54:59.242857Z"
    }
   },
   "outputs": [
    {
     "name": "stdout",
     "output_type": "stream",
     "text": [
      "(1080, 64, 64, 3) (1080,)\n",
      "(120, 64, 64, 3) (120,)\n"
     ]
    }
   ],
   "source": [
    "print(X_train_org.shape, y_train_org.shape)\n",
    "print(X_test_org.shape, y_test_org.shape)"
   ]
  },
  {
   "cell_type": "code",
   "execution_count": 5,
   "metadata": {
    "ExecuteTime": {
     "end_time": "2020-01-09T17:55:18.354664Z",
     "start_time": "2020-01-09T17:55:18.185117Z"
    }
   },
   "outputs": [
    {
     "name": "stdout",
     "output_type": "stream",
     "text": [
      "5\n"
     ]
    },
    {
     "data": {
      "image/png": "[encoded data removed]",
      "text/plain": [
       "<Figure size 432x288 with 1 Axes>"
      ]
     },
     "metadata": {
      "needs_background": "light"
     },
     "output_type": "display_data"
    }
   ],
   "source": [
    "index = 0\n",
    "plt.imshow(X_train_org[index])\n",
    "print(y_train_org[index])"
   ]
  },
  {
   "cell_type": "markdown",
   "metadata": {},
   "source": [
    "### 데이터 준비\n",
    "\n",
    "- train set을 train/validation set으로 나눔\n",
    "    - 200개를 validation, 나머지 훈련 데이터셋으로 나누기.\n",
    "- target label을 one-hot encoding으로 변환   "
   ]
  },
  {
   "cell_type": "code",
   "execution_count": 6,
   "metadata": {},
   "outputs": [],
   "source": [
    "from sklearn.model_selection import train_test_split"
   ]
  },
  {
   "cell_type": "code",
   "execution_count": 7,
   "metadata": {},
   "outputs": [],
   "source": [
    "X_train, X_validation, y_train_tmp, y_validation_tmp = \\\n",
    "train_test_split(X_train_org, y_train_org, \n",
    "                 stratify=y_train_org, \n",
    "                 test_size=200)"
   ]
  },
  {
   "cell_type": "code",
   "execution_count": 8,
   "metadata": {},
   "outputs": [
    {
     "data": {
      "text/plain": [
       "((880, 64, 64, 3), (200, 64, 64, 3), (880,), (200,))"
      ]
     },
     "execution_count": 8,
     "metadata": {},
     "output_type": "execute_result"
    }
   ],
   "source": [
    "X_train.shape, X_validation.shape, y_train_tmp.shape, y_validation_tmp.shape"
   ]
  },
  {
   "cell_type": "code",
   "execution_count": 9,
   "metadata": {},
   "outputs": [],
   "source": [
    "# y를 원핫인코딩.\n",
    "from tensorflow.keras.utils import to_categorical\n",
    "y_train = to_categorical(y_train_tmp)\n",
    "y_validation = to_categorical(y_validation_tmp)"
   ]
  },
  {
   "cell_type": "code",
   "execution_count": 10,
   "metadata": {},
   "outputs": [
    {
     "data": {
      "text/plain": [
       "(880, 6)"
      ]
     },
     "execution_count": 10,
     "metadata": {},
     "output_type": "execute_result"
    }
   ],
   "source": [
    "y_train.shape"
   ]
  },
  {
   "cell_type": "code",
   "execution_count": 11,
   "metadata": {},
   "outputs": [
    {
     "data": {
      "text/plain": [
       "(array([0., 0., 0., 0., 1., 0.], dtype=float32), 4)"
      ]
     },
     "execution_count": 11,
     "metadata": {},
     "output_type": "execute_result"
    }
   ],
   "source": [
    "y_train[0], y_train_tmp[0]"
   ]
  },
  {
   "cell_type": "markdown",
   "metadata": {},
   "source": [
    "### 모델 생성\n",
    "- 모델을 생성하고 complile한 뒤 반환하는 함수 만들기"
   ]
  },
  {
   "cell_type": "code",
   "execution_count": 12,
   "metadata": {},
   "outputs": [],
   "source": [
    "from tensorflow.keras import models, layers\n",
    "from tensorflow.keras import optimizers\n",
    "def build_model(learning_rate = 0.00001, dropout_rate=0.5):\n",
    "    model = models.Sequential()\n",
    "    model.add(layers.Conv2D(32, (3,3), activation='relu', \n",
    "                            input_shape=(64, 64, 3), padding='same'))\n",
    "    model.add(layers.MaxPooling2D((2,2)))\n",
    "    \n",
    "    model.add(layers.Conv2D(64, (3,3), activation='relu', padding='same'))\n",
    "    model.add(layers.MaxPooling2D((2,2)))\n",
    "    \n",
    "    model.add(layers.Flatten())\n",
    "    model.add(layers.Dropout(dropout_rate))\n",
    "    model.add(layers.Dense(64, activation='relu'))\n",
    "    \n",
    "    model.add(layers.Dropout(dropout_rate))\n",
    "    model.add(layers.Dense(64, activation='relu'))\n",
    "    \n",
    "    model.add(layers.Dense(6, activation='softmax'))\n",
    "    \n",
    "    model.compile(optimizer=optimizers.Adam(lr=learning_rate),\n",
    "                 loss='categorical_crossentropy',\n",
    "                 metrics=['accuracy'])\n",
    "    return model"
   ]
  },
  {
   "cell_type": "code",
   "execution_count": 13,
   "metadata": {},
   "outputs": [
    {
     "name": "stdout",
     "output_type": "stream",
     "text": [
      "Model: \"sequential\"\n",
      "_________________________________________________________________\n",
      "Layer (type)                 Output Shape              Param #   \n",
      "=================================================================\n",
      "conv2d (Conv2D)              (None, 64, 64, 32)        896       \n",
      "_________________________________________________________________\n",
      "max_pooling2d (MaxPooling2D) (None, 32, 32, 32)        0         \n",
      "_________________________________________________________________\n",
      "conv2d_1 (Conv2D)            (None, 32, 32, 64)        18496     \n",
      "_________________________________________________________________\n",
      "max_pooling2d_1 (MaxPooling2 (None, 16, 16, 64)        0         \n",
      "_________________________________________________________________\n",
      "flatten (Flatten)            (None, 16384)             0         \n",
      "_________________________________________________________________\n",
      "dropout (Dropout)            (None, 16384)             0         \n",
      "_________________________________________________________________\n",
      "dense (Dense)                (None, 64)                1048640   \n",
      "_________________________________________________________________\n",
      "dropout_1 (Dropout)          (None, 64)                0         \n",
      "_________________________________________________________________\n",
      "dense_1 (Dense)              (None, 64)                4160      \n",
      "_________________________________________________________________\n",
      "dense_2 (Dense)              (None, 6)                 390       \n",
      "=================================================================\n",
      "Total params: 1,072,582\n",
      "Trainable params: 1,072,582\n",
      "Non-trainable params: 0\n",
      "_________________________________________________________________\n"
     ]
    }
   ],
   "source": [
    "model = build_model()\n",
    "model.summary()"
   ]
  },
  {
   "cell_type": "code",
   "execution_count": 14,
   "metadata": {},
   "outputs": [],
   "source": [
    "# generator\n",
    "def my_generator(num):\n",
    "    for i in range(num):\n",
    "        yield i"
   ]
  },
  {
   "cell_type": "code",
   "execution_count": 15,
   "metadata": {},
   "outputs": [
    {
     "data": {
      "text/plain": [
       "0"
      ]
     },
     "execution_count": 15,
     "metadata": {},
     "output_type": "execute_result"
    }
   ],
   "source": [
    "g = my_generator(10)\n",
    "next(g)"
   ]
  },
  {
   "cell_type": "code",
   "execution_count": 16,
   "metadata": {},
   "outputs": [
    {
     "name": "stdout",
     "output_type": "stream",
     "text": [
      "0\n",
      "1\n",
      "2\n",
      "3\n",
      "4\n"
     ]
    }
   ],
   "source": [
    "for i in my_generator(5):\n",
    "    print(i)"
   ]
  },
  {
   "cell_type": "code",
   "execution_count": null,
   "metadata": {},
   "outputs": [],
   "source": []
  },
  {
   "cell_type": "markdown",
   "metadata": {},
   "source": [
    "# Image Augmentation\n",
    "- 훈련시킬 이미지 데이터셋이 부족할 경우 기존 이미지를 조금씩 변환시켜 이미지 데이터 양을 늘린다.\n",
    "\n",
    "## ImageDataGenerator를 이용\n",
    "- 이미지를 전처리해서 제공하는 generator 생성해 주는 클래스\n",
    "    - next() 로 호출 될 때 마다 설정대로 변환/전처리된 이미지를 계속 제공하여 하나의 이미지를 여러개로 늘릴 수있다.\n",
    "- 생성자의 매개변수로 이미지를 어떻게 전처리/변환 할지 지정해 준다.\n",
    "- flow() 메소드를 이용해 generator를 생성한다.\n",
    "- 주요 변환속성\n",
    "    - **rescale**: scaling값. image 배열의 원소에 지정한 값을 곱한다.\n",
    "    - **rotation_range**: 0 ~ 지정된 각도 범위내에서 임의로 원본이미지를 회전 (ex: ratation_range = 20 => 0 ~20 도 범위로 회전)\n",
    "    - **width_shift_range**: 지정한 범위내에서 수평 방향으로 원본이미지를 이동. 실수로 지정. (ex: width_shift_range = 0.1  전체 너비의 0.1 범위로 수평이동. 전체 너비가 100이면 10픽셀 이하로 좌우 이동)\n",
    "    - **height_shift_range**: 지정한 범위내에서 수직 방향으로 원본이미지를 이동. 실수로 지정.\n",
    "    - **zoom_range**: 지정된 범위 내에서 원본이미지를 확대/축소. 1-지정한 수치 ~ 1 + 지정한수치 범위로 확대 축소한다.\n",
    "    - **horizontal_flip**: True. 좌우방향으로 뒤집는다.\n",
    "    - **vertical_flip** : True. 아래위방향으로 뒤집는다.\n",
    "- Generator 생성 메소드\n",
    "    - **flow()** : 변환된 이미지 배치를 제공하는 generator 생성\n",
    "        - x: 변환할 이미지 배열. rank 4의 ndarray나 tuple.\n",
    "        - y: 이미지 라벨 배열\n",
    "        - batch_size: 학습시 모델에 한번에 제공할 이미지 개수\n",
    "    - **flow_from_directory()**: 디렉토리를 받아 그 안의 이미지들을 변환해 제공하는 generator 생성\n",
    "        - directory: 이미지 저장 (이미지는 지정한 디렉토리내에 클래스 별로 디렉토리가 나눠져 저장되 있어야 한다. 오름차순으로 번호가 붙는다.),\n",
    "        - target_size : 이미지 resize 크기. 기본값 (256, 256)\n",
    "        - color_mode: 이미지 모드 ('grayscale','rgb'(기본값), 'rgba')\n",
    "        - class_mode: image의 label 형식. 'binary', 'categorical'. \n",
    "        - batch_size: 배치사이즈\n",
    "- **모델에서 학습시 fit_generator()함수 사용. X, y 대신 ImageGenerator객체를 사용한다.**   \n",
    "- https://www.tensorflow.org/api_docs/python/tf/keras/preprocessing/image/ImageDataGenerator?version=stable"
   ]
  },
  {
   "cell_type": "code",
   "execution_count": 17,
   "metadata": {},
   "outputs": [],
   "source": [
    "from tensorflow.keras.preprocessing import image\n",
    "img_gen = image.ImageDataGenerator(rescale=1/255,\n",
    "                                  rotation_range=25,\n",
    "                                  width_shift_range=0.1,\n",
    "                                  height_shift_range=0.1,\n",
    "                                  zoom_range=0.2,\n",
    "                                  horizontal_flip=True,\n",
    "                                  vertical_flip=True)"
   ]
  },
  {
   "cell_type": "code",
   "execution_count": 18,
   "metadata": {},
   "outputs": [],
   "source": [
    "sample_img = X_train[0]"
   ]
  },
  {
   "cell_type": "code",
   "execution_count": 19,
   "metadata": {},
   "outputs": [
    {
     "data": {
      "text/plain": [
       "<matplotlib.image.AxesImage at 0x139349b90>"
      ]
     },
     "execution_count": 19,
     "metadata": {},
     "output_type": "execute_result"
    },
    {
     "data": {
      "image/png": "[encoded data removed]",
      "text/plain": [
       "<Figure size 432x288 with 1 Axes>"
      ]
     },
     "metadata": {
      "needs_background": "light"
     },
     "output_type": "display_data"
    }
   ],
   "source": [
    "plt.imshow(sample_img)"
   ]
  },
  {
   "cell_type": "code",
   "execution_count": null,
   "metadata": {},
   "outputs": [],
   "source": []
  },
  {
   "cell_type": "code",
   "execution_count": 20,
   "metadata": {},
   "outputs": [
    {
     "data": {
      "image/png": "[encoded data removed]",
      "text/plain": [
       "<Figure size 1440x720 with 4 Axes>"
      ]
     },
     "metadata": {
      "needs_background": "light"
     },
     "output_type": "display_data"
    }
   ],
   "source": [
    "max_iter = 4\n",
    "cnt = 1\n",
    "sample_img2 = sample_img[np.newaxis, ...] # (개수, h, w, channel)\n",
    "\n",
    "plt.figure(figsize= (20, 10))\n",
    "for img in img_gen.flow(sample_img2): \n",
    "    plt.subplot(max_iter, 1, cnt)\n",
    "    plt.imshow(image.array_to_img(img[0]))\n",
    "    if cnt==max_iter:\n",
    "        break\n",
    "    cnt += 1"
   ]
  },
  {
   "cell_type": "markdown",
   "metadata": {},
   "source": [
    "## train, validate generator 생성"
   ]
  },
  {
   "cell_type": "code",
   "execution_count": null,
   "metadata": {},
   "outputs": [],
   "source": [
    "from tensorflow.keras.preprocessing import image"
   ]
  },
  {
   "cell_type": "code",
   "execution_count": 21,
   "metadata": {},
   "outputs": [],
   "source": [
    "train_generator = img_gen.flow(X_train, y_train, batch_size=32)\n",
    "validation_generator = img_gen.flow(X_validation, y_validation, batch_size = 50)"
   ]
  },
  {
   "cell_type": "code",
   "execution_count": 22,
   "metadata": {},
   "outputs": [
    {
     "data": {
      "text/plain": [
       "(50, 64, 64, 3)"
      ]
     },
     "execution_count": 22,
     "metadata": {},
     "output_type": "execute_result"
    }
   ],
   "source": [
    "next(validation_generator)[0].shape"
   ]
  },
  {
   "cell_type": "code",
   "execution_count": 38,
   "metadata": {},
   "outputs": [
    {
     "name": "stdout",
     "output_type": "stream",
     "text": [
      "WARNING:tensorflow:sample_weight modes were coerced from\n",
      "  ...\n",
      "    to  \n",
      "  ['...']\n",
      "WARNING:tensorflow:sample_weight modes were coerced from\n",
      "  ...\n",
      "    to  \n",
      "  ['...']\n",
      "Train for 20 steps, validate for 4 steps\n",
      "Epoch 1/5\n",
      "20/20 [==============================] - 4s 217ms/step - loss: 1.9574 - accuracy: 0.1656 - val_loss: 1.7933 - val_accuracy: 0.1650\n",
      "Epoch 2/5\n",
      "20/20 [==============================] - 4s 181ms/step - loss: 1.7950 - accuracy: 0.1656 - val_loss: 1.7928 - val_accuracy: 0.1650\n",
      "Epoch 3/5\n",
      "20/20 [==============================] - 3s 157ms/step - loss: 1.7952 - accuracy: 0.1458 - val_loss: 1.7925 - val_accuracy: 0.1650\n",
      "Epoch 4/5\n",
      "20/20 [==============================] - 5s 233ms/step - loss: 1.7922 - accuracy: 0.1619 - val_loss: 1.7920 - val_accuracy: 0.1650\n",
      "Epoch 5/5\n",
      "20/20 [==============================] - 4s 194ms/step - loss: 1.7929 - accuracy: 0.1715 - val_loss: 1.7918 - val_accuracy: 0.1650\n"
     ]
    },
    {
     "data": {
      "text/plain": [
       "<tensorflow.python.keras.callbacks.History at 0x13ca5b350>"
      ]
     },
     "execution_count": 38,
     "metadata": {},
     "output_type": "execute_result"
    }
   ],
   "source": []
  },
  {
   "cell_type": "markdown",
   "metadata": {},
   "source": [
    "## Model fitting\n",
    "- **train_generator**를 사용하여 모델을 훈련할 때는 **model.fit()** 대신 **model.fit_generator()**를 사용 \n",
    "- 훈련 데이터셋을 대신 (input, target)을 끝없이 반환하는 generator를 첫 argument로 입력\n",
    "- **매개변수**\n",
    "    - **steps_per_epoch**: 한 epoch에서 generator로 부터 몇번 데이터셋을 요청할지 횟수. 지정한 개수당 gradient update(가중치 최적화)를 실행한다.\n",
    "    - `model.fit_generator`를 사용할 때는 훈련데이터가 끝없이 생성되기 때문에 다음 epoch로 넘어가기 전에 몇 번의 gradient update를 시행해 줄 것인지를 명시함\n",
    "        - 1 에폭에서 사용하는 훈련데이터셋의 수는 `generator의 batch_size * steps_per_epoch`. \n",
    "        - ex)generator의 batch_size가 20이고 steps_per_epoch이 50이면 한 epoch에서 사용하는 이미지(변환된) 수는 50 X 20\n",
    "    - **validation_data**: 검증데이터셋 지정. validation_generator나  `(x_val, y_val)`과 같이 tuple 형태의 validation data를 지정.\n",
    "    - **validation_steps**: `validation_data`에 generator를 지정했을 때만 사용하며 몇 번의 data generation을 통해 validataion data를 만들어 낼 것인가를 결정. \n",
    "        - `generator의 batch_size * validation_step`이 1 에폭당 검증데이터크기가 된다. \n",
    "        - 일반적으로 원하는 validation data 개수를 batch_size로 나눈 값으로 지정"
   ]
  },
  {
   "cell_type": "code",
   "execution_count": 1,
   "metadata": {},
   "outputs": [
    {
     "ename": "NameError",
     "evalue": "name 'build_model' is not defined",
     "output_type": "error",
     "traceback": [
      "\u001b[0;31m---------------------------------------------------------------------------\u001b[0m",
      "\u001b[0;31mNameError\u001b[0m                                 Traceback (most recent call last)",
      "\u001b[0;32m<ipython-input-1-fec79af44696>\u001b[0m in \u001b[0;36m<module>\u001b[0;34m\u001b[0m\n\u001b[0;32m----> 1\u001b[0;31m \u001b[0mmodel\u001b[0m\u001b[0;34m=\u001b[0m\u001b[0mbuild_model\u001b[0m\u001b[0;34m(\u001b[0m\u001b[0;36m0.0001\u001b[0m\u001b[0;34m,\u001b[0m \u001b[0;36m0.5\u001b[0m\u001b[0;34m)\u001b[0m\u001b[0;34m\u001b[0m\u001b[0;34m\u001b[0m\u001b[0m\n\u001b[0m\u001b[1;32m      2\u001b[0m model.fit_generator(train_generator, steps_per_epoch=20, epochs=5,\n\u001b[1;32m      3\u001b[0m validation_data=validation_generator,validation_steps=4)\n",
      "\u001b[0;31mNameError\u001b[0m: name 'build_model' is not defined"
     ]
    }
   ],
   "source": [
    "model=build_model(0.0001, 0.5)\n",
    "model.fit_generator(train_generator, steps_per_epoch=20, epochs=5,\n",
    "validation_data=validation_generator,validation_steps=4)"
   ]
  },
  {
   "cell_type": "code",
   "execution_count": 41,
   "metadata": {},
   "outputs": [
    {
     "name": "stdout",
     "output_type": "stream",
     "text": [
      "WARNING:tensorflow:sample_weight modes were coerced from\n",
      "  ...\n",
      "    to  \n",
      "  ['...']\n",
      "WARNING:tensorflow:sample_weight modes were coerced from\n",
      "  ...\n",
      "    to  \n",
      "  ['...']\n",
      "Train for 20 steps, validate for 4 steps\n",
      "Epoch 1/2\n",
      "20/20 [==============================] - 3s 160ms/step - loss: 1.7929 - accuracy: 0.1587 - val_loss: 1.7920 - val_accuracy: 0.1700\n",
      "Epoch 2/2\n",
      "20/20 [==============================] - 3s 166ms/step - loss: 1.7923 - accuracy: 0.1522 - val_loss: 1.7926 - val_accuracy: 0.1650\n"
     ]
    },
    {
     "data": {
      "text/plain": [
       "<tensorflow.python.keras.callbacks.History at 0x13d2db410>"
      ]
     },
     "execution_count": 41,
     "metadata": {},
     "output_type": "execute_result"
    }
   ],
   "source": [
    "# fit_generator()로 학습\n",
    "model.fit_generator(train_generator,\n",
    "                   steps_per_epoch=20,\n",
    "                   epochs=2,\n",
    "                   validation_data=validation_generator,\n",
    "                   validation_steps=4)"
   ]
  },
  {
   "cell_type": "code",
   "execution_count": null,
   "metadata": {},
   "outputs": [],
   "source": []
  },
  {
   "cell_type": "code",
   "execution_count": null,
   "metadata": {},
   "outputs": [],
   "source": []
  },
  {
   "cell_type": "markdown",
   "metadata": {
    "ExecuteTime": {
     "end_time": "2020-01-08T23:25:08.017810Z",
     "start_time": "2020-01-08T23:25:08.012823Z"
    }
   },
   "source": [
    "## 모델 평가\n"
   ]
  },
  {
   "cell_type": "code",
   "execution_count": 47,
   "metadata": {},
   "outputs": [
    {
     "name": "stdout",
     "output_type": "stream",
     "text": [
      "120/120 [==============================] - 0s 2ms/sample - loss: 1.7921 - accuracy: 0.1667\n"
     ]
    }
   ],
   "source": [
    "y_test = to_categorical(y_test_org)\n",
    "test_loss, test_acc = model.evaluate(X_test_org/255, y_test)"
   ]
  },
  {
   "cell_type": "code",
   "execution_count": 48,
   "metadata": {},
   "outputs": [],
   "source": [
    "img_gen2 = image.ImageDataGenerator(rescale=1/255)"
   ]
  },
  {
   "cell_type": "code",
   "execution_count": 49,
   "metadata": {},
   "outputs": [],
   "source": [
    "test_generator = img_gen2.flow(X_test_org, y_test, batch_size=64)"
   ]
  },
  {
   "cell_type": "code",
   "execution_count": 50,
   "metadata": {},
   "outputs": [
    {
     "name": "stdout",
     "output_type": "stream",
     "text": [
      "WARNING:tensorflow:sample_weight modes were coerced from\n",
      "  ...\n",
      "    to  \n",
      "  ['...']\n",
      "WARNING:tensorflow:Your input ran out of data; interrupting training. Make sure that your dataset or generator can generate at least `steps_per_epoch * epochs` batches (in this case, 10 batches). You may need to use the repeat() function when building your dataset.\n"
     ]
    },
    {
     "data": {
      "text/plain": [
       "[0.3583971500396729, 0.16666667]"
      ]
     },
     "execution_count": 50,
     "metadata": {},
     "output_type": "execute_result"
    }
   ],
   "source": [
    "model.evaluate_generator(test_generator, steps=10)"
   ]
  },
  {
   "cell_type": "code",
   "execution_count": null,
   "metadata": {},
   "outputs": [],
   "source": []
  }
 ],
 "metadata": {
  "coursera": {
   "course_slug": "convolutional-neural-networks",
   "graded_item_id": "bwbJV",
   "launcher_item_id": "0TkXB"
  },
  "kernelspec": {
   "display_name": "Python 3",
   "language": "python",
   "name": "python3"
  },
  "language_info": {
   "codemirror_mode": {
    "name": "ipython",
    "version": 3
   },
   "file_extension": ".py",
   "mimetype": "text/x-python",
   "name": "python",
   "nbconvert_exporter": "python",
   "pygments_lexer": "ipython3",
   "version": "3.7.6"
  },
  "toc": {
   "base_numbering": 1,
   "nav_menu": {},
   "number_sections": false,
   "sideBar": true,
   "skip_h1_title": false,
   "title_cell": "Table of Contents",
   "title_sidebar": "Contents",
   "toc_cell": false,
   "toc_position": {},
   "toc_section_display": true,
   "toc_window_display": false
  },
  "varInspector": {
   "cols": {
    "lenName": 16,
    "lenType": 16,
    "lenVar": 40
   },
   "kernels_config": {
    "python": {
     "delete_cmd_postfix": "",
     "delete_cmd_prefix": "del ",
     "library": "var_list.py",
     "varRefreshCmd": "print(var_dic_list())"
    },
    "r": {
     "delete_cmd_postfix": ") ",
     "delete_cmd_prefix": "rm(",
     "library": "var_list.r",
     "varRefreshCmd": "cat(var_dic_list()) "
    }
   },
   "types_to_exclude": [
    "module",
    "function",
    "builtin_function_or_method",
    "instance",
    "_Feature"
   ],
   "window_display": false
  }
 },
 "nbformat": 4,
 "nbformat_minor": 4
}
